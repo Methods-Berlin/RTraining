{
 "cells": [
  {
   "cell_type": "markdown",
   "id": "37eb76d4",
   "metadata": {},
   "source": [
    "## Überschrift\n",
    "\n",
    "### Zweite Überschrift\n",
    "\n",
    "- Liste\n",
    "- Liste\n",
    "- Liste\n",
    "\n",
    "Gleichung: $e^{i\\pi} = -1$"
   ]
  },
  {
   "cell_type": "code",
   "execution_count": 1,
   "id": "653638f4",
   "metadata": {},
   "outputs": [
    {
     "ename": "ERROR",
     "evalue": "Error in parse(text = x, srcfile = src): attempt to use zero-length variable name\n",
     "output_type": "error",
     "traceback": [
      "Error in parse(text = x, srcfile = src): attempt to use zero-length variable name\nTraceback:\n"
     ]
    }
   ],
   "source": [
    "dat <- data.frame(\"Spalte 1\" = c(1,2,3,4), \"Spalte 2\" = c(5,6,7,8))\n",
    "plot(dat)\n",
    "```\n",
    "\n",
    "````{code-cell} r\n",
    "2+4\n",
    "```\n",
    "\n",
    "\n",
    "````{code-cell} r\n",
    "data <- cars[1:4, ]\n",
    "knitr::kable(data, caption = \"Tabelle\")\n",
    "```\n"
   ]
  }
 ],
 "metadata": {
  "jupytext": {
   "formats": "md:myst",
   "text_representation": {
    "extension": ".md",
    "format_name": "myst",
    "format_version": 0.13,
    "jupytext_version": "1.11.5"
   }
  },
  "kernelspec": {
   "display_name": "R",
   "language": "R",
   "name": "ir"
  },
  "language_info": {
   "codemirror_mode": "r",
   "file_extension": ".r",
   "mimetype": "text/x-r-source",
   "name": "R",
   "pygments_lexer": "r",
   "version": "4.2.3"
  },
  "source_map": [
   13,
   28
  ]
 },
 "nbformat": 4,
 "nbformat_minor": 5
}
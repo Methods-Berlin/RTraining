{
 "cells": [
  {
   "cell_type": "markdown",
   "id": "1201846d",
   "metadata": {},
   "source": [
    "Dies ist ein Beispieldokument.\n",
    "\n",
    "## Aufgabe 1\n",
    "\n",
    "Nutze die `print`-Funktion, um 3*5 zu berechnen. Passe hierfür den folgenden Code an:"
   ]
  },
  {
   "cell_type": "code",
   "execution_count": 1,
   "id": "b0d4e693",
   "metadata": {},
   "outputs": [
    {
     "name": "stdout",
     "output_type": "stream",
     "text": [
      "[1] 4\n"
     ]
    }
   ],
   "source": [
    "print(2 + 2)"
   ]
  }
 ],
 "metadata": {
  "jupytext": {
   "formats": "md:myst",
   "text_representation": {
    "extension": ".md",
    "format_name": "myst",
    "format_version": 0.13,
    "jupytext_version": "1.11.5"
   }
  },
  "kernelspec": {
   "display_name": "R",
   "language": "R",
   "name": "ir"
  },
  "language_info": {
   "codemirror_mode": "r",
   "file_extension": ".r",
   "mimetype": "text/x-r-source",
   "name": "R",
   "pygments_lexer": "r",
   "version": "4.2.3"
  },
  "source_map": [
   13,
   21
  ]
 },
 "nbformat": 4,
 "nbformat_minor": 5
}
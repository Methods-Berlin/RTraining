{
 "cells": [
  {
   "cell_type": "markdown",
   "id": "94c148cb",
   "metadata": {},
   "source": [
    "# Dataframe \n",
    "\n",
    "<a href=https://raw.githubusercontent.com/Methods-Berlin/RTraining/main/Aufgaben_rmd/Dataframe.Rmd download=Dataframe.Rmd>RMarkdown-Datei mit Lösungen herunterladen</a>\n",
    "\n",
    "\n",
    "<a href=https://raw.githubusercontent.com/Methods-Berlin/RTraining/Rmd_ohne_Loesung/Rmd_ohne_Loesungen/Dataframe.Rmd download=Dataframe.Rmd>RMarkdown-Datei ohne Lösungen herunterladen</a>\n",
    "\n",
    "\n",
    "## Aufgabe 1\n",
    "\n",
    "Erstelle eine Matrix `scores` mit den Werten $2, 3, 2, 3, 4, 5, 4, 3, 5, 2, 3, 3$ mit drei Spalten und vier Zeilen. Die Werte sollen zeilenweise eingetragen werden. Dann wandle die Matrix in einen Dataframe `data` um. Benenne die Spalten: `Item 1`, `Item 2`, `Item 3`. Lass dir die Werte der ersten Spalte (`Item 1`) ausgeben."
   ]
  },
  {
   "cell_type": "code",
   "execution_count": 1,
   "id": "49ee35f5",
   "metadata": {},
   "outputs": [],
   "source": [
    "# Hier kannst du deine Lösung ausprobieren.\n",
    "\n"
   ]
  },
  {
   "cell_type": "markdown",
   "id": "3371d7cc",
   "metadata": {},
   "source": [
    "<!-- loesung: start-->"
   ]
  },
  {
   "cell_type": "code",
   "execution_count": 2,
   "id": "b28f8813",
   "metadata": {
    "tags": [
     "hide-cell"
    ]
   },
   "outputs": [
    {
     "data": {
      "text/html": [
       "<style>\n",
       ".list-inline {list-style: none; margin:0; padding: 0}\n",
       ".list-inline>li {display: inline-block}\n",
       ".list-inline>li:not(:last-child)::after {content: \"\\00b7\"; padding: 0 .5ex}\n",
       "</style>\n",
       "<ol class=list-inline><li>2</li><li>3</li><li>4</li><li>2</li></ol>\n"
      ],
      "text/latex": [
       "\\begin{enumerate*}\n",
       "\\item 2\n",
       "\\item 3\n",
       "\\item 4\n",
       "\\item 2\n",
       "\\end{enumerate*}\n"
      ],
      "text/markdown": [
       "1. 2\n",
       "2. 3\n",
       "3. 4\n",
       "4. 2\n",
       "\n",
       "\n"
      ],
      "text/plain": [
       "[1] 2 3 4 2"
      ]
     },
     "metadata": {},
     "output_type": "display_data"
    }
   ],
   "source": [
    "scores <- matrix(c( 2, 3, 2, 3, 4, 5, 4, 3, 5, 2, 3, 3), nrow = 4, ncol = 3, byrow = TRUE)\n",
    "data <- data.frame(scores)\n",
    "colnames(data) <- c(\"Item 1\", \"Item 2\", \"Item 3\")\n",
    "data[ , 1]"
   ]
  },
  {
   "cell_type": "markdown",
   "id": "e89c21f2",
   "metadata": {},
   "source": [
    "<!-- loesung: ende-->\n",
    "\n",
    "\n",
    "## Aufgabe 2\n",
    "\n",
    "Nehme in den bestehenden Datensatz eine weitere Variable `consent` mit auf, die beinhaltet, ob die Teilnehmer*innen ihre Einwilligung für die Studienteilnahme gegeben haben. Bis auf die letzte Person haben alle ihre Einwilligung gegeben. Verwende dazu logische Werte (TRUE oder FALSE)."
   ]
  },
  {
   "cell_type": "code",
   "execution_count": 3,
   "id": "4496f9ee",
   "metadata": {},
   "outputs": [],
   "source": [
    "# Hier kannst du deine Lösung ausprobieren.\n",
    "\n"
   ]
  },
  {
   "cell_type": "markdown",
   "id": "737b1c91",
   "metadata": {},
   "source": [
    "<!-- loesung: start-->"
   ]
  },
  {
   "cell_type": "code",
   "execution_count": 4,
   "id": "7bf23287",
   "metadata": {
    "tags": [
     "hide-cell"
    ]
   },
   "outputs": [],
   "source": [
    "consent <- c(TRUE, TRUE, TRUE, FALSE)\n",
    "data$consent <- consent"
   ]
  },
  {
   "cell_type": "markdown",
   "id": "b1edd774",
   "metadata": {},
   "source": [
    "<!-- loesung: ende-->\n",
    "\n",
    "\n",
    "## Aufgabe 3\n",
    "\n",
    "Du führst eine Persönlichkeitsstudie durch und möchtest mit Hilfe eines Fragebogens die Extraversion und Verträglichkeit von vier Personen erfassen. Am Ende erhältst du für jeden Teilnehmer die Mittelwerte der jeweiligen Skala. Die Mittelwerte für Extraversion der vier Personen sind $3.0, 2.5, 3.0, 3.5$ und die Mittelwerte für Verträglichkeit sind: $4.0, 3.5, 4.5, 3.0$. Erstelle einen Datensatz `Persönlichkeit` mit drei Spalten: `Teilnehmer`, `E` (Extraversion) und `V` (Verträglichkeit). Lass dir den Wert für Verträglichkeit des zweiten Teilnehmers ausgeben."
   ]
  },
  {
   "cell_type": "code",
   "execution_count": 5,
   "id": "00a3310e",
   "metadata": {},
   "outputs": [],
   "source": [
    "# Hier kannst du deine Lösung ausprobieren.\n",
    "\n"
   ]
  },
  {
   "cell_type": "markdown",
   "id": "7c32aee8",
   "metadata": {},
   "source": [
    "<!-- loesung: start-->"
   ]
  },
  {
   "cell_type": "code",
   "execution_count": 6,
   "id": "5fe2e37a",
   "metadata": {
    "tags": [
     "hide-cell"
    ]
   },
   "outputs": [
    {
     "data": {
      "text/html": [
       "3.5"
      ],
      "text/latex": [
       "3.5"
      ],
      "text/markdown": [
       "3.5"
      ],
      "text/plain": [
       "[1] 3.5"
      ]
     },
     "metadata": {},
     "output_type": "display_data"
    }
   ],
   "source": [
    "Teilnehmer <- c(1, 2, 3, 4)\n",
    "E <- c(3.0, 2.5, 3.0, 3.5)\n",
    "V <- c(4.0, 3.5, 4.5, 3.0)\n",
    "\n",
    "Persönlichkeit <- data.frame(Teilnehmer, E, V)\n",
    "\n",
    "Persönlichkeit[2, 3] "
   ]
  },
  {
   "cell_type": "markdown",
   "id": "d886631a",
   "metadata": {},
   "source": [
    "<!-- loesung: ende-->"
   ]
  }
 ],
 "metadata": {
  "jupytext": {
   "formats": "md:myst",
   "text_representation": {
    "extension": ".md",
    "format_name": "myst",
    "format_version": 0.13,
    "jupytext_version": "1.11.5"
   }
  },
  "kernelspec": {
   "display_name": "R",
   "language": "R",
   "name": "ir"
  },
  "language_info": {
   "codemirror_mode": "r",
   "file_extension": ".r",
   "mimetype": "text/x-r-source",
   "name": "R",
   "pygments_lexer": "r",
   "version": "4.3.1"
  },
  "source_map": [
   13,
   27,
   31,
   36,
   44,
   55,
   59,
   64,
   70,
   80,
   84,
   89,
   100
  ]
 },
 "nbformat": 4,
 "nbformat_minor": 5
}
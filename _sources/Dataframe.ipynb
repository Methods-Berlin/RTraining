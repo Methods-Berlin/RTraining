{
 "cells": [
  {
   "cell_type": "markdown",
   "id": "ffd7f883",
   "metadata": {},
   "source": [
    "# Dataframe \n",
    "\n",
    "<a href=https://raw.githubusercontent.com/Methods-Berlin/RTraining/main/Aufgaben_rmd/Dataframe.Rmd download=Dataframe.Rmd>RMarkdown-Datei mit Lösungen herunterladen</a>\n",
    "\n",
    "\n",
    "<a href=https://raw.githubusercontent.com/Methods-Berlin/RTraining/Rmd_ohne_Loesung/Rmd_ohne_Loesungen/Dataframe.Rmd download=Dataframe.Rmd>RMarkdown-Datei ohne Lösungen herunterladen</a>\n",
    "\n",
    "\n",
    "Erstelle eine Matrix \"scores\" mit den Werten 2, 3, 2, 3, 4, 5, 4, 3, 5, 2, 3, 3 mit 3 Spalten und 4 Zeilen. Die Werten sollen zeilenweise eingetragen werden. Wandle die Matrix dann in ein Dataframe \"data\". Bennene die Spalten: \"Item 1\", \"Item 2\", \"Item 3\". Greife die Werte der 1. Spalte (\"Item 1\") heraus."
   ]
  },
  {
   "cell_type": "code",
   "execution_count": 1,
   "id": "5fe54852",
   "metadata": {},
   "outputs": [],
   "source": [
    "# Hier kannst du deine Lösung ausprobieren.\n",
    "\n"
   ]
  },
  {
   "cell_type": "markdown",
   "id": "24ab6185",
   "metadata": {},
   "source": [
    "<!-- loesung: start-->"
   ]
  },
  {
   "cell_type": "code",
   "execution_count": 2,
   "id": "a5cf8ef1",
   "metadata": {
    "tags": [
     "hide-cell"
    ]
   },
   "outputs": [
    {
     "data": {
      "text/html": [
       "<style>\n",
       ".list-inline {list-style: none; margin:0; padding: 0}\n",
       ".list-inline>li {display: inline-block}\n",
       ".list-inline>li:not(:last-child)::after {content: \"\\00b7\"; padding: 0 .5ex}\n",
       "</style>\n",
       "<ol class=list-inline><li>2</li><li>3</li><li>4</li><li>2</li></ol>\n"
      ],
      "text/latex": [
       "\\begin{enumerate*}\n",
       "\\item 2\n",
       "\\item 3\n",
       "\\item 4\n",
       "\\item 2\n",
       "\\end{enumerate*}\n"
      ],
      "text/markdown": [
       "1. 2\n",
       "2. 3\n",
       "3. 4\n",
       "4. 2\n",
       "\n",
       "\n"
      ],
      "text/plain": [
       "[1] 2 3 4 2"
      ]
     },
     "metadata": {},
     "output_type": "display_data"
    }
   ],
   "source": [
    "scores <- matrix(c( 2, 3, 2, 3, 4, 5, 4, 3, 5, 2, 3, 3), nrow = 4, ncol = 3, byrow = TRUE)\n",
    "data <- data.frame(scores)\n",
    "colnames(data) <- c(\"Item 1\", \"Item 2\", \"Item 3\")\n",
    "data[ , 1]"
   ]
  },
  {
   "cell_type": "markdown",
   "id": "bd966d49",
   "metadata": {},
   "source": [
    "<!-- loesung: ende-->\n",
    "\n",
    "\n",
    "Nehme in den bestehenden Datensatz eine weitere Variable \"Consent\" mit auf, die beinhaltet, ob die Teilnehmer*innen ihre Einwilligung für die Studienteilnahme gegeben haben. Alle außer der letzten Person haben ihre Einwilligung gegeben. Mache dies mithilfe logischer Werte (Booleans)."
   ]
  },
  {
   "cell_type": "code",
   "execution_count": 3,
   "id": "0cc5484a",
   "metadata": {},
   "outputs": [],
   "source": [
    "# Hier kannst du deine Lösung ausprobieren.\n",
    "\n"
   ]
  },
  {
   "cell_type": "markdown",
   "id": "67aafcf1",
   "metadata": {},
   "source": [
    "<!-- loesung: start-->"
   ]
  },
  {
   "cell_type": "code",
   "execution_count": 4,
   "id": "b9445d1c",
   "metadata": {
    "tags": [
     "hide-cell"
    ]
   },
   "outputs": [],
   "source": [
    "Consent <- c(TRUE, TRUE, TRUE, FALSE)\n",
    "data$Consent <- Consent"
   ]
  },
  {
   "cell_type": "markdown",
   "id": "0026236e",
   "metadata": {},
   "source": [
    "<!-- loesung: ende-->\n",
    "\n",
    "\n",
    "Du führst eine Studie zur Persönlichkeit durch und möchtest bei 4 Personen Extraversion und Verträglichkeit mithilfe eines Fragebogens erfassen. Schließlich bekommst du die Mittelwerte der jeweiligen Skala für jeden Teilnehmer. Die Mittelwerte für Extraversion für die 4 Teilnehmer sind: 3.0, 2.5, 3.0, 3.5 und die Mittelwerte der Verträglichkeit sind: 4.0, 3.5, 4.5, 3.0. Erstelle einen Datensatz \"Persönlichkeit\" mit 3 Spalten: \"Teilnehmer\", \"E\" (Extraversion) und \"V\" (Verträglichkeit). Greife den Wert für Verträglichkeit des 2. Teilnehmers heraus."
   ]
  },
  {
   "cell_type": "code",
   "execution_count": 5,
   "id": "d4598950",
   "metadata": {},
   "outputs": [],
   "source": [
    "# Hier kannst du deine Lösung ausprobieren.\n",
    "\n"
   ]
  },
  {
   "cell_type": "markdown",
   "id": "351ebd1a",
   "metadata": {},
   "source": [
    "<!-- loesung: start-->"
   ]
  },
  {
   "cell_type": "code",
   "execution_count": 6,
   "id": "c0cfbecb",
   "metadata": {
    "tags": [
     "hide-cell"
    ]
   },
   "outputs": [
    {
     "data": {
      "text/html": [
       "3.5"
      ],
      "text/latex": [
       "3.5"
      ],
      "text/markdown": [
       "3.5"
      ],
      "text/plain": [
       "[1] 3.5"
      ]
     },
     "metadata": {},
     "output_type": "display_data"
    }
   ],
   "source": [
    "Teilnehmer <- c(1, 2, 3, 4)\n",
    "E <- c(3.0, 2.5, 3.0, 3.5)\n",
    "V <- c(4.0, 3.5, 4.5, 3.0)\n",
    "\n",
    "Persönlichkeit <- data.frame(Teilnehmer, E, V)\n",
    "\n",
    "Persönlichkeit[2, 3] "
   ]
  },
  {
   "cell_type": "markdown",
   "id": "440b926c",
   "metadata": {},
   "source": [
    "<!-- loesung: ende-->"
   ]
  }
 ],
 "metadata": {
  "jupytext": {
   "formats": "md:myst",
   "text_representation": {
    "extension": ".md",
    "format_name": "myst",
    "format_version": 0.13,
    "jupytext_version": "1.11.5"
   }
  },
  "kernelspec": {
   "display_name": "R",
   "language": "R",
   "name": "ir"
  },
  "language_info": {
   "codemirror_mode": "r",
   "file_extension": ".r",
   "mimetype": "text/x-r-source",
   "name": "R",
   "pygments_lexer": "r",
   "version": "4.2.3"
  },
  "source_map": [
   13,
   25,
   29,
   34,
   42,
   51,
   55,
   60,
   66,
   74,
   78,
   83,
   94
  ]
 },
 "nbformat": 4,
 "nbformat_minor": 5
}
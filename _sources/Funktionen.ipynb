{
 "cells": [
  {
   "cell_type": "markdown",
   "id": "a41eb39b",
   "metadata": {},
   "source": [
    "# Funktionen\n",
    "\n",
    "<a href=https://raw.githubusercontent.com/Methods-Berlin/RTraining/main/Aufgaben_rmd/Funktionen.Rmd download=Funktionen.Rmd>RMarkdown-Datei mit Lösungen herunterladen</a>\n",
    "\n",
    "\n",
    "<a href=https://raw.githubusercontent.com/Methods-Berlin/RTraining/Rmd_ohne_Loesung/Rmd_ohne_Loesungen/Funktionen.Rmd download=Funktionen.Rmd>RMarkdown-Datei ohne Lösungen herunterladen</a>\n",
    "\n",
    "\n",
    "\n",
    "## Aufgabe 1\n",
    "\n",
    "Schreibe eine Funktion `multi`, die zwei \"Zutaten\" (x und y) benötigt. Diese Funktion multipliziert die beiden Zutaten, \n",
    "speichert das Produkt in einer Variable `p` und gibt es wieder zurück. Wende dann diese Funktion auf die Werte $x = 3,  y = 4$ \n",
    "und $x = -1,  y = 10$ an."
   ]
  },
  {
   "cell_type": "code",
   "execution_count": 1,
   "id": "d3449752",
   "metadata": {},
   "outputs": [],
   "source": [
    "# Hier kannst du deine Lösung ausprobieren.\n",
    "\n"
   ]
  },
  {
   "cell_type": "markdown",
   "id": "d2a19e77",
   "metadata": {},
   "source": [
    "<!-- loesung: start-->"
   ]
  },
  {
   "cell_type": "code",
   "execution_count": 2,
   "id": "fe828478",
   "metadata": {
    "tags": [
     "hide-cell"
    ]
   },
   "outputs": [
    {
     "data": {
      "text/html": [
       "12"
      ],
      "text/latex": [
       "12"
      ],
      "text/markdown": [
       "12"
      ],
      "text/plain": [
       "[1] 12"
      ]
     },
     "metadata": {},
     "output_type": "display_data"
    },
    {
     "data": {
      "text/html": [
       "-10"
      ],
      "text/latex": [
       "-10"
      ],
      "text/markdown": [
       "-10"
      ],
      "text/plain": [
       "[1] -10"
      ]
     },
     "metadata": {},
     "output_type": "display_data"
    }
   ],
   "source": [
    "multi <- function(x,y) {\n",
    "  p <- x * y\n",
    "  return(p)\n",
    "}\n",
    "\n",
    "multi(x = 3, y = 4)\n",
    "multi(x = -1, y = 10)"
   ]
  },
  {
   "cell_type": "markdown",
   "id": "d02c919a",
   "metadata": {},
   "source": [
    "<!-- loesung: ende-->\n",
    "\n",
    "\n",
    "## Aufgabe 2\n",
    "\n",
    "Schreibe eine Funktion `quadrat`, die eine Zutat benötigt und aus der das Quadrat berechnet wird. Das Ergebnis wird in einer Variable `s` gespeichert und zurückgegeben. Probiere die Funktion aus!"
   ]
  },
  {
   "cell_type": "code",
   "execution_count": 3,
   "id": "884a11eb",
   "metadata": {},
   "outputs": [],
   "source": [
    "# Hier kannst du deine Lösung ausprobieren.\n",
    "\n"
   ]
  },
  {
   "cell_type": "markdown",
   "id": "a012ebfb",
   "metadata": {},
   "source": [
    "<!-- loesung: start-->"
   ]
  },
  {
   "cell_type": "code",
   "execution_count": 4,
   "id": "d5016d53",
   "metadata": {
    "tags": [
     "hide-cell"
    ]
   },
   "outputs": [
    {
     "data": {
      "text/html": [
       "4"
      ],
      "text/latex": [
       "4"
      ],
      "text/markdown": [
       "4"
      ],
      "text/plain": [
       "[1] 4"
      ]
     },
     "metadata": {},
     "output_type": "display_data"
    },
    {
     "data": {
      "text/html": [
       "100"
      ],
      "text/latex": [
       "100"
      ],
      "text/markdown": [
       "100"
      ],
      "text/plain": [
       "[1] 100"
      ]
     },
     "metadata": {},
     "output_type": "display_data"
    }
   ],
   "source": [
    "quadrat <- function(x) {\n",
    "  s <- x^2\n",
    "  return(s)\n",
    "}\n",
    "\n",
    "# Funktion ausprobieren\n",
    "quadrat(2)\n",
    "quadrat(10)"
   ]
  },
  {
   "cell_type": "markdown",
   "id": "dc9acf6c",
   "metadata": {},
   "source": [
    "<!-- loesung: ende-->\n",
    "\n",
    "\n",
    "## Aufgabe 3\n",
    "\n",
    "Schreibe eine Funktion `durchschnitt`, die einen Vektor `x` als Input benötigt. Diese Funktion soll die Werte dieses Vektors mit der Funktion `sum()` addieren und durch die Anzahl der Werte (Vektorlänge) mit der Funktion `length()` dividieren. Du kannst die Produkte beliebig nennen, wobei das Endprodukt zurückgegeben wird. Probiere die Funktion aus! Fällt dir etwas auf?"
   ]
  },
  {
   "cell_type": "code",
   "execution_count": 5,
   "id": "ce348773",
   "metadata": {},
   "outputs": [],
   "source": [
    "# Hier kannst du deine Lösung ausprobieren.\n",
    "\n"
   ]
  },
  {
   "cell_type": "markdown",
   "id": "7d6e57a9",
   "metadata": {},
   "source": [
    "<!-- loesung: start-->"
   ]
  },
  {
   "cell_type": "code",
   "execution_count": 6,
   "id": "9f8d0e95",
   "metadata": {
    "tags": [
     "hide-cell"
    ]
   },
   "outputs": [
    {
     "data": {
      "text/html": [
       "6"
      ],
      "text/latex": [
       "6"
      ],
      "text/markdown": [
       "6"
      ],
      "text/plain": [
       "[1] 6"
      ]
     },
     "metadata": {},
     "output_type": "display_data"
    }
   ],
   "source": [
    "durchschnitt <- function(x) {\n",
    "  summe <- sum(x)\n",
    "  anzahl <- length(x)\n",
    "  schnitt <- summe / anzahl\n",
    "  return(schnitt)\n",
    "}\n",
    "\n",
    "# Funktion ausprobieren\n",
    "x <- c(2, 4, 6, 8, 10)\n",
    "durchschnitt(x) \n",
    "\n",
    "# Genau das macht die mean() Funktion! "
   ]
  },
  {
   "cell_type": "markdown",
   "id": "4cdf3447",
   "metadata": {},
   "source": [
    "<!-- loesung: ende-->"
   ]
  }
 ],
 "metadata": {
  "jupytext": {
   "formats": "md:myst",
   "text_representation": {
    "extension": ".md",
    "format_name": "myst",
    "format_version": 0.13,
    "jupytext_version": "1.11.5"
   }
  },
  "kernelspec": {
   "display_name": "R",
   "language": "R",
   "name": "ir"
  },
  "language_info": {
   "codemirror_mode": "r",
   "file_extension": ".r",
   "mimetype": "text/x-r-source",
   "name": "R",
   "pygments_lexer": "r",
   "version": "4.3.1"
  },
  "source_map": [
   13,
   30,
   34,
   39,
   50,
   60,
   64,
   69,
   81,
   92,
   96,
   101,
   117
  ]
 },
 "nbformat": 4,
 "nbformat_minor": 5
}
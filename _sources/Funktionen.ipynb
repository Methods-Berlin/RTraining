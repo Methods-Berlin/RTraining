{
 "cells": [
  {
   "cell_type": "markdown",
   "id": "6a3539af",
   "metadata": {},
   "source": [
    "# Funktionen\n",
    "\n",
    "<a href=https://raw.githubusercontent.com/Methods-Berlin/RTraining/main/Aufgaben_rmd/Funktionen.Rmd download=Funktionen.Rmd>RMarkdown-Datei mit Lösungen herunterladen</a>\n",
    "\n",
    "\n",
    "<a href=https://raw.githubusercontent.com/Methods-Berlin/RTraining/Rmd_ohne_Loesung/Rmd_ohne_Loesungen/Funktionen.Rmd download=Funktionen.Rmd>RMarkdown-Datei ohne Lösungen herunterladen</a>\n",
    "\n",
    "\n",
    "\n",
    "Schreibe eine Funktion \"multi\", die 2 \"Zutaten\" (x und y) braucht. Diese Funktion multipliziert die beiden Zutaten, speichert das Produkt in einer Variable \"p\" und gibt es wieder zurück. Wende dann diese Funktion den Werten x = 3 & y = 4 und x = -1 & y = 10 an."
   ]
  },
  {
   "cell_type": "code",
   "execution_count": 1,
   "id": "d275b21a",
   "metadata": {},
   "outputs": [],
   "source": [
    "# Hier kannst du deine Lösung ausprobieren.\n",
    "\n"
   ]
  },
  {
   "cell_type": "markdown",
   "id": "78d3876e",
   "metadata": {},
   "source": [
    "<!-- loesung: start-->"
   ]
  },
  {
   "cell_type": "code",
   "execution_count": 2,
   "id": "5c2d34a0",
   "metadata": {
    "tags": [
     "hide-cell"
    ]
   },
   "outputs": [
    {
     "data": {
      "text/html": [
       "12"
      ],
      "text/latex": [
       "12"
      ],
      "text/markdown": [
       "12"
      ],
      "text/plain": [
       "[1] 12"
      ]
     },
     "metadata": {},
     "output_type": "display_data"
    },
    {
     "data": {
      "text/html": [
       "-10"
      ],
      "text/latex": [
       "-10"
      ],
      "text/markdown": [
       "-10"
      ],
      "text/plain": [
       "[1] -10"
      ]
     },
     "metadata": {},
     "output_type": "display_data"
    }
   ],
   "source": [
    "multi <- function(x,y) {\n",
    "  p <- x * y\n",
    "  return(p)\n",
    "}\n",
    "\n",
    "multi(x = 3, y = 4)\n",
    "multi(x = -1, y = 10)"
   ]
  },
  {
   "cell_type": "markdown",
   "id": "4908788a",
   "metadata": {},
   "source": [
    "<!-- loesung: ende-->\n",
    "\n",
    "\n",
    "Schreibe eine Funktion \"quadrat\", die eine Zutat braucht und von der die Quadratzahl berechnet wird. Das Ergebnis wird als Variable \"t\" gespeichert und zurückgegeben. Probiere die Funktion aus!"
   ]
  },
  {
   "cell_type": "code",
   "execution_count": 3,
   "id": "5591f75e",
   "metadata": {},
   "outputs": [],
   "source": [
    "# Hier kannst du deine Lösung ausprobieren.\n",
    "\n"
   ]
  },
  {
   "cell_type": "markdown",
   "id": "456ea129",
   "metadata": {},
   "source": [
    "<!-- loesung: start-->"
   ]
  },
  {
   "cell_type": "code",
   "execution_count": 4,
   "id": "7ff79b4d",
   "metadata": {
    "tags": [
     "hide-cell"
    ]
   },
   "outputs": [
    {
     "data": {
      "text/html": [
       "4"
      ],
      "text/latex": [
       "4"
      ],
      "text/markdown": [
       "4"
      ],
      "text/plain": [
       "[1] 4"
      ]
     },
     "metadata": {},
     "output_type": "display_data"
    },
    {
     "data": {
      "text/html": [
       "100"
      ],
      "text/latex": [
       "100"
      ],
      "text/markdown": [
       "100"
      ],
      "text/plain": [
       "[1] 100"
      ]
     },
     "metadata": {},
     "output_type": "display_data"
    }
   ],
   "source": [
    "quadrat <- function(x) {\n",
    "  t <- x^2\n",
    "  return(t)\n",
    "}\n",
    "\n",
    "# Funktion ausprobieren\n",
    "quadrat(2)\n",
    "quadrat(10)"
   ]
  },
  {
   "cell_type": "markdown",
   "id": "e9a84513",
   "metadata": {},
   "source": [
    "<!-- loesung: ende-->\n",
    "\n",
    "\n",
    "Schreibe eine Funktion \"durchschnitt\", die einen Vektor \"x\" als die Zutat braucht. Diese Funktion soll die Werte dieses Vektors mithilfe der Funktion sum() aufsummieren und durch die Anzahl der Werte bzw. Vektorlänge mithilfe der length() Funktion teilen. Du kannst die Produkte beliebig nennen, wobei das Endprodukt zurückgegeben wird. Probiere die Funktion aus! Fällt dir etwas auf?"
   ]
  },
  {
   "cell_type": "code",
   "execution_count": 5,
   "id": "323a5fb3",
   "metadata": {},
   "outputs": [],
   "source": [
    "# Hier kannst du deine Lösung ausprobieren.\n",
    "\n"
   ]
  },
  {
   "cell_type": "markdown",
   "id": "b25bf42f",
   "metadata": {},
   "source": [
    "<!-- loesung: start-->"
   ]
  },
  {
   "cell_type": "code",
   "execution_count": 6,
   "id": "e8b4acf9",
   "metadata": {
    "tags": [
     "hide-cell"
    ]
   },
   "outputs": [
    {
     "data": {
      "text/html": [
       "6"
      ],
      "text/latex": [
       "6"
      ],
      "text/markdown": [
       "6"
      ],
      "text/plain": [
       "[1] 6"
      ]
     },
     "metadata": {},
     "output_type": "display_data"
    }
   ],
   "source": [
    "durchschnitt <- function(x) {\n",
    "  summe <- sum(x)\n",
    "  anzahl <- length(x)\n",
    "  schnitt <- summe / anzahl\n",
    "  return(schnitt)\n",
    "}\n",
    "\n",
    "# Funktion ausprobieren\n",
    "x <- c(2, 4, 6, 8, 10)\n",
    "durchschnitt(x) \n",
    "\n",
    "# Genau das macht die mean() Funktion! "
   ]
  },
  {
   "cell_type": "markdown",
   "id": "e8065eeb",
   "metadata": {},
   "source": [
    "<!-- loesung: ende-->"
   ]
  }
 ],
 "metadata": {
  "jupytext": {
   "formats": "md:myst",
   "text_representation": {
    "extension": ".md",
    "format_name": "myst",
    "format_version": 0.13,
    "jupytext_version": "1.11.5"
   }
  },
  "kernelspec": {
   "display_name": "R",
   "language": "R",
   "name": "ir"
  },
  "language_info": {
   "codemirror_mode": "r",
   "file_extension": ".r",
   "mimetype": "text/x-r-source",
   "name": "R",
   "pygments_lexer": "r",
   "version": "4.2.3"
  },
  "source_map": [
   13,
   26,
   30,
   35,
   46,
   54,
   58,
   63,
   75,
   84,
   88,
   93,
   109
  ]
 },
 "nbformat": 4,
 "nbformat_minor": 5
}
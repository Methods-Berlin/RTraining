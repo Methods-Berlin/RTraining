{
 "cells": [
  {
   "cell_type": "markdown",
   "id": "e7df3a58",
   "metadata": {},
   "source": [
    "# Funktionen in R\n",
    "\n",
    "Im Folgenden wollen wir uns mit Funktionen in R beschäftigen. Wir gucken uns an, wie Funktionen aufgebaut sind und schreiben selbst eine. \n",
    "\n",
    "> Funktionen sind (Unter-)Programme, die eine gewisse Funktionalität haben, d.h. eine bestimmte Aufgabe ausführen.\n",
    "\n",
    "<aside>\n",
    "  testing aside\n",
    "</aside>\n",
    "\n",
    "\n",
    "<details>\n",
    "    <summary>Testing Details</summary>\n",
    "    Some details details\n",
    "</details>\n",
    "\n",
    "```{dropdown} Testing Dropdown\n",
    "Some dropdown details\n",
    "```\n",
    "\n",
    "````{dropdown} Testing Dropdown with code\n",
    "```{code-cell} r\n",
    "neue_funktion <- function(x,y){\n",
    "    x+y}\n",
    "\n",
    "neue_funktion(2,3)\n",
    "```\n",
    "````\n",
    "\n",
    "Wir können aber auch selbst Funktionen schreiben, um Abläufe zu automatisieren, die wir oft benutzen."
   ]
  },
  {
   "cell_type": "code",
   "execution_count": 1,
   "id": "712491b3",
   "metadata": {},
   "outputs": [
    {
     "data": {
      "text/html": [
       "5"
      ],
      "text/latex": [
       "5"
      ],
      "text/markdown": [
       "5"
      ],
      "text/plain": [
       "[1] 5"
      ]
     },
     "metadata": {},
     "output_type": "display_data"
    }
   ],
   "source": [
    "neue_funktion <- function(x,y){\n",
    "    x+y}\n",
    "\n",
    "neue_funktion(2,3)"
   ]
  },
  {
   "cell_type": "markdown",
   "id": "431f6f20",
   "metadata": {},
   "source": [
    "Jetzt wollen wir eine Funktionen schreiben, die Fahrenheit in Celsius umrechnet.\n",
    "\n",
    "`````{tab-set}\n",
    "````{tab-item}\n",
    "```{code-cell} Übung\n",
    "f_to_c <- \n",
    "```\n",
    "````\n",
    "\n",
    "````{tab-item}\n",
    "```{code-cell} Lösung\n",
    "f_to_c <- my_function(){}\n",
    "```\n",
    "````\n",
    "`````"
   ]
  }
 ],
 "metadata": {
  "jupytext": {
   "formats": "md:myst",
   "text_representation": {
    "extension": ".md",
    "format_name": "myst",
    "format_version": 0.13,
    "jupytext_version": "1.11.5"
   }
  },
  "kernelspec": {
   "display_name": "R",
   "language": "R",
   "name": "ir"
  },
  "language_info": {
   "codemirror_mode": "r",
   "file_extension": ".r",
   "mimetype": "text/x-r-source",
   "name": "R",
   "pygments_lexer": "r",
   "version": "4.2.3"
  },
  "source_map": [
   13,
   46,
   51
  ]
 },
 "nbformat": 4,
 "nbformat_minor": 5
}
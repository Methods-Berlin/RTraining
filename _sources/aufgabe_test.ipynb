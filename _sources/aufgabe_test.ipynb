{
 "cells": [
  {
   "cell_type": "markdown",
   "id": "40d84f2f",
   "metadata": {},
   "source": [
    "# Funktionen in R\n",
    "\n",
    "Im Folgenden wollen wir uns mit Funktionen in R beschäftigen. Wir gucken uns an, wie Funktionen aufgebaut sind und schreiben selbst eine. \n",
    "\n",
    "> Funktionen sind (Unter-)Programme, die eine gewisse Funktionalität haben, d.h. eine bestimmte Aufgabe ausführen.\n",
    "\n",
    "```{dropdown} Testing Dropdown\n",
    "Some dropdown details\n",
    "```"
   ]
  },
  {
   "cell_type": "code",
   "execution_count": 1,
   "id": "80a24625",
   "metadata": {
    "tags": [
     "hide-cell"
    ]
   },
   "outputs": [
    {
     "data": {
      "text/html": [
       "5"
      ],
      "text/latex": [
       "5"
      ],
      "text/markdown": [
       "5"
      ],
      "text/plain": [
       "[1] 5"
      ]
     },
     "metadata": {},
     "output_type": "display_data"
    }
   ],
   "source": [
    "neue_funktion <- function(x,y){\n",
    "    x+y}\n",
    "\n",
    "neue_funktion(2,3)"
   ]
  },
  {
   "cell_type": "markdown",
   "id": "cee9716d",
   "metadata": {},
   "source": [
    "Wir können aber auch selbst Funktionen schreiben, um Abläufe zu automatisieren, die wir oft benutzen:\n",
    "\n",
    "```{code-block} r \n",
    "neue_funktion <- function(x,y){\n",
    "    x+y}\n",
    "\n",
    "neue_funktion(2,3)\n",
    "```\n",
    "\n",
    "Jetzt wollen wir eine Funktionen schreiben, die Fahrenheit in Celsius umrechnet.\n",
    "\n",
    "```{code-block} r\n",
    "f_to_c <- \n",
    "```\n",
    "\n",
    "```{code-block} r\n",
    ":tags: [hide-cell]\n",
    "f_to_c <- my_function(){}\n",
    "```"
   ]
  }
 ],
 "metadata": {
  "jupytext": {
   "formats": "md:myst",
   "text_representation": {
    "extension": ".md",
    "format_name": "myst",
    "format_version": 0.13,
    "jupytext_version": "1.11.5"
   }
  },
  "kernelspec": {
   "display_name": "R",
   "language": "R",
   "name": "ir"
  },
  "language_info": {
   "codemirror_mode": "r",
   "file_extension": ".r",
   "mimetype": "text/x-r-source",
   "name": "R",
   "pygments_lexer": "r",
   "version": "4.2.3"
  },
  "source_map": [
   13,
   25,
   31
  ]
 },
 "nbformat": 4,
 "nbformat_minor": 5
}
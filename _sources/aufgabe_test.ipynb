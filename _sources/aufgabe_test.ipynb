{
 "cells": [
  {
   "cell_type": "markdown",
   "id": "8e4547cf",
   "metadata": {},
   "source": [
    "# Funktionen in R\n",
    "\n",
    "Im Folgenden wollen wir uns mit Funktionen in R beschäftigen. Wir gucken uns an, wie Funktionen aufgebaut sind und schreiben selbst eine. \n",
    "\n",
    "> Funktionen sind (Unter-)Programme, die eine gewisse Funktionalität haben, d.h. eine bestimmte Aufgabe ausführen.\n",
    "\n",
    "<aside>\n",
    "  testing aside\n",
    "</aside>\n",
    "\n",
    "\n",
    "<details>\n",
    "    <summary>Testing Details</summary>\n",
    "    Some details details\n",
    "</details>\n",
    "\n",
    "<details>\n",
    "    <summary>Testing Details with code</summary>\n",
    "```{code-cell} r \n",
    "neue_funktion <- function(x,y){\n",
    "    x+y}\n",
    "\n",
    "neue_funktion(2,3)\n",
    "```\n",
    "</details>\n",
    "\n",
    "```{dropdown} Testing Dropdown\n",
    "Some dropdown details\n",
    "```\n",
    "\n",
    "```{dropdown} Testing Dropdown with code\n",
    "```{code-cell} r \n",
    "neue_funktion <- function(x,y){\n",
    "    x+y}\n",
    "\n",
    "neue_funktion(2,3)\n",
    "```\n",
    "```\n",
    "\n",
    "Wir können aber auch selbst Funktionen schreiben, um Abläufe zu automatisieren, die wir oft benutzen. \n",
    "\n",
    "```{code-cell} r \n",
    "neue_funktion <- function(x,y){\n",
    "    x+y}\n",
    "\n",
    "neue_funktion(2,3)\n",
    "```\n",
    "\n",
    "Jetzt wollen wir eine Funktionen schreiben, die Fahrenheit in Celsius umrechnet."
   ]
  },
  {
   "cell_type": "code",
   "execution_count": 1,
   "id": "5dde8f1c",
   "metadata": {},
   "outputs": [
    {
     "ename": "ERROR",
     "evalue": "Error in parse(text = x, srcfile = src): <text>:2:0: unexpected end of input\n1: f_to_c <- \n   ^\n",
     "output_type": "error",
     "traceback": [
      "Error in parse(text = x, srcfile = src): <text>:2:0: unexpected end of input\n1: f_to_c <- \n   ^\nTraceback:\n"
     ]
    }
   ],
   "source": [
    "f_to_c <- "
   ]
  }
 ],
 "metadata": {
  "jupytext": {
   "formats": "md:myst",
   "text_representation": {
    "extension": ".md",
    "format_name": "myst",
    "format_version": 0.13,
    "jupytext_version": "1.11.5"
   }
  },
  "kernelspec": {
   "display_name": "R",
   "language": "R",
   "name": "ir"
  },
  "language_info": {
   "codemirror_mode": "r",
   "file_extension": ".r",
   "mimetype": "text/x-r-source",
   "name": "R",
   "pygments_lexer": "r",
   "version": "4.2.3"
  },
  "source_map": [
   13,
   65
  ]
 },
 "nbformat": 4,
 "nbformat_minor": 5
}
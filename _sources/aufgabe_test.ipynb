{
 "cells": [
  {
   "cell_type": "markdown",
   "id": "c541e338",
   "metadata": {},
   "source": [
    "# Funktionen in R\n",
    "\n",
    "Im Folgenden wollen wir uns mit Funktionen in R beschäftigen. Wir gucken uns an, wie Funktionen aufgebaut sind und schreiben selbst eine. \n",
    "\n",
    "> Funktionen sind (Unter-)Programme, die eine gewisse Funktionalität haben, d.h. eine bestimmte Aufgabe ausführen.\n",
    "\n",
    "<aside>\n",
    "  test\n",
    "</aside>\n",
    "\n",
    "Wir können aber auch selbst Funktionen schreiben, um Abläufe zu automatisieren, die wir oft benutzen."
   ]
  },
  {
   "cell_type": "code",
   "execution_count": 1,
   "id": "07d02f08",
   "metadata": {},
   "outputs": [
    {
     "data": {
      "text/html": [
       "5"
      ],
      "text/latex": [
       "5"
      ],
      "text/markdown": [
       "5"
      ],
      "text/plain": [
       "[1] 5"
      ]
     },
     "metadata": {},
     "output_type": "display_data"
    }
   ],
   "source": [
    "neue_funktion <- function(x,y){\n",
    "    x+y}\n",
    "\n",
    "neue_funktion(2,3)"
   ]
  },
  {
   "cell_type": "markdown",
   "id": "f270c448",
   "metadata": {},
   "source": [
    "Jetzt wollen wir eine Funktionen schreiben, die Fahrenheit in Celsius umrechnet."
   ]
  },
  {
   "cell_type": "code",
   "execution_count": 2,
   "id": "c9e095b3",
   "metadata": {},
   "outputs": [
    {
     "ename": "ERROR",
     "evalue": "Error in parse(text = x, srcfile = src): <text>:2:0: unexpected end of input\n1: f_to_c <- \n   ^\n",
     "output_type": "error",
     "traceback": [
      "Error in parse(text = x, srcfile = src): <text>:2:0: unexpected end of input\n1: f_to_c <- \n   ^\nTraceback:\n"
     ]
    }
   ],
   "source": [
    "f_to_c <- "
   ]
  }
 ],
 "metadata": {
  "jupytext": {
   "formats": "md:myst",
   "text_representation": {
    "extension": ".md",
    "format_name": "myst",
    "format_version": 0.13,
    "jupytext_version": "1.11.5"
   }
  },
  "kernelspec": {
   "display_name": "R",
   "language": "R",
   "name": "ir"
  },
  "language_info": {
   "codemirror_mode": "r",
   "file_extension": ".r",
   "mimetype": "text/x-r-source",
   "name": "R",
   "pygments_lexer": "r",
   "version": "4.2.3"
  },
  "source_map": [
   13,
   27,
   32,
   36
  ]
 },
 "nbformat": 4,
 "nbformat_minor": 5
}
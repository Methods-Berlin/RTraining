{
 "cells": [
  {
   "cell_type": "markdown",
   "id": "1f83362e",
   "metadata": {},
   "source": [
    "## R Markdown\n",
    "\n",
    "This is an R Markdown document. Markdown is a simple formatting syntax for authoring HTML, PDF, and MS Word documents. For more details on using R Markdown see <http://rmarkdown.rstudio.com>.\n",
    "\n",
    "When you click the **Knit** button a document will be generated that includes both content as well as the output of any embedded R code chunks within the document. You can embed an R code chunk like this:"
   ]
  },
  {
   "cell_type": "code",
   "execution_count": 1,
   "id": "9824ee0b",
   "metadata": {},
   "outputs": [
    {
     "ename": "ERROR",
     "evalue": "Error in parse(text = x, srcfile = src): attempt to use zero-length variable name\n",
     "output_type": "error",
     "traceback": [
      "Error in parse(text = x, srcfile = src): attempt to use zero-length variable name\nTraceback:\n"
     ]
    }
   ],
   "source": [
    "summary(cars)\n",
    "```\n",
    "\n",
    "### Including Plots\n",
    "\n",
    "You can also embed plots, for example:\n",
    "\n",
    "````{code-cell} r\n",
    "plot(pressure)\n",
    "```\n",
    "\n",
    "Note that the `echo = FALSE` parameter was added to the code chunk to prevent printing of the R code that generated the plot.\n",
    "\n",
    "\n",
    "````{code-cell} r\n",
    "plot(pressure)\n",
    "```\n",
    "\n",
    "````{code-cell} r\n",
    "plot(pressure)\n",
    "```\n",
    "\n",
    "````{code-cell} r\n",
    "plot(pressure)\n",
    "```\n"
   ]
  }
 ],
 "metadata": {
  "jupytext": {
   "formats": "md:myst",
   "text_representation": {
    "extension": ".md",
    "format_name": "myst",
    "format_version": 0.13,
    "jupytext_version": "1.11.5"
   }
  },
  "kernelspec": {
   "display_name": "R",
   "language": "R",
   "name": "ir"
  },
  "language_info": {
   "codemirror_mode": "r",
   "file_extension": ".r",
   "mimetype": "text/x-r-source",
   "name": "R",
   "pygments_lexer": "r",
   "version": "4.2.3"
  },
  "source_map": [
   13,
   22
  ]
 },
 "nbformat": 4,
 "nbformat_minor": 5
}
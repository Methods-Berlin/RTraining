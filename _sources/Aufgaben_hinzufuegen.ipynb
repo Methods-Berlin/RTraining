{
 "cells": [
  {
   "cell_type": "code",
   "execution_count": 1,
   "id": "61504cad",
   "metadata": {
    "tags": [
     "remove-cell"
    ]
   },
   "outputs": [],
   "source": [
    "knitr::opts_chunk$set(echo = TRUE)"
   ]
  },
  {
   "cell_type": "markdown",
   "id": "918967ac",
   "metadata": {},
   "source": [
    "# Aufgaben hinzufügen\n",
    "\n",
    "<a href=https://raw.githubusercontent.com/Methods-Berlin/RTraining/main/Aufgaben_rmd/Aufgaben_hinzufuegen.Rmd download=Aufgaben_hinzufuegen.Rmd>RMarkdown-Datei herunterladen</a>\n",
    "\n",
    "\n",
    "Aufgaben der RTraining-Plattform sind in RMarkdown geschrieben und werden \n",
    "automatisch vom Skript [rmd2myst.R](https://github.com/Methods-Berlin/RTraining/blob/main/rmd2myst.R)\n",
    "in myst-Markdown übersetzt. myst-Markdown ist die von JupyterBook unterstützte\n",
    "Markdown Version. Neue Aufgaben werden hinzugefügt, indem diese als Rmd-Dateien\n",
    "im Ordern Aufgaben_rmd gespeichert werden. Zusätzlich muss der Name der Datei \n",
    "(z.B. bei \"neue_Aufgabe.Rmd\" ist der Name \"neue_Aufgabe\") im Dokument _toc.yml\n",
    "hinzugefügt werden.\n",
    "\n",
    "Wenn die Aufgabe R-Pakete nutzt, muss zusätzlich überprüft werden, ob dieses \n",
    "bereits installiert wird. Alle bisher installierten Pakete werden im Dokument\n",
    "[environment.yml](https://github.com/Methods-Berlin/RTraining/blob/main/environment.yml)\n",
    "aufgefüht. Hier steht beispielsweise:\n",
    "```\n",
    "dependencies:\n",
    "  - ...\n",
    "  - r-tidyverse\n",
    "```\n",
    "Es wird also das gesamte tidyverse installiert. Wenn wir das Paket `psych` hinzufügen\n",
    "wollen, dann müssen wir erst schauen, ob es dieses für Anaconda gibt. Hierfür \n",
    "gehen wir auf [anaconda.org](https://anaconda.org/) und suchen nach `r-psych`.\n",
    "Wichtig: R-Pakte fangen auf Anaconda immer mit `r-` an! [r-psych](https://anaconda.org/search?q=type%3Aconda+r-psych)\n",
    "existiert auf Anaconda und wir können es daher einfach hinzufügen, indem\n",
    "wir es in [environment.yml](https://github.com/Methods-Berlin/RTraining/blob/main/environment.yml) \n",
    "ergänzen:\n",
    "```\n",
    "dependencies:\n",
    "  - ...\n",
    "  - r-tidyverse\n",
    "  - r-psych\n",
    "```\n",
    "Das Paket wird nun bei nächsten Erstellen der Webseite installiert und kann mit \n",
    "`library(psych)` aufgerufen werden.\n",
    "\n",
    "Die automatische Übersetzung unterstützt zur Zeit leider nicht alle Funktionen\n",
    "von RMarkdown. Das betrifft insbesondere die tags, die in R Code-Blöcken genutzt\n",
    "werden können (z.B. `eval = FALSE`). Außerdem können nicht alle html-tags (z.B.\n",
    "`aside` oder `details`) vollumfänglich genutzt werden.\n",
    "\n",
    "Im Folgenden werden die unterstützten Optionen demonstriert. Der Quelltext\n",
    "ist in [GitHub](https://github.com/Methods-Berlin/RTraining/tree/main/Aufgaben_rmd/Aufgaben_hinzufuegen.Rmd)\n",
    "hinterlegt.\n",
    "\n",
    "## Code-Blöcke\n",
    "\n",
    "Die folgenden Code-Blöcke werden unterstützt:\n",
    "\n",
    "### Code-Block ohne tags:"
   ]
  },
  {
   "cell_type": "code",
   "execution_count": 2,
   "id": "26ea7132",
   "metadata": {},
   "outputs": [
    {
     "name": "stdout",
     "output_type": "stream",
     "text": [
      "[1] 2\n"
     ]
    }
   ],
   "source": [
    "# einfacher code-Block\n",
    "print(2)"
   ]
  },
  {
   "cell_type": "markdown",
   "id": "a8c75923",
   "metadata": {},
   "source": [
    "### Code-Block mit eval = FALSE\n",
    "\n",
    "In Rmarkdown-Style:\n",
    "``` r\n",
    "# nicht ausgeführter Code\n",
    "print(3)\n",
    "```\n",
    "\n",
    "In quarto-Style:\n",
    "``` r\n",
    "\n",
    "# nicht ausgeführter Code\n",
    "print(3)\n",
    "```\n",
    "\n",
    "### Code-Block mit echo = FALSE\n",
    "\n",
    "In Rmarkdown-Style:"
   ]
  },
  {
   "cell_type": "code",
   "execution_count": 3,
   "id": "54544c21",
   "metadata": {
    "tags": [
     "remove-input"
    ]
   },
   "outputs": [
    {
     "name": "stdout",
     "output_type": "stream",
     "text": [
      "[1] 3\n"
     ]
    }
   ],
   "source": [
    "# versteckter input, angezeigter output\n",
    "print(3)"
   ]
  },
  {
   "cell_type": "markdown",
   "id": "3dd5d132",
   "metadata": {},
   "source": [
    "In quarto-Style:"
   ]
  },
  {
   "cell_type": "code",
   "execution_count": 4,
   "id": "5186a5c3",
   "metadata": {
    "tags": [
     "remove-input"
    ]
   },
   "outputs": [
    {
     "name": "stdout",
     "output_type": "stream",
     "text": [
      "[1] 3\n"
     ]
    }
   ],
   "source": [
    "# versteckter input, angezeigter output\n",
    "print(3)"
   ]
  },
  {
   "cell_type": "markdown",
   "id": "670a0dc4",
   "metadata": {},
   "source": [
    "### Code-Block mit include = FALSE\n",
    "\n",
    "In Rmarkdown-Style:"
   ]
  },
  {
   "cell_type": "code",
   "execution_count": 5,
   "id": "658bbbdf",
   "metadata": {
    "tags": [
     "remove-cell"
    ]
   },
   "outputs": [
    {
     "name": "stdout",
     "output_type": "stream",
     "text": [
      "[1] 3\n"
     ]
    }
   ],
   "source": [
    "# versteckter input, versteckter output\n",
    "print(3)"
   ]
  },
  {
   "cell_type": "markdown",
   "id": "c7a6b564",
   "metadata": {},
   "source": [
    "In quarto-Style:"
   ]
  },
  {
   "cell_type": "code",
   "execution_count": 6,
   "id": "d719eb2f",
   "metadata": {
    "tags": [
     "remove-cell"
    ]
   },
   "outputs": [
    {
     "name": "stdout",
     "output_type": "stream",
     "text": [
      "[1] 3\n"
     ]
    }
   ],
   "source": [
    "# versteckter input, versteckter output\n",
    "print(3)"
   ]
  },
  {
   "cell_type": "markdown",
   "id": "55aa4d79",
   "metadata": {},
   "source": [
    "## Details\n",
    "\n",
    "Details nur mit Text:\n",
    "\n",
    "<details>\n",
    "Details mit Text\n",
    "</details>\n",
    "\n",
    "Details nur mit code:"
   ]
  },
  {
   "cell_type": "code",
   "execution_count": 7,
   "id": "28f71a5b",
   "metadata": {
    "tags": [
     "hide-cell"
    ]
   },
   "outputs": [
    {
     "name": "stdout",
     "output_type": "stream",
     "text": [
      "[1] 2\n"
     ]
    }
   ],
   "source": [
    "# details mit code-Block\n",
    "print(2)"
   ]
  },
  {
   "cell_type": "markdown",
   "id": "c4b86f0e",
   "metadata": {},
   "source": [
    "Wichtig: Text und Code darf in `details` nicht kombiniert werden!\n",
    "\n",
    "### Details - code-Block mit eval = FALSE\n",
    "\n",
    "In Rmarkdown-Style:\n",
    "\n",
    "\n",
    "``` r\n",
    ":tags: [hide-cell]\n",
    "\n",
    "# nicht ausgeführter Code\n",
    "print(3)\n",
    "```\n",
    "\n",
    "\n",
    "\n",
    "In quarto-Style:\n",
    "\n",
    "\n",
    "``` r\n",
    ":tags: [hide-cell]\n",
    "\n",
    "\n",
    "# nicht ausgeführter Code\n",
    "print(3)\n",
    "```\n",
    "\n",
    "\n",
    "\n",
    "### Details - code-Block mit echo = FALSE\n",
    "\n",
    "In Rmarkdown-Style:"
   ]
  },
  {
   "cell_type": "code",
   "execution_count": 8,
   "id": "ab6cca65",
   "metadata": {
    "tags": [
     "hide-cell"
    ]
   },
   "outputs": [
    {
     "name": "stdout",
     "output_type": "stream",
     "text": [
      "[1] 3\n"
     ]
    }
   ],
   "source": [
    "# nicht ausgeführter Code\n",
    "print(3)"
   ]
  },
  {
   "cell_type": "markdown",
   "id": "d16fed78",
   "metadata": {},
   "source": [
    "In quarto-Style:"
   ]
  },
  {
   "cell_type": "code",
   "execution_count": 9,
   "id": "2fa62f6a",
   "metadata": {
    "tags": [
     "hide-cell"
    ]
   },
   "outputs": [
    {
     "name": "stdout",
     "output_type": "stream",
     "text": [
      "[1] 3\n"
     ]
    }
   ],
   "source": [
    "\n",
    "# nicht ausgeführter Code\n",
    "print(3)"
   ]
  }
 ],
 "metadata": {
  "jupytext": {
   "formats": "md:myst",
   "text_representation": {
    "extension": ".md",
    "format_name": "myst",
    "format_version": 0.13,
    "jupytext_version": "1.11.5"
   }
  },
  "kernelspec": {
   "display_name": "R",
   "language": "R",
   "name": "ir"
  },
  "language_info": {
   "codemirror_mode": "r",
   "file_extension": ".r",
   "mimetype": "text/x-r-source",
   "name": "R",
   "pygments_lexer": "r",
   "version": "4.2.3"
  },
  "source_map": [
   16,
   19,
   74,
   77,
   97,
   101,
   104,
   109,
   114,
   118,
   121,
   126,
   140,
   145,
   183,
   189,
   196
  ]
 },
 "nbformat": 4,
 "nbformat_minor": 5
}
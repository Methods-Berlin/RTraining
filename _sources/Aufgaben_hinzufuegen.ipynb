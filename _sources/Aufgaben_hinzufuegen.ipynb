{
 "cells": [
  {
   "cell_type": "code",
   "execution_count": 1,
   "id": "685b1ca6",
   "metadata": {
    "tags": [
     "remove-cell"
    ]
   },
   "outputs": [],
   "source": [
    "knitr::opts_chunk$set(echo = TRUE)"
   ]
  },
  {
   "cell_type": "markdown",
   "id": "6452ab0f",
   "metadata": {},
   "source": [
    "## Aufgaben hinzufügen\n",
    "\n",
    "Aufgaben der RTraining-Plattform sind in RMarkdown geschrieben und werden \n",
    "automatisch vom Skript [rmd2myst.R](https://github.com/Methods-Berlin/RTraining/blob/main/rmd2myst.R)\n",
    "in myst-Markdown übersetzt. myst-Markdown ist die von JupyterBook unterstützte\n",
    "Markdown Version. Neue Aufgaben werden hinzugefügt, indem diese als Rmd-Dateien\n",
    "im Ordern Aufgaben_rmd gespeichert werden. Zusätzlich muss der Name der Datei \n",
    "(z.B. bei \"neue_Aufgabe.Rmd\" ist der Name \"neue_Aufgabe\") im Dokument _toc.yml\n",
    "hinzugefügt werden.\n",
    "\n",
    "Die automatische Übersetzung unterstützt zur Zeit leider nicht alle Funktionen\n",
    "von RMarkdown. Das betrifft insbesondere die tags, die in R Code-Blöcken genutzt\n",
    "werden können (z.B. `eval = FALSE`). Außerdem können nicht alle html-tags (z.B.\n",
    "`aside` oder `details`) vollumfänglich genutzt werden.\n",
    "\n",
    "Im Folgenden werden die unterstützten Optionen demonstriert. Der Quelltext\n",
    "ist in [GitHub](https://github.com/Methods-Berlin/RTraining/tree/main/Aufgaben_rmd/Aufgaben_hinzufuegen.Rmd)\n",
    "hinterlegt.\n",
    "\n",
    "## Code-Blöcke\n",
    "\n",
    "Die folgenden Code-Blöcke werden unterstützt:"
   ]
  },
  {
   "cell_type": "code",
   "execution_count": 2,
   "id": "18ddab31",
   "metadata": {},
   "outputs": [
    {
     "name": "stdout",
     "output_type": "stream",
     "text": [
      "[1] 2\n"
     ]
    }
   ],
   "source": [
    "# einfacher code-Block\n",
    "print(2)"
   ]
  },
  {
   "cell_type": "code",
   "execution_count": 3,
   "id": "2820e7fb",
   "metadata": {
    "tags": [
     "remove-input"
    ]
   },
   "outputs": [
    {
     "name": "stdout",
     "output_type": "stream",
     "text": [
      "[1] 3\n"
     ]
    }
   ],
   "source": [
    "# versteckter input, angezeigter output\n",
    "print(3)"
   ]
  },
  {
   "cell_type": "code",
   "execution_count": 4,
   "id": "9d13a870",
   "metadata": {
    "tags": [
     "remove-input"
    ]
   },
   "outputs": [
    {
     "name": "stdout",
     "output_type": "stream",
     "text": [
      "[1] 3\n"
     ]
    }
   ],
   "source": [
    "# versteckter input, angezeigter output\n",
    "print(3)"
   ]
  },
  {
   "cell_type": "code",
   "execution_count": 5,
   "id": "d37e72c7",
   "metadata": {
    "tags": [
     "remove-cell"
    ]
   },
   "outputs": [
    {
     "name": "stdout",
     "output_type": "stream",
     "text": [
      "[1] 3\n"
     ]
    }
   ],
   "source": [
    "# versteckter input, versteckter output\n",
    "print(3)"
   ]
  },
  {
   "cell_type": "code",
   "execution_count": 6,
   "id": "eee2e4fc",
   "metadata": {
    "tags": [
     "remove-cell"
    ]
   },
   "outputs": [
    {
     "name": "stdout",
     "output_type": "stream",
     "text": [
      "[1] 3\n"
     ]
    }
   ],
   "source": [
    "# versteckter input, versteckter output\n",
    "print(3)"
   ]
  },
  {
   "cell_type": "markdown",
   "id": "98275a54",
   "metadata": {},
   "source": [
    "## Details\n",
    "\n",
    "<details>\n",
    "Details mit Text\n",
    "</details>"
   ]
  },
  {
   "cell_type": "code",
   "execution_count": 7,
   "id": "6521b2a4",
   "metadata": {
    "tags": [
     "hide-cell"
    ]
   },
   "outputs": [
    {
     "name": "stdout",
     "output_type": "stream",
     "text": [
      "[1] 2\n"
     ]
    }
   ],
   "source": [
    "# details mit code-Block\n",
    "print(2)"
   ]
  },
  {
   "cell_type": "markdown",
   "id": "93070440",
   "metadata": {},
   "source": [
    "Wichtig: Text und Code darf in `details` nicht kombiniert werden!"
   ]
  }
 ],
 "metadata": {
  "jupytext": {
   "formats": "md:myst",
   "text_representation": {
    "extension": ".md",
    "format_name": "myst",
    "format_version": 0.13,
    "jupytext_version": "1.11.5"
   }
  },
  "kernelspec": {
   "display_name": "R",
   "language": "R",
   "name": "ir"
  },
  "language_info": {
   "codemirror_mode": "r",
   "file_extension": ".r",
   "mimetype": "text/x-r-source",
   "name": "R",
   "pygments_lexer": "r",
   "version": "4.2.3"
  },
  "source_map": [
   16,
   19,
   44,
   49,
   55,
   62,
   68,
   73,
   83,
   88
  ]
 },
 "nbformat": 4,
 "nbformat_minor": 5
}
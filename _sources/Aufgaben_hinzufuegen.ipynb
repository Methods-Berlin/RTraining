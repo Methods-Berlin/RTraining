{
 "cells": [
  {
   "cell_type": "code",
   "execution_count": 1,
   "id": "7210ba86",
   "metadata": {
    "tags": [
     "remove-cell"
    ]
   },
   "outputs": [],
   "source": [
    "knitr::opts_chunk$set(echo = TRUE)"
   ]
  },
  {
   "cell_type": "markdown",
   "id": "4351b23c",
   "metadata": {},
   "source": [
    "## Aufgaben hinzufügen\n",
    "\n",
    "<a href=https://raw.githubusercontent.com/Methods-Berlin/RTraining/main/Aufgaben_rmd/Aufgaben_hinzufuegen.Rmd download=Aufgaben_hinzufuegen.Rmd>RMarkdown-Datei herunterladen</a>\n",
    "\n",
    "\n",
    "Aufgaben der RTraining-Plattform sind in RMarkdown geschrieben und werden \n",
    "automatisch vom Skript [rmd2myst.R](https://github.com/Methods-Berlin/RTraining/blob/main/rmd2myst.R)\n",
    "in myst-Markdown übersetzt. myst-Markdown ist die von JupyterBook unterstützte\n",
    "Markdown Version. Neue Aufgaben werden hinzugefügt, indem diese als Rmd-Dateien\n",
    "im Ordern Aufgaben_rmd gespeichert werden. Zusätzlich muss der Name der Datei \n",
    "(z.B. bei \"neue_Aufgabe.Rmd\" ist der Name \"neue_Aufgabe\") im Dokument _toc.yml\n",
    "hinzugefügt werden.\n",
    "\n",
    "Die automatische Übersetzung unterstützt zur Zeit leider nicht alle Funktionen\n",
    "von RMarkdown. Das betrifft insbesondere die tags, die in R Code-Blöcken genutzt\n",
    "werden können (z.B. `eval = FALSE`). Außerdem können nicht alle html-tags (z.B.\n",
    "`aside` oder `details`) vollumfänglich genutzt werden.\n",
    "\n",
    "Im Folgenden werden die unterstützten Optionen demonstriert. Der Quelltext\n",
    "ist in [GitHub](https://github.com/Methods-Berlin/RTraining/tree/main/Aufgaben_rmd/Aufgaben_hinzufuegen.Rmd)\n",
    "hinterlegt.\n",
    "\n",
    "## Code-Blöcke\n",
    "\n",
    "Die folgenden Code-Blöcke werden unterstützt:\n",
    "\n",
    "### Code-Block ohne tags:"
   ]
  },
  {
   "cell_type": "code",
   "execution_count": 2,
   "id": "bb9c85f1",
   "metadata": {},
   "outputs": [
    {
     "name": "stdout",
     "output_type": "stream",
     "text": [
      "[1] 2\n"
     ]
    }
   ],
   "source": [
    "# einfacher code-Block\n",
    "print(2)"
   ]
  },
  {
   "cell_type": "markdown",
   "id": "6f544f0e",
   "metadata": {},
   "source": [
    "### Code-Block mit echo = FALSE\n",
    "\n",
    "In Rmarkdown-Style:"
   ]
  },
  {
   "cell_type": "code",
   "execution_count": 3,
   "id": "fd04cd69",
   "metadata": {
    "tags": [
     "remove-input"
    ]
   },
   "outputs": [
    {
     "name": "stdout",
     "output_type": "stream",
     "text": [
      "[1] 3\n"
     ]
    }
   ],
   "source": [
    "# versteckter input, angezeigter output\n",
    "print(3)"
   ]
  },
  {
   "cell_type": "markdown",
   "id": "19ea0a77",
   "metadata": {},
   "source": [
    "In quarto-Style:"
   ]
  },
  {
   "cell_type": "code",
   "execution_count": 4,
   "id": "3940022c",
   "metadata": {
    "tags": [
     "remove-input"
    ]
   },
   "outputs": [
    {
     "name": "stdout",
     "output_type": "stream",
     "text": [
      "[1] 3\n"
     ]
    }
   ],
   "source": [
    "# versteckter input, angezeigter output\n",
    "print(3)"
   ]
  },
  {
   "cell_type": "markdown",
   "id": "2e89ed5c",
   "metadata": {},
   "source": [
    "### Code-Block mit include = FALSE\n",
    "\n",
    "In Rmarkdown-Style:"
   ]
  },
  {
   "cell_type": "code",
   "execution_count": 5,
   "id": "737af1d2",
   "metadata": {
    "tags": [
     "remove-cell"
    ]
   },
   "outputs": [
    {
     "name": "stdout",
     "output_type": "stream",
     "text": [
      "[1] 3\n"
     ]
    }
   ],
   "source": [
    "# versteckter input, versteckter output\n",
    "print(3)"
   ]
  },
  {
   "cell_type": "markdown",
   "id": "adf9a4a2",
   "metadata": {},
   "source": [
    "In quarto-Style:"
   ]
  },
  {
   "cell_type": "code",
   "execution_count": 6,
   "id": "6c3757bf",
   "metadata": {
    "tags": [
     "remove-cell"
    ]
   },
   "outputs": [
    {
     "name": "stdout",
     "output_type": "stream",
     "text": [
      "[1] 3\n"
     ]
    }
   ],
   "source": [
    "# versteckter input, versteckter output\n",
    "print(3)"
   ]
  },
  {
   "cell_type": "markdown",
   "id": "434b3adf",
   "metadata": {},
   "source": [
    "## Details\n",
    "\n",
    "Details nur mit Text:\n",
    "\n",
    "<details>\n",
    "Details mit Text\n",
    "</details>\n",
    "\n",
    "Details nur mit code:"
   ]
  },
  {
   "cell_type": "code",
   "execution_count": 7,
   "id": "6173f042",
   "metadata": {
    "tags": [
     "hide-cell"
    ]
   },
   "outputs": [
    {
     "name": "stdout",
     "output_type": "stream",
     "text": [
      "[1] 2\n"
     ]
    }
   ],
   "source": [
    "# details mit code-Block\n",
    "print(2)"
   ]
  },
  {
   "cell_type": "markdown",
   "id": "a291765b",
   "metadata": {},
   "source": [
    "Wichtig: Text und Code darf in `details` nicht kombiniert werden!"
   ]
  }
 ],
 "metadata": {
  "jupytext": {
   "formats": "md:myst",
   "text_representation": {
    "extension": ".md",
    "format_name": "myst",
    "format_version": 0.13,
    "jupytext_version": "1.11.5"
   }
  },
  "kernelspec": {
   "display_name": "R",
   "language": "R",
   "name": "ir"
  },
  "language_info": {
   "codemirror_mode": "r",
   "file_extension": ".r",
   "mimetype": "text/x-r-source",
   "name": "R",
   "pygments_lexer": "r",
   "version": "4.2.3"
  },
  "source_map": [
   16,
   19,
   49,
   52,
   57,
   61,
   64,
   69,
   74,
   78,
   81,
   86,
   100,
   105
  ]
 },
 "nbformat": 4,
 "nbformat_minor": 5
}
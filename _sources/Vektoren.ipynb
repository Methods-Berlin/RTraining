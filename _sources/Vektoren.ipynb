{
 "cells": [
  {
   "cell_type": "markdown",
   "id": "04c6bc8c",
   "metadata": {},
   "source": [
    "# Vektoren\n",
    "\n",
    "<a href=https://raw.githubusercontent.com/Methods-Berlin/RTraining/main/Aufgaben_rmd/Vektoren.Rmd download=Vektoren.Rmd>RMarkdown-Datei mit Lösungen herunterladen</a>\n",
    "\n",
    "\n",
    "<a href=https://raw.githubusercontent.com/Methods-Berlin/RTraining/Rmd_ohne_Loesung/Rmd_ohne_Loesungen/Vektoren.Rmd download=Vektoren.Rmd>RMarkdown-Datei ohne Lösungen herunterladen</a>\n",
    "\n",
    "\n",
    "\n",
    "## Aufgabe 1\n",
    "\n",
    "Erstelle einen Vektor `a` mit den Werten $3, 4, 6, 7, 9, 10$. Lass dir den dritten Wert ausgeben."
   ]
  },
  {
   "cell_type": "code",
   "execution_count": 1,
   "id": "e0574497",
   "metadata": {},
   "outputs": [],
   "source": [
    "# Hier kannst du deine Lösung ausprobieren.\n",
    "\n"
   ]
  },
  {
   "cell_type": "markdown",
   "id": "eeebfd4a",
   "metadata": {},
   "source": [
    "<!-- loesung: start-->"
   ]
  },
  {
   "cell_type": "code",
   "execution_count": 2,
   "id": "28218bee",
   "metadata": {
    "tags": [
     "hide-cell"
    ]
   },
   "outputs": [
    {
     "data": {
      "text/html": [
       "6"
      ],
      "text/latex": [
       "6"
      ],
      "text/markdown": [
       "6"
      ],
      "text/plain": [
       "[1] 6"
      ]
     },
     "metadata": {},
     "output_type": "display_data"
    }
   ],
   "source": [
    "a <- c(3, 4, 6, 7, 10)\n",
    "a[3]"
   ]
  },
  {
   "cell_type": "markdown",
   "id": "2b16b540",
   "metadata": {},
   "source": [
    "<!-- loesung: ende-->\n",
    "\n",
    "\n",
    "## Aufgabe 2\n",
    "\n",
    "Erstelle einen Vektor `b` mit den Werten $4.5, 6.5, 8.5, 5.5, 7.5, 3.5$. Lass dir gleichzeitig den zweiten, vierten und sechsten Wert ausgeben."
   ]
  },
  {
   "cell_type": "code",
   "execution_count": 3,
   "id": "2f6f228a",
   "metadata": {},
   "outputs": [],
   "source": [
    "# Hier kannst du deine Lösung ausprobieren.\n",
    "\n"
   ]
  },
  {
   "cell_type": "markdown",
   "id": "2a8ba28a",
   "metadata": {},
   "source": [
    "<!-- loesung: start-->"
   ]
  },
  {
   "cell_type": "code",
   "execution_count": 4,
   "id": "b1f3a37e",
   "metadata": {
    "tags": [
     "hide-cell"
    ]
   },
   "outputs": [
    {
     "data": {
      "text/html": [
       "<style>\n",
       ".list-inline {list-style: none; margin:0; padding: 0}\n",
       ".list-inline>li {display: inline-block}\n",
       ".list-inline>li:not(:last-child)::after {content: \"\\00b7\"; padding: 0 .5ex}\n",
       "</style>\n",
       "<ol class=list-inline><li>6.5</li><li>5.5</li><li>3.5</li></ol>\n"
      ],
      "text/latex": [
       "\\begin{enumerate*}\n",
       "\\item 6.5\n",
       "\\item 5.5\n",
       "\\item 3.5\n",
       "\\end{enumerate*}\n"
      ],
      "text/markdown": [
       "1. 6.5\n",
       "2. 5.5\n",
       "3. 3.5\n",
       "\n",
       "\n"
      ],
      "text/plain": [
       "[1] 6.5 5.5 3.5"
      ]
     },
     "metadata": {},
     "output_type": "display_data"
    }
   ],
   "source": [
    "b <- c(4.5, 6.5, 8.5, 5.5, 7.5, 3.5)\n",
    "b[c(2,4,6)]"
   ]
  },
  {
   "cell_type": "markdown",
   "id": "9f737c32",
   "metadata": {},
   "source": [
    "<!-- loesung: ende-->\n",
    "\n",
    "\n",
    "## Aufgabe 3\n",
    "\n",
    "Erstelle einen Vektor `c` mit den Werten $0, 1, 0, 2, 2$. Ändere den dritten Wert in $1$ und den vierten Wert in `NA`."
   ]
  },
  {
   "cell_type": "code",
   "execution_count": 5,
   "id": "32bc04f1",
   "metadata": {},
   "outputs": [],
   "source": [
    "# Hier kannst du deine Lösung ausprobieren.\n",
    "\n"
   ]
  },
  {
   "cell_type": "markdown",
   "id": "9aff3aad",
   "metadata": {},
   "source": [
    "<!-- loesung: start-->"
   ]
  },
  {
   "cell_type": "code",
   "execution_count": 6,
   "id": "4c213f80",
   "metadata": {
    "tags": [
     "hide-cell"
    ]
   },
   "outputs": [],
   "source": [
    "c <- c(0, 1, 0, 2, 2)\n",
    "c[3] <- 1\n",
    "c[4] <- NA"
   ]
  },
  {
   "cell_type": "markdown",
   "id": "162b774d",
   "metadata": {},
   "source": [
    "<!-- loesung: ende-->\n",
    "\n",
    "\n",
    "## Aufgabe 4\n",
    "\n",
    "Erstelle einen character Vektor `schüler`, der die Namen Luca, Matteo und Emil enthält."
   ]
  },
  {
   "cell_type": "code",
   "execution_count": 7,
   "id": "32304767",
   "metadata": {},
   "outputs": [],
   "source": [
    "# Hier kannst du deine Lösung ausprobieren.\n",
    "\n"
   ]
  },
  {
   "cell_type": "markdown",
   "id": "d4171c9c",
   "metadata": {},
   "source": [
    "<!-- loesung: start-->"
   ]
  },
  {
   "cell_type": "code",
   "execution_count": 8,
   "id": "9552e699",
   "metadata": {
    "tags": [
     "hide-cell"
    ]
   },
   "outputs": [],
   "source": [
    "schüler <- c(\"Luca\", \"Matteo\", \"Emil\")"
   ]
  },
  {
   "cell_type": "markdown",
   "id": "012899aa",
   "metadata": {},
   "source": [
    "<!-- loesung: ende-->"
   ]
  }
 ],
 "metadata": {
  "jupytext": {
   "formats": "md:myst",
   "text_representation": {
    "extension": ".md",
    "format_name": "myst",
    "format_version": 0.13,
    "jupytext_version": "1.11.5"
   }
  },
  "kernelspec": {
   "display_name": "R",
   "language": "R",
   "name": "ir"
  },
  "language_info": {
   "codemirror_mode": "r",
   "file_extension": ".r",
   "mimetype": "text/x-r-source",
   "name": "R",
   "pygments_lexer": "r",
   "version": "4.3.1"
  },
  "source_map": [
   13,
   28,
   32,
   37,
   43,
   53,
   57,
   62,
   68,
   78,
   82,
   87,
   94,
   104,
   108,
   113,
   118
  ]
 },
 "nbformat": 4,
 "nbformat_minor": 5
}
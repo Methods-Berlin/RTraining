{
 "cells": [
  {
   "cell_type": "markdown",
   "id": "1a1868bd",
   "metadata": {},
   "source": [
    "# Vektoren\n",
    "\n",
    "<a href=https://raw.githubusercontent.com/Methods-Berlin/RTraining/main/Aufgaben_rmd/Vektoren.Rmd download=Vektoren.Rmd>RMarkdown-Datei mit Lösungen herunterladen</a>\n",
    "\n",
    "\n",
    "<a href=https://raw.githubusercontent.com/Methods-Berlin/RTraining/Rmd_ohne_Loesung/Rmd_ohne_Loesungen/Vektoren.Rmd download=Vektoren.Rmd>RMarkdown-Datei ohne Lösungen herunterladen</a>\n",
    "\n",
    "\n",
    "\n",
    "Erstelle einen Vektor \"a\" mit den Werten 3, 4, 6, 7, 9, 10. Greife den 3. Wert heraus."
   ]
  },
  {
   "cell_type": "code",
   "execution_count": 1,
   "id": "b3418ac5",
   "metadata": {},
   "outputs": [],
   "source": [
    "# Hier kannst du deine Lösung ausprobieren.\n",
    "\n"
   ]
  },
  {
   "cell_type": "markdown",
   "id": "5d44947d",
   "metadata": {},
   "source": [
    "<!-- loesung: start-->"
   ]
  },
  {
   "cell_type": "code",
   "execution_count": 2,
   "id": "c3a8b7d5",
   "metadata": {
    "tags": [
     "hide-cell"
    ]
   },
   "outputs": [
    {
     "data": {
      "text/html": [
       "6"
      ],
      "text/latex": [
       "6"
      ],
      "text/markdown": [
       "6"
      ],
      "text/plain": [
       "[1] 6"
      ]
     },
     "metadata": {},
     "output_type": "display_data"
    }
   ],
   "source": [
    "a <- c(3, 4, 6, 7, 10)\n",
    "a[3]"
   ]
  },
  {
   "cell_type": "markdown",
   "id": "777b5345",
   "metadata": {},
   "source": [
    "<!-- loesung: ende-->\n",
    "\n",
    "\n",
    "Erstelle einen Vektor \"b\" mit den Werten 4.5, 6.5, 8.5, 5.5, 7.5, 3.5. Greife den 2., 4. und 6. Wert heraus."
   ]
  },
  {
   "cell_type": "code",
   "execution_count": 3,
   "id": "605152b3",
   "metadata": {},
   "outputs": [],
   "source": [
    "# Hier kannst du deine Lösung ausprobieren.\n",
    "\n"
   ]
  },
  {
   "cell_type": "markdown",
   "id": "a8858b38",
   "metadata": {},
   "source": [
    "<!-- loesung: start-->"
   ]
  },
  {
   "cell_type": "code",
   "execution_count": 4,
   "id": "b1f05d15",
   "metadata": {
    "tags": [
     "hide-cell"
    ]
   },
   "outputs": [
    {
     "data": {
      "text/html": [
       "<style>\n",
       ".list-inline {list-style: none; margin:0; padding: 0}\n",
       ".list-inline>li {display: inline-block}\n",
       ".list-inline>li:not(:last-child)::after {content: \"\\00b7\"; padding: 0 .5ex}\n",
       "</style>\n",
       "<ol class=list-inline><li>6.5</li><li>5.5</li><li>3.5</li></ol>\n"
      ],
      "text/latex": [
       "\\begin{enumerate*}\n",
       "\\item 6.5\n",
       "\\item 5.5\n",
       "\\item 3.5\n",
       "\\end{enumerate*}\n"
      ],
      "text/markdown": [
       "1. 6.5\n",
       "2. 5.5\n",
       "3. 3.5\n",
       "\n",
       "\n"
      ],
      "text/plain": [
       "[1] 6.5 5.5 3.5"
      ]
     },
     "metadata": {},
     "output_type": "display_data"
    }
   ],
   "source": [
    "b <- c(4.5, 6.5, 8.5, 5.5, 7.5, 3.5)\n",
    "b[c(2,4,6)]"
   ]
  },
  {
   "cell_type": "markdown",
   "id": "d4c2d4e9",
   "metadata": {},
   "source": [
    "<!-- loesung: ende-->\n",
    "\n",
    "\n",
    "Erstelle einen Vektor \"c\" mit den Werten 0, 1, 0, 2, 2. Ändere den 3. Wert zu 1 und den 4. Wert zu NA."
   ]
  },
  {
   "cell_type": "code",
   "execution_count": 5,
   "id": "a7968f03",
   "metadata": {},
   "outputs": [],
   "source": [
    "# Hier kannst du deine Lösung ausprobieren.\n",
    "\n"
   ]
  },
  {
   "cell_type": "markdown",
   "id": "fb3a1243",
   "metadata": {},
   "source": [
    "<!-- loesung: start-->"
   ]
  },
  {
   "cell_type": "code",
   "execution_count": 6,
   "id": "6bfec76d",
   "metadata": {
    "tags": [
     "hide-cell"
    ]
   },
   "outputs": [],
   "source": [
    "c <- c(0, 1, 0, 2, 2)\n",
    "c[3] <- 1\n",
    "c[4] <- NA"
   ]
  },
  {
   "cell_type": "markdown",
   "id": "f61af5cb",
   "metadata": {},
   "source": [
    "<!-- loesung: ende-->\n",
    "\n",
    "\n",
    "Erstelle einen character Vektor \"schüler\", der die Namen Luca, Matteo und Emil beinhaltet."
   ]
  },
  {
   "cell_type": "code",
   "execution_count": 7,
   "id": "7aaefcdf",
   "metadata": {},
   "outputs": [],
   "source": [
    "# Hier kannst du deine Lösung ausprobieren.\n",
    "\n"
   ]
  },
  {
   "cell_type": "markdown",
   "id": "592e4377",
   "metadata": {},
   "source": [
    "<!-- loesung: start-->"
   ]
  },
  {
   "cell_type": "code",
   "execution_count": 8,
   "id": "d003ccd8",
   "metadata": {
    "tags": [
     "hide-cell"
    ]
   },
   "outputs": [],
   "source": [
    "schüler <- c(\"Luca\", \"Matteo\", \"Emil\")"
   ]
  },
  {
   "cell_type": "markdown",
   "id": "fdba57b7",
   "metadata": {},
   "source": [
    "<!-- loesung: ende-->"
   ]
  }
 ],
 "metadata": {
  "jupytext": {
   "formats": "md:myst",
   "text_representation": {
    "extension": ".md",
    "format_name": "myst",
    "format_version": 0.13,
    "jupytext_version": "1.11.5"
   }
  },
  "kernelspec": {
   "display_name": "R",
   "language": "R",
   "name": "ir"
  },
  "language_info": {
   "codemirror_mode": "r",
   "file_extension": ".r",
   "mimetype": "text/x-r-source",
   "name": "R",
   "pygments_lexer": "r",
   "version": "4.2.3"
  },
  "source_map": [
   13,
   26,
   30,
   35,
   41,
   49,
   53,
   58,
   64,
   72,
   76,
   81,
   88,
   96,
   100,
   105,
   110
  ]
 },
 "nbformat": 4,
 "nbformat_minor": 5
}
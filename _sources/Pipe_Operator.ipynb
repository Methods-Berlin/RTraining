{
 "cells": [
  {
   "cell_type": "markdown",
   "id": "769362ae",
   "metadata": {},
   "source": [
    "# Pipe-Operator\n",
    "\n",
    "<a href=https://raw.githubusercontent.com/Methods-Berlin/RTraining/main/Aufgaben_rmd/Pipe_Operator.Rmd download=Pipe_Operator.Rmd>RMarkdown-Datei mit Lösungen herunterladen</a>\n",
    "\n",
    "\n",
    "<a href=https://raw.githubusercontent.com/Methods-Berlin/RTraining/Rmd_ohne_Loesung/Rmd_ohne_Loesungen/Pipe_Operator.Rmd download=Pipe_Operator.Rmd>RMarkdown-Datei ohne Lösungen herunterladen</a>\n",
    "\n",
    "\n",
    "\n",
    "## Aufgabe 1\n",
    "\n",
    "Schreibe den folgenden Code mit Hilfe des Pipe-Operators um:"
   ]
  },
  {
   "cell_type": "code",
   "execution_count": 1,
   "id": "9a2f455f",
   "metadata": {},
   "outputs": [
    {
     "name": "stdout",
     "output_type": "stream",
     "text": [
      "[1] 15\n"
     ]
    }
   ],
   "source": [
    "numbers <- c(-1, -2, -3, -4, -5)\n",
    "numbers_positive <- abs(numbers)\n",
    "numbers_sum <- sum(numbers_positive)\n",
    "print(numbers_sum)\n"
   ]
  },
  {
   "cell_type": "code",
   "execution_count": 2,
   "id": "ddc34c51",
   "metadata": {},
   "outputs": [],
   "source": [
    "# Hier kannst du deine Lösung ausprobieren.\n",
    "\n"
   ]
  },
  {
   "cell_type": "markdown",
   "id": "f2d9ee64",
   "metadata": {},
   "source": [
    "<!-- loesung: start-->"
   ]
  },
  {
   "cell_type": "code",
   "execution_count": 3,
   "id": "597c6010",
   "metadata": {
    "tags": [
     "hide-cell"
    ]
   },
   "outputs": [
    {
     "name": "stdout",
     "output_type": "stream",
     "text": [
      "[1] 15\n"
     ]
    }
   ],
   "source": [
    "numbers_sum <- c(-1, -2, -3, -4, -5) |> \n",
    "  abs() |> \n",
    "  sum()\n",
    "\n",
    "print(numbers_sum)\n",
    "  "
   ]
  },
  {
   "cell_type": "markdown",
   "id": "a186a944",
   "metadata": {},
   "source": [
    "<!-- loesung: ende-->\n",
    "\n",
    "\n",
    "## Aufgabe 2\n",
    "\n",
    "Erstelle mit Hilfe des Pipe-Operators einen Vektor mit den Werten $1.201, 1.243, 1.264, 1.156$ und runde diese auf zwei Nachkommastellen. Speichere das Endprodukt unter `numbers_round`."
   ]
  },
  {
   "cell_type": "code",
   "execution_count": 4,
   "id": "e5f77bd1",
   "metadata": {},
   "outputs": [],
   "source": [
    "# Hier kannst du deine Lösung ausprobieren.\n",
    "\n"
   ]
  },
  {
   "cell_type": "markdown",
   "id": "8367d9e6",
   "metadata": {},
   "source": [
    "<!-- loesung: start-->"
   ]
  },
  {
   "cell_type": "code",
   "execution_count": 5,
   "id": "1778d3c2",
   "metadata": {
    "tags": [
     "hide-cell"
    ]
   },
   "outputs": [
    {
     "name": "stdout",
     "output_type": "stream",
     "text": [
      "[1] 1.20 1.24 1.26 1.16\n"
     ]
    }
   ],
   "source": [
    "numbers_round <- c(1.201, 1.243, 1.264, 1.156) |> \n",
    "  round(2)\n",
    "\n",
    "print(numbers_round)"
   ]
  },
  {
   "cell_type": "markdown",
   "id": "1432d491",
   "metadata": {},
   "source": [
    "<!-- loesung: ende-->\n",
    "\n",
    "\n",
    "## Aufgabe 3\n",
    "\n",
    "Erstelle mit Hilfe des Pipe-Operators einen Vektor mit den Werten $2,3,6,7$, berechne den Mittelwert und ziehe die Quadratwurzel aus dem Mittelwert. Speichere das Endprodukt unter `score`."
   ]
  },
  {
   "cell_type": "code",
   "execution_count": 6,
   "id": "d50b26b3",
   "metadata": {},
   "outputs": [],
   "source": [
    "# Hier kannst du deine Lösung ausprobieren.\n",
    "\n"
   ]
  },
  {
   "cell_type": "markdown",
   "id": "9ea20084",
   "metadata": {},
   "source": [
    "<!-- loesung: start-->"
   ]
  },
  {
   "cell_type": "code",
   "execution_count": 7,
   "id": "b88d9c1a",
   "metadata": {
    "tags": [
     "hide-cell"
    ]
   },
   "outputs": [
    {
     "name": "stdout",
     "output_type": "stream",
     "text": [
      "[1] 2.12132\n"
     ]
    }
   ],
   "source": [
    "score <- c(2,3,6,7) |> \n",
    "  mean() |> \n",
    "  sqrt()  \n",
    "  \n",
    "\n",
    "print(score)"
   ]
  },
  {
   "cell_type": "markdown",
   "id": "60f66552",
   "metadata": {},
   "source": [
    "<!-- loesung: ende-->"
   ]
  }
 ],
 "metadata": {
  "jupytext": {
   "formats": "md:myst",
   "text_representation": {
    "extension": ".md",
    "format_name": "myst",
    "format_version": 0.13,
    "jupytext_version": "1.11.5"
   }
  },
  "kernelspec": {
   "display_name": "R",
   "language": "R",
   "name": "ir"
  },
  "language_info": {
   "codemirror_mode": "r",
   "file_extension": ".r",
   "mimetype": "text/x-r-source",
   "name": "R",
   "pygments_lexer": "r",
   "version": "4.3.1"
  },
  "source_map": [
   13,
   28,
   37,
   41,
   46,
   55,
   65,
   69,
   74,
   82,
   92,
   96,
   101,
   111
  ]
 },
 "nbformat": 4,
 "nbformat_minor": 5
}
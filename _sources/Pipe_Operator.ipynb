{
 "cells": [
  {
   "cell_type": "markdown",
   "id": "7c29cc72",
   "metadata": {},
   "source": [
    "# Pipe-Operator\n",
    "\n",
    "<a href=https://raw.githubusercontent.com/Methods-Berlin/RTraining/main/Aufgaben_rmd/Pipe_Operator.Rmd download=Pipe_Operator.Rmd>RMarkdown-Datei mit Lösungen herunterladen</a>\n",
    "\n",
    "\n",
    "<a href=https://raw.githubusercontent.com/Methods-Berlin/RTraining/Rmd_ohne_Loesung/Rmd_ohne_Loesungen/Pipe_Operator.Rmd download=Pipe_Operator.Rmd>RMarkdown-Datei ohne Lösungen herunterladen</a>\n",
    "\n",
    "\n",
    "Schreibe den folgenden Code mithilfe des Pipe-Operators um:"
   ]
  },
  {
   "cell_type": "code",
   "execution_count": 1,
   "id": "5d674260",
   "metadata": {},
   "outputs": [
    {
     "name": "stdout",
     "output_type": "stream",
     "text": [
      "[1] 15\n"
     ]
    }
   ],
   "source": [
    "numbers <- c(-1, -2, -3, -4, -5)\n",
    "numbers_positive <- abs(numbers)\n",
    "numbers_sum <- sum(numbers_positive)\n",
    "print(numbers_sum)\n"
   ]
  },
  {
   "cell_type": "code",
   "execution_count": 2,
   "id": "2d5c9689",
   "metadata": {},
   "outputs": [],
   "source": [
    "# Hier kannst du deine Lösung ausprobieren.\n",
    "\n"
   ]
  },
  {
   "cell_type": "markdown",
   "id": "8d3dc0d2",
   "metadata": {},
   "source": [
    "<!-- loesung: start-->"
   ]
  },
  {
   "cell_type": "code",
   "execution_count": 3,
   "id": "9c602753",
   "metadata": {
    "tags": [
     "hide-cell"
    ]
   },
   "outputs": [
    {
     "name": "stdout",
     "output_type": "stream",
     "text": [
      "[1] 15\n"
     ]
    }
   ],
   "source": [
    "numbers_sum <- c(-1, -2, -3, -4, -5) |> \n",
    "  abs() |> \n",
    "  sum()\n",
    "\n",
    "print(numbers_sum)\n",
    "  "
   ]
  },
  {
   "cell_type": "markdown",
   "id": "65b59932",
   "metadata": {},
   "source": [
    "<!-- loesung: ende-->\n",
    "\n",
    "\n",
    "\n",
    "Erstelle mithilfe des Pipe-Operators einen Vektor mit Werten: 1.201, 1.243, 1.264, 1.156; und runde sie auf 2 Nachkommastellen. Speichere das Endprodukt unter \"numbers_round\"."
   ]
  },
  {
   "cell_type": "code",
   "execution_count": 4,
   "id": "cf8f705c",
   "metadata": {},
   "outputs": [],
   "source": [
    "# Hier kannst du deine Lösung ausprobieren.\n",
    "\n"
   ]
  },
  {
   "cell_type": "markdown",
   "id": "7464463d",
   "metadata": {},
   "source": [
    "<!-- loesung: start-->"
   ]
  },
  {
   "cell_type": "code",
   "execution_count": 5,
   "id": "0af5154f",
   "metadata": {
    "tags": [
     "hide-cell"
    ]
   },
   "outputs": [
    {
     "name": "stdout",
     "output_type": "stream",
     "text": [
      "[1] 1.20 1.24 1.26 1.16\n"
     ]
    }
   ],
   "source": [
    "numbers_round <- c(1.201, 1.243, 1.264, 1.156) |> \n",
    "  round(2)\n",
    "\n",
    "print(numbers_round)"
   ]
  },
  {
   "cell_type": "markdown",
   "id": "c55dd306",
   "metadata": {},
   "source": [
    "<!-- loesung: ende-->\n",
    "\n",
    "\n",
    "\n",
    "Erstelle mithilfe des Pipe-Operators einen Vektor mit Werten 2,3,6,7; berechne den Mittelwert und ziehe die Quadratwurzel aus dem Mittelwert. Speichere das Endprodukt unter \"score\"."
   ]
  },
  {
   "cell_type": "code",
   "execution_count": 6,
   "id": "85bcee4a",
   "metadata": {},
   "outputs": [],
   "source": [
    "# Hier kannst du deine Lösung ausprobieren.\n",
    "\n"
   ]
  },
  {
   "cell_type": "markdown",
   "id": "8940fcfb",
   "metadata": {},
   "source": [
    "<!-- loesung: start-->"
   ]
  },
  {
   "cell_type": "code",
   "execution_count": 7,
   "id": "775fb3b3",
   "metadata": {
    "tags": [
     "hide-cell"
    ]
   },
   "outputs": [
    {
     "name": "stdout",
     "output_type": "stream",
     "text": [
      "[1] 2.12132\n"
     ]
    }
   ],
   "source": [
    "score <- c(2,3,6,7) |> \n",
    "  mean() |> \n",
    "  sqrt()  \n",
    "  \n",
    "\n",
    "print(score)"
   ]
  },
  {
   "cell_type": "markdown",
   "id": "ca6e507b",
   "metadata": {},
   "source": [
    "<!-- loesung: ende-->"
   ]
  }
 ],
 "metadata": {
  "jupytext": {
   "formats": "md:myst",
   "text_representation": {
    "extension": ".md",
    "format_name": "myst",
    "format_version": 0.13,
    "jupytext_version": "1.11.5"
   }
  },
  "kernelspec": {
   "display_name": "R",
   "language": "R",
   "name": "ir"
  },
  "language_info": {
   "codemirror_mode": "r",
   "file_extension": ".r",
   "mimetype": "text/x-r-source",
   "name": "R",
   "pygments_lexer": "r",
   "version": "4.2.3"
  },
  "source_map": [
   13,
   25,
   34,
   38,
   43,
   52,
   61,
   65,
   70,
   78,
   87,
   91,
   96,
   106
  ]
 },
 "nbformat": 4,
 "nbformat_minor": 5
}
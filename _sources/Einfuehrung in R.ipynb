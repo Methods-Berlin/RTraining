{
 "cells": [
  {
   "cell_type": "markdown",
   "id": "39b38eb0",
   "metadata": {},
   "source": [
    "# Einführung in R\n",
    "\n",
    "<a href=https://raw.githubusercontent.com/Methods-Berlin/RTraining/main/Aufgaben_rmd/Einfuehrung in R.Rmd download=Einfuehrung in R.Rmd>RMarkdown-Datei herunterladen</a>\n",
    "\n",
    "\n",
    "## Objekt, Logische Operationen \n",
    "\n",
    "1) Erstellen Sie ein Objekt \"x\" und weisen Sie den Wert 5000 zu. Erstellen Sie einen Objekt \"y\" und weisen Sie den Wert 8 hoch 4 zu. Überprüfen Sie, ob der Objekt \"y\" kleiner oder gleich dem Wert \"x\" ist."
   ]
  },
  {
   "cell_type": "code",
   "execution_count": 1,
   "id": "50057604",
   "metadata": {},
   "outputs": [],
   "source": [
    "# Hier kannst du deine Lösung ausprobieren.\n",
    "\n"
   ]
  },
  {
   "cell_type": "code",
   "execution_count": 2,
   "id": "b1bf2413",
   "metadata": {
    "tags": [
     "hide-cell"
    ]
   },
   "outputs": [
    {
     "data": {
      "text/html": [
       "TRUE"
      ],
      "text/latex": [
       "TRUE"
      ],
      "text/markdown": [
       "TRUE"
      ],
      "text/plain": [
       "[1] TRUE"
      ]
     },
     "metadata": {},
     "output_type": "display_data"
    }
   ],
   "source": [
    "\n",
    "x <- 5000\n",
    "y <- 8^4\n",
    "y <= x"
   ]
  },
  {
   "cell_type": "markdown",
   "id": "5ea0ded2",
   "metadata": {},
   "source": [
    "## Vektor, Datentypen, Aritmetische Opertionen  \n",
    "\n",
    "2) Erstellen Sie einen Vektor \"a\" mit folgenden Zahlen: 3,4,6,7,25 und einen Vektor \"b\": 4.5,6.5,8.5,5.5,7.5. Multiplizieren Sie den Vektor \"a\" und mit dem Vektor \"b\" und addieren Sie einen Wert 2. Speichern Sie das Produkt unter einem Objekt \"a_b\". Welches Datentyp wird dieses Objekt beinhalten? Überprüfen Sie es."
   ]
  },
  {
   "cell_type": "code",
   "execution_count": 3,
   "id": "3675fe4e",
   "metadata": {},
   "outputs": [],
   "source": [
    "# Hier kannst du deine Lösung ausprobieren.\n",
    "\n"
   ]
  },
  {
   "cell_type": "code",
   "execution_count": 4,
   "id": "8748ac38",
   "metadata": {
    "tags": [
     "hide-cell"
    ]
   },
   "outputs": [
    {
     "name": "stdout",
     "output_type": "stream",
     "text": [
      " num [1:5] 15.5 28 53 40.5 189.5\n"
     ]
    }
   ],
   "source": [
    "\n",
    "a <- c(3,4,6,7,25)\n",
    "b <- c(4.5,6.5,8.5,5.5,7.5)\n",
    "a_b <- a*b+2\n",
    "str(a_b)"
   ]
  },
  {
   "cell_type": "markdown",
   "id": "3e5a6467",
   "metadata": {},
   "source": [
    "## Zahlenfolgen; seq() & rep()\n",
    "\n",
    "3) Erstellen Sie einen Vektor \"vek_1\" mit einer Zahlreihe von 5 bis 30 in Fünferschritten und einen Vektor \"vek_2\" mit einer Zahlenfolge von 2.5 in 6-facher Ausführung. Subtrahieren Sie den \"vek_2\" vom \"vek_1\". Wie könnte die resultierende Zahlreihe alternativ erzeugt werden?"
   ]
  },
  {
   "cell_type": "code",
   "execution_count": 5,
   "id": "622ffab0",
   "metadata": {},
   "outputs": [],
   "source": [
    "# Hier kannst du deine Lösung ausprobieren.\n",
    "\n"
   ]
  },
  {
   "cell_type": "code",
   "execution_count": 6,
   "id": "6000fdf4",
   "metadata": {
    "tags": [
     "hide-cell"
    ]
   },
   "outputs": [
    {
     "data": {
      "text/html": [
       "<style>\n",
       ".list-inline {list-style: none; margin:0; padding: 0}\n",
       ".list-inline>li {display: inline-block}\n",
       ".list-inline>li:not(:last-child)::after {content: \"\\00b7\"; padding: 0 .5ex}\n",
       "</style>\n",
       "<ol class=list-inline><li>2.5</li><li>7.5</li><li>12.5</li><li>17.5</li><li>22.5</li><li>27.5</li></ol>\n"
      ],
      "text/latex": [
       "\\begin{enumerate*}\n",
       "\\item 2.5\n",
       "\\item 7.5\n",
       "\\item 12.5\n",
       "\\item 17.5\n",
       "\\item 22.5\n",
       "\\item 27.5\n",
       "\\end{enumerate*}\n"
      ],
      "text/markdown": [
       "1. 2.5\n",
       "2. 7.5\n",
       "3. 12.5\n",
       "4. 17.5\n",
       "5. 22.5\n",
       "6. 27.5\n",
       "\n",
       "\n"
      ],
      "text/plain": [
       "[1]  2.5  7.5 12.5 17.5 22.5 27.5"
      ]
     },
     "metadata": {},
     "output_type": "display_data"
    },
    {
     "data": {
      "text/html": [
       "<style>\n",
       ".list-inline {list-style: none; margin:0; padding: 0}\n",
       ".list-inline>li {display: inline-block}\n",
       ".list-inline>li:not(:last-child)::after {content: \"\\00b7\"; padding: 0 .5ex}\n",
       "</style>\n",
       "<ol class=list-inline><li>2.5</li><li>7.5</li><li>12.5</li><li>17.5</li><li>22.5</li><li>27.5</li></ol>\n"
      ],
      "text/latex": [
       "\\begin{enumerate*}\n",
       "\\item 2.5\n",
       "\\item 7.5\n",
       "\\item 12.5\n",
       "\\item 17.5\n",
       "\\item 22.5\n",
       "\\item 27.5\n",
       "\\end{enumerate*}\n"
      ],
      "text/markdown": [
       "1. 2.5\n",
       "2. 7.5\n",
       "3. 12.5\n",
       "4. 17.5\n",
       "5. 22.5\n",
       "6. 27.5\n",
       "\n",
       "\n"
      ],
      "text/plain": [
       "[1]  2.5  7.5 12.5 17.5 22.5 27.5"
      ]
     },
     "metadata": {},
     "output_type": "display_data"
    }
   ],
   "source": [
    "\n",
    "vek_1 <- seq(5,30,5)\n",
    "vek_2 <- rep(2.5,6)\n",
    "vek_1 - vek_2\n",
    "seq(2.5,27.5,5)"
   ]
  },
  {
   "cell_type": "markdown",
   "id": "32b5a134",
   "metadata": {},
   "source": [
    "## Speziallfall Faktor, Indexieren \n",
    "\n",
    "4) In einer Klasse sind folgende Schüler: Anton, Luca, Matteo, Max und Emil. \n",
    "\n",
    "a) Erstellen Sie einen  Faktor (speziellen Vektor) \"schüler_1\" mit den Namen. Die Namen der Schüler sollen in einer alphabetischen auftreten. Wie könnten Sie effizient dieses machen? \n",
    "b) Lassen Sie sich den Namen des 4. Schülers ausgeben. \n",
    "c) Erstellen Sie nun einen weiteren Faktor \"schüler_2\" bei dem die Namen in der ursprunglichen Reihenfolge (Anton, Luca, Matteo, Max und Emil) sortiert sind. \n",
    "d) Lassen Sie sich die beiden Faktoren ausgeben."
   ]
  },
  {
   "cell_type": "code",
   "execution_count": 7,
   "id": "8bc34ae7",
   "metadata": {},
   "outputs": [],
   "source": [
    "# Hier kannst du deine Lösung ausprobieren.\n",
    "\n"
   ]
  },
  {
   "cell_type": "code",
   "execution_count": 8,
   "id": "0c70d6cb",
   "metadata": {
    "tags": [
     "hide-cell"
    ]
   },
   "outputs": [
    {
     "ename": "ERROR",
     "evalue": "Error in eval(expr, envir, enclos): object 'schüler' not found\n",
     "output_type": "error",
     "traceback": [
      "Error in eval(expr, envir, enclos): object 'schüler' not found\nTraceback:\n"
     ]
    }
   ],
   "source": [
    "\n",
    "#a)\n",
    "schüler_1 <- factor(c(\"Anton\", \"Luca\", \"Matteo\", \"Max\", \"Emil\"), ordered = TRUE)\n",
    "\n",
    "#b)\n",
    "schüler[4]\n",
    "\n",
    "#c)\n",
    "schüler_2 <- factor(schüler_1, ordered=TRUE, levels=c(\"Anton\", \"Luca\", \"Matteo\", \"Max\", \"Emil\"))\n",
    "\n",
    "#d)\n",
    "print(schüler_1) #alternativ auch ohne \"print()\"\n",
    "print(schüler_2) #alternativ auch ohne \"print()\""
   ]
  },
  {
   "cell_type": "markdown",
   "id": "fefbc326",
   "metadata": {},
   "source": [
    "## Matrizen \n",
    "\n",
    "5) Erstellen Sie eine Matrix \"m_1\" mit den 2 Zeilen und 2 Spalten mit den Zahlen 4,7,9,2, die zeilenweise  eingetragen werden. \n",
    "a) Lassen Sie sich die 1. Zeile ausgeben. \n",
    "b) Lassen Sie sich die 2. Spalte ausgeben."
   ]
  },
  {
   "cell_type": "code",
   "execution_count": null,
   "id": "f3f6879c",
   "metadata": {},
   "outputs": [],
   "source": [
    "# Hier kannst du deine Lösung ausprobieren.\n",
    "\n"
   ]
  },
  {
   "cell_type": "code",
   "execution_count": null,
   "id": "f0a886ee",
   "metadata": {
    "tags": [
     "hide-cell"
    ]
   },
   "outputs": [],
   "source": [
    "\n",
    "m_1 <- matrix(data = c(4,7,9,2), nrow = 2, ncol = 2, byrow = TRUE)\n",
    "\n",
    "#a) \n",
    "m_1[1, ]\n",
    "#b) \n",
    "m_1[ , 2]"
   ]
  },
  {
   "cell_type": "markdown",
   "id": "80aa8107",
   "metadata": {},
   "source": [
    "6) Erstellen Sie eine Matrix \"m_2\" mit den Zahlen 3 Zeilen und 3 Reihen mit den Zahlen 7,3,0,5,6,1,1,9,11 die spaltenweise eingetragen werden. \n",
    "a) Lassen Sie sich den Wert in der 1. Zeile und 3. Spalte ausgeben. \n",
    "b) Lassen Sie sich den Wert in der 2. Zeile und 3. Spalte ausgeben.\n",
    "c) Bennen Sie die Zeilen A1, A2, A3 und die Spalten B1, B2, B3."
   ]
  },
  {
   "cell_type": "code",
   "execution_count": null,
   "id": "ebded423",
   "metadata": {},
   "outputs": [],
   "source": [
    "# Hier kannst du deine Lösung ausprobieren.\n",
    "\n"
   ]
  },
  {
   "cell_type": "code",
   "execution_count": null,
   "id": "46dd0e64",
   "metadata": {
    "tags": [
     "hide-cell"
    ]
   },
   "outputs": [],
   "source": [
    "\n",
    "m_2 <- matrix(data = c(7,3,0,5,6,1,1,9,11), nrow = 3, byrow = FALSE)\n",
    "#a)\n",
    "m_2[1,3]\n",
    "#b)\n",
    "m_2[2,3]\n",
    "#c)\n",
    "rownames(m_2) <- c(\"A1\", \"A2\", \"A3\")\n",
    "colnames(m_2) <- c(\"B1\", \"B2\", \"B3\")"
   ]
  },
  {
   "cell_type": "markdown",
   "id": "2caea22d",
   "metadata": {},
   "source": [
    "## Liste\n",
    "\n",
    "7) Erstellen Sie eine Liste für einen Sportwettkampf mit folgenden Objekten: \n",
    "a) Sportler: Tim, Alex, Finn, Martin \n",
    "b) Start: True, True, True, False\n",
    "b) Platz: 2,3,1, NA\n",
    "c) Qualifikation: False, False, True, False\n",
    "\n",
    "Lassen Sie sich aus der Liste den Objekt \"Start\" ausgeben."
   ]
  },
  {
   "cell_type": "code",
   "execution_count": null,
   "id": "df089b6d",
   "metadata": {},
   "outputs": [],
   "source": [
    "# Hier kannst du deine Lösung ausprobieren.\n",
    "\n"
   ]
  },
  {
   "cell_type": "code",
   "execution_count": null,
   "id": "26214103",
   "metadata": {
    "tags": [
     "hide-cell"
    ]
   },
   "outputs": [],
   "source": [
    "\n",
    "list_wettkampf <- list(Sportler = c(\"Tim\", \"Alex\", \"Finn\", \"Martin\"),\n",
    "                       Start = c(T,T,T,F),\n",
    "                       Platz = c(2,3,1,NA),\n",
    "                       Qualifikation = c(F, F, T,F))\n",
    "\n",
    "list_wettkampf$Start"
   ]
  },
  {
   "cell_type": "markdown",
   "id": "eda70d4e",
   "metadata": {},
   "source": [
    "## Dataframe \n",
    "\n",
    "8) Sie führen eine Studie zur Persönlichkeit und möchten bei 4 Personen Extraversion und Verträglichkeit mithilfe eines Fragebogens erfassen. Schließlich bekommen Sie die Mittelwerte der jeweiligen Skala für jeden Teilnehmer. Die Mittelwerte für Extraversion für die 4 Teilnehmer sind: 3.0, 2.5, 3.0, 3.5 und die Mittelwerte der Verträglichkeit sind: 4.0, 3.5, 4.5, 3.0. Erstellen Sie einen Datensatz \"Persönlichkeit\" mit 3 Spalten: \"Teilnehmer\", \"E\" (Extraversion) und \"V\" (Verträglichkeit). Lassen Sie sich den Wert für Verstäglichkeit des 2. Teilnehmers ausgeben."
   ]
  },
  {
   "cell_type": "code",
   "execution_count": null,
   "id": "0eda14b1",
   "metadata": {},
   "outputs": [],
   "source": [
    "# Hier kannst du deine Lösung ausprobieren.\n",
    "\n"
   ]
  },
  {
   "cell_type": "code",
   "execution_count": null,
   "id": "7489ae7e",
   "metadata": {
    "tags": [
     "hide-cell"
    ]
   },
   "outputs": [],
   "source": [
    "\n",
    "Teilnehmer <- c(1,2,3,4)\n",
    "E <- c(3.0, 2.5, 3.0, 3.5)\n",
    "V <- c(4.0, 3.5, 4.5, 3.0)\n",
    "\n",
    "Persönlichkeit <- data.frame(Teilnehmer, E, V)\n",
    "\n",
    "Persönlichkeit[2,3] "
   ]
  },
  {
   "cell_type": "markdown",
   "id": "5e648069",
   "metadata": {},
   "source": [
    "9) Wandeln Sie die Wettkampfsliste aus der vorherigen Aufgabe in einen Datensatz."
   ]
  },
  {
   "cell_type": "code",
   "execution_count": null,
   "id": "1bb7c4bd",
   "metadata": {},
   "outputs": [],
   "source": [
    "# Hier kannst du deine Lösung ausprobieren.\n",
    "\n"
   ]
  },
  {
   "cell_type": "code",
   "execution_count": null,
   "id": "a71f8f68",
   "metadata": {
    "tags": [
     "hide-cell"
    ]
   },
   "outputs": [],
   "source": [
    "\n",
    "data.frame(list_wettkampf)"
   ]
  }
 ],
 "metadata": {
  "jupytext": {
   "formats": "md:myst",
   "text_representation": {
    "extension": ".md",
    "format_name": "myst",
    "format_version": 0.13,
    "jupytext_version": "1.11.5"
   }
  },
  "kernelspec": {
   "display_name": "R",
   "language": "R",
   "name": "ir"
  },
  "language_info": {
   "codemirror_mode": "r",
   "file_extension": ".r",
   "mimetype": "text/x-r-source",
   "name": "R",
   "pygments_lexer": "r",
   "version": "4.2.3"
  },
  "source_map": [
   13,
   25,
   33,
   41,
   49,
   57,
   66,
   74,
   82,
   91,
   104,
   112,
   129,
   139,
   147,
   158,
   168,
   176,
   189,
   203,
   211,
   222,
   230,
   238,
   250,
   257,
   265
  ]
 },
 "nbformat": 4,
 "nbformat_minor": 5
}
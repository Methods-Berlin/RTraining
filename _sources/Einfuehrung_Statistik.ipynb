{
 "cells": [
  {
   "cell_type": "markdown",
   "id": "939613c0",
   "metadata": {},
   "source": [
    "# Einführung in Statistik\n",
    "\n",
    "<a href=https://raw.githubusercontent.com/Methods-Berlin/RTraining/main/Aufgaben_rmd/Einfuehrung_Statistik.Rmd download=Einfuehrung_Statistik.Rmd>RMarkdown-Datei mit Lösungen herunterladen</a>\n",
    "\n",
    "\n",
    "<a href=https://raw.githubusercontent.com/Methods-Berlin/RTraining/Rmd_ohne_Loesung/Rmd_ohne_Loesungen/Einfuehrung_Statistik.Rmd download=Einfuehrung_Statistik.Rmd>RMarkdown-Datei ohne Lösungen herunterladen</a>\n",
    "\n",
    "\n",
    "## Mittelwerte berechnen\n",
    "\n",
    "Erstelle einen Vektor x und berechne den Mittelwert."
   ]
  },
  {
   "cell_type": "code",
   "execution_count": 1,
   "id": "aac1cf5c",
   "metadata": {},
   "outputs": [],
   "source": [
    "# Hier kannst du deine Lösung ausprobieren."
   ]
  },
  {
   "cell_type": "markdown",
   "id": "fcb5bd7c",
   "metadata": {},
   "source": [
    "<!-- loesung: start-->"
   ]
  },
  {
   "cell_type": "code",
   "execution_count": 2,
   "id": "3f0dc384",
   "metadata": {
    "tags": [
     "hide-cell"
    ]
   },
   "outputs": [
    {
     "data": {
      "text/html": [
       "2.5"
      ],
      "text/latex": [
       "2.5"
      ],
      "text/markdown": [
       "2.5"
      ],
      "text/plain": [
       "[1] 2.5"
      ]
     },
     "metadata": {},
     "output_type": "display_data"
    }
   ],
   "source": [
    "x <- c(1,2,3,4)\n",
    "mean(x)"
   ]
  },
  {
   "cell_type": "markdown",
   "id": "03080f0c",
   "metadata": {},
   "source": [
    "<!-- loesung: ende-->"
   ]
  }
 ],
 "metadata": {
  "jupytext": {
   "formats": "md:myst",
   "text_representation": {
    "extension": ".md",
    "format_name": "myst",
    "format_version": 0.13,
    "jupytext_version": "1.11.5"
   }
  },
  "kernelspec": {
   "display_name": "R",
   "language": "R",
   "name": "ir"
  },
  "language_info": {
   "codemirror_mode": "r",
   "file_extension": ".r",
   "mimetype": "text/x-r-source",
   "name": "R",
   "pygments_lexer": "r",
   "version": "4.2.3"
  },
  "source_map": [
   13,
   28,
   30,
   36,
   41
  ]
 },
 "nbformat": 4,
 "nbformat_minor": 5
}
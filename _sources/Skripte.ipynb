{
 "cells": [
  {
   "cell_type": "markdown",
   "id": "9afe869f",
   "metadata": {},
   "source": [
    "# Skripte \n",
    "\n",
    "<a href=https://raw.githubusercontent.com/Methods-Berlin/RTraining/main/Aufgaben_rmd/Skripte.Rmd download=Skripte.Rmd>RMarkdown-Datei mit Lösungen herunterladen</a>\n",
    "\n",
    "\n",
    "<a href=https://raw.githubusercontent.com/Methods-Berlin/RTraining/Rmd_ohne_Loesung/Rmd_ohne_Loesungen/Skripte.Rmd download=Skripte.Rmd>RMarkdown-Datei ohne Lösungen herunterladen</a>\n",
    "\n",
    "\n",
    "\n",
    "## Aufgabe 1\n",
    "\n",
    "Öffne ein neues Script und führe den folgenden Code aus:"
   ]
  },
  {
   "cell_type": "code",
   "execution_count": 1,
   "id": "9148de54",
   "metadata": {},
   "outputs": [],
   "source": [
    "x <- 7 \n",
    "y <- 3\n",
    "xy <- x * y \n"
   ]
  },
  {
   "cell_type": "markdown",
   "id": "5894e7a0",
   "metadata": {},
   "source": [
    "## Aufgabe 2\n",
    "\n",
    "Beschreibe mit Hilfe von Kommentaren, was der Code in jeder Zeile macht."
   ]
  },
  {
   "cell_type": "code",
   "execution_count": 2,
   "id": "28e55ba5",
   "metadata": {},
   "outputs": [],
   "source": [
    "# Hier kannst du deine Lösung ausprobieren.\n",
    "\n"
   ]
  },
  {
   "cell_type": "markdown",
   "id": "30790107",
   "metadata": {},
   "source": [
    "<!-- loesung: start-->"
   ]
  },
  {
   "cell_type": "code",
   "execution_count": 3,
   "id": "23132eda",
   "metadata": {
    "tags": [
     "hide-cell"
    ]
   },
   "outputs": [],
   "source": [
    "x <- 7 # 7 speichern unter Objekt \"x\" \n",
    "y <- 3 # 3 speichern unter Objekt \"y\" \n",
    "xy <- x * y # \"x\" und \"y\" addieren und das Ergebnis als \"xy\" speichern "
   ]
  },
  {
   "cell_type": "markdown",
   "id": "9cac1608",
   "metadata": {},
   "source": [
    "<!-- loesung: ende-->\n",
    "\n",
    "\n",
    "## Aufgabe 3\n",
    "\n",
    "Benutze dasselbe Script, um die Aufgaben zum Thema [R als Taschenrechner] (R_als_Taschenrechner.Rmd) zu bearbeiten. Wenn du diese Aufgaben bereits bearbeitet hast, dann bearbeite die Aufgaben zum nächsten Thema des R Crash Course. Um den Code verständlicher zu machen, verwende Kommentare mit `#`. Speichere dein Script, wenn du fertig bist."
   ]
  }
 ],
 "metadata": {
  "jupytext": {
   "formats": "md:myst",
   "text_representation": {
    "extension": ".md",
    "format_name": "myst",
    "format_version": 0.13,
    "jupytext_version": "1.11.5"
   }
  },
  "kernelspec": {
   "display_name": "R",
   "language": "R",
   "name": "ir"
  },
  "language_info": {
   "codemirror_mode": "r",
   "file_extension": ".r",
   "mimetype": "text/x-r-source",
   "name": "R",
   "pygments_lexer": "r",
   "version": "4.3.1"
  },
  "source_map": [
   13,
   28,
   33,
   41,
   45,
   50,
   57
  ]
 },
 "nbformat": 4,
 "nbformat_minor": 5
}
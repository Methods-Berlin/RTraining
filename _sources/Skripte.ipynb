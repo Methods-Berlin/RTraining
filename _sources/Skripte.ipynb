{
 "cells": [
  {
   "cell_type": "markdown",
   "id": "d58f6f26",
   "metadata": {},
   "source": [
    "# Skripte \n",
    "\n",
    "<a href=https://raw.githubusercontent.com/Methods-Berlin/RTraining/main/Aufgaben_rmd/Skripte.Rmd download=Skripte.Rmd>RMarkdown-Datei mit Lösungen herunterladen</a>\n",
    "\n",
    "\n",
    "<a href=https://raw.githubusercontent.com/Methods-Berlin/RTraining/Rmd_ohne_Loesung/Rmd_ohne_Loesungen/Skripte.Rmd download=Skripte.Rmd>RMarkdown-Datei ohne Lösungen herunterladen</a>\n",
    "\n",
    "\n",
    "Öffne ein neues Skript und führe folgenden Code aus:"
   ]
  },
  {
   "cell_type": "code",
   "execution_count": 1,
   "id": "30b4d92a",
   "metadata": {},
   "outputs": [],
   "source": [
    "x <- 7 \n",
    "y <- 3\n",
    "xy <- x * y \n"
   ]
  },
  {
   "cell_type": "markdown",
   "id": "3a9ec8f5",
   "metadata": {},
   "source": [
    "Beschreibe mit Kommentaren, was der Code in jeder Zeile macht."
   ]
  },
  {
   "cell_type": "code",
   "execution_count": 2,
   "id": "89f36d5c",
   "metadata": {},
   "outputs": [],
   "source": [
    "# Hier kannst du deine Lösung ausprobieren.\n",
    "\n"
   ]
  },
  {
   "cell_type": "markdown",
   "id": "d6f0226d",
   "metadata": {},
   "source": [
    "<!-- loesung: start-->"
   ]
  },
  {
   "cell_type": "code",
   "execution_count": 3,
   "id": "158d85b8",
   "metadata": {
    "tags": [
     "hide-cell"
    ]
   },
   "outputs": [],
   "source": [
    "x <- 7 # 7 unter Objekt \"x\" speichern\n",
    "y <- 3 # 3 unter Objekt \"y\" speichern\n",
    "xy <- x * y # \"x\" und \"y\" addieren und das Ergebnis unter \"xy\" speichern "
   ]
  },
  {
   "cell_type": "markdown",
   "id": "087a7fbd",
   "metadata": {},
   "source": [
    "<!-- loesung: ende-->\n",
    "\n",
    "\n",
    "Benutze dasselbe Skript, um die Aufgaben zum Thema [R als Taschenrechner] (R_als_Taschenrechner.qmd) zu bearbeiten. Falls du die Aufgaben schon bearbeitet hast, bearbeite dann die Aufgaben zum nächsten Thema aus dem R Crash Course. Benutze dabei die Kommentare mithilfe von \"#\", um den Code verständlicher zu machen. Wenn du fertig bist, speichere dein Skript."
   ]
  }
 ],
 "metadata": {
  "jupytext": {
   "formats": "md:myst",
   "text_representation": {
    "extension": ".md",
    "format_name": "myst",
    "format_version": 0.13,
    "jupytext_version": "1.11.5"
   }
  },
  "kernelspec": {
   "display_name": "R",
   "language": "R",
   "name": "ir"
  },
  "language_info": {
   "codemirror_mode": "r",
   "file_extension": ".r",
   "mimetype": "text/x-r-source",
   "name": "R",
   "pygments_lexer": "r",
   "version": "4.2.3"
  },
  "source_map": [
   13,
   25,
   30,
   35,
   39,
   44,
   51
  ]
 },
 "nbformat": 4,
 "nbformat_minor": 5
}
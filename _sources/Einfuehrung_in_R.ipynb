{
 "cells": [
  {
   "cell_type": "markdown",
   "id": "310d8c48",
   "metadata": {},
   "source": [
    "# Einführung in R\n",
    "\n",
    "<a href=https://raw.githubusercontent.com/Methods-Berlin/RTraining/main/Aufgaben_rmd/Einfuehrung_in_R.Rmd download=Einfuehrung_in_R.Rmd>RMarkdown-Datei mit Lösungen herunterladen</a>\n",
    "\n",
    "\n",
    "<a href=https://raw.githubusercontent.com/Methods-Berlin/RTraining/Rmd_ohne_Loesung/Rmd_ohne_Loesungen/Einfuehrung_in_R.Rmd download=Einfuehrung_in_R.Rmd>RMarkdown-Datei ohne Lösungen herunterladen</a>\n",
    "\n",
    "\n",
    "## Objekt, Logische Operationen \n",
    "\n",
    "Erstelle ein Objekt \"x\" und weise den Wert 5000 zu. Erstelle ein Objekt \"y\" und weise den Wert 8 hoch 4 zu. Überprüfe, ob der Objekt \"y\" kleiner oder gleich dem Wert \"x\" ist."
   ]
  },
  {
   "cell_type": "code",
   "execution_count": 1,
   "id": "041b42c3",
   "metadata": {},
   "outputs": [],
   "source": [
    "# Hier kannst du deine Lösung ausprobieren.\n",
    "\n"
   ]
  },
  {
   "cell_type": "markdown",
   "id": "6eb4cc64",
   "metadata": {},
   "source": [
    "<!-- loesung: start-->"
   ]
  },
  {
   "cell_type": "code",
   "execution_count": 2,
   "id": "2eab87da",
   "metadata": {
    "tags": [
     "hide-cell"
    ]
   },
   "outputs": [
    {
     "data": {
      "text/html": [
       "TRUE"
      ],
      "text/latex": [
       "TRUE"
      ],
      "text/markdown": [
       "TRUE"
      ],
      "text/plain": [
       "[1] TRUE"
      ]
     },
     "metadata": {},
     "output_type": "display_data"
    }
   ],
   "source": [
    "x <- 5000\n",
    "y <- 8^4\n",
    "y <= x"
   ]
  },
  {
   "cell_type": "markdown",
   "id": "7910c106",
   "metadata": {},
   "source": [
    "<!-- loesung: ende-->\n",
    "\n",
    "## Vektor, Datentypen, Arithmetische Operationen\n",
    "\n",
    "Erstelle einen Vektor \"a\" mit folgenden Zahlen: 3,4,6,7,25 und einen Vektor \"b\": 4.5,6.5,8.5,5.5,7.5. Multipliziere den Vektor \"a\" und mit dem Vektor \"b\" und addiere den Wert 2. Speichere das Produkt unter einem Objekt \"a_b\". Welches Datentyp wird dieses Objekt beinhalten? Überprüfe es."
   ]
  },
  {
   "cell_type": "code",
   "execution_count": 3,
   "id": "77c05973",
   "metadata": {},
   "outputs": [],
   "source": [
    "# Hier kannst du deine Lösung ausprobieren.\n",
    "\n"
   ]
  },
  {
   "cell_type": "markdown",
   "id": "ad9c106e",
   "metadata": {},
   "source": [
    "<!-- loesung: start-->"
   ]
  },
  {
   "cell_type": "code",
   "execution_count": 4,
   "id": "09e1e2a7",
   "metadata": {
    "tags": [
     "hide-cell"
    ]
   },
   "outputs": [
    {
     "name": "stdout",
     "output_type": "stream",
     "text": [
      " num [1:5] 15.5 28 53 40.5 189.5\n"
     ]
    }
   ],
   "source": [
    "a <- c(3,4,6,7,25)\n",
    "b <- c(4.5,6.5,8.5,5.5,7.5)\n",
    "a_b <- a*b+2\n",
    "str(a_b)"
   ]
  },
  {
   "cell_type": "markdown",
   "id": "3d5aed9b",
   "metadata": {},
   "source": [
    "<!-- loesung: ende-->\n",
    "\n",
    "## Zahlenfolgen; seq() & rep()\n",
    "\n",
    "Erstelle einen Vektor \"vek_1\" mit einer Zahlreihe von 5 bis 30 in Fünferschritten und einen Vektor \"vek_2\" mit einer Zahlenfolge von 2.5 in 6-facher Ausführung. Subtrahiere den \"vek_2\" vom \"vek_1\". Wie könnte die resultierende Zahlreihe alternativ erzeugt werden?"
   ]
  },
  {
   "cell_type": "code",
   "execution_count": 5,
   "id": "c7dda18f",
   "metadata": {},
   "outputs": [],
   "source": [
    "# Hier kannst du deine Lösung ausprobieren.\n",
    "\n"
   ]
  },
  {
   "cell_type": "markdown",
   "id": "f49a9d24",
   "metadata": {},
   "source": [
    "<!-- loesung: start-->"
   ]
  },
  {
   "cell_type": "code",
   "execution_count": 6,
   "id": "4f6fd2c4",
   "metadata": {
    "tags": [
     "hide-cell"
    ]
   },
   "outputs": [
    {
     "data": {
      "text/html": [
       "<style>\n",
       ".list-inline {list-style: none; margin:0; padding: 0}\n",
       ".list-inline>li {display: inline-block}\n",
       ".list-inline>li:not(:last-child)::after {content: \"\\00b7\"; padding: 0 .5ex}\n",
       "</style>\n",
       "<ol class=list-inline><li>2.5</li><li>7.5</li><li>12.5</li><li>17.5</li><li>22.5</li><li>27.5</li></ol>\n"
      ],
      "text/latex": [
       "\\begin{enumerate*}\n",
       "\\item 2.5\n",
       "\\item 7.5\n",
       "\\item 12.5\n",
       "\\item 17.5\n",
       "\\item 22.5\n",
       "\\item 27.5\n",
       "\\end{enumerate*}\n"
      ],
      "text/markdown": [
       "1. 2.5\n",
       "2. 7.5\n",
       "3. 12.5\n",
       "4. 17.5\n",
       "5. 22.5\n",
       "6. 27.5\n",
       "\n",
       "\n"
      ],
      "text/plain": [
       "[1]  2.5  7.5 12.5 17.5 22.5 27.5"
      ]
     },
     "metadata": {},
     "output_type": "display_data"
    },
    {
     "data": {
      "text/html": [
       "<style>\n",
       ".list-inline {list-style: none; margin:0; padding: 0}\n",
       ".list-inline>li {display: inline-block}\n",
       ".list-inline>li:not(:last-child)::after {content: \"\\00b7\"; padding: 0 .5ex}\n",
       "</style>\n",
       "<ol class=list-inline><li>2.5</li><li>7.5</li><li>12.5</li><li>17.5</li><li>22.5</li><li>27.5</li></ol>\n"
      ],
      "text/latex": [
       "\\begin{enumerate*}\n",
       "\\item 2.5\n",
       "\\item 7.5\n",
       "\\item 12.5\n",
       "\\item 17.5\n",
       "\\item 22.5\n",
       "\\item 27.5\n",
       "\\end{enumerate*}\n"
      ],
      "text/markdown": [
       "1. 2.5\n",
       "2. 7.5\n",
       "3. 12.5\n",
       "4. 17.5\n",
       "5. 22.5\n",
       "6. 27.5\n",
       "\n",
       "\n"
      ],
      "text/plain": [
       "[1]  2.5  7.5 12.5 17.5 22.5 27.5"
      ]
     },
     "metadata": {},
     "output_type": "display_data"
    }
   ],
   "source": [
    "vek_1 <- seq(5,30,5)\n",
    "vek_2 <- rep(2.5,6)\n",
    "vek_1 - vek_2\n",
    "seq(2.5,27.5,5)"
   ]
  },
  {
   "cell_type": "markdown",
   "id": "2bece0d3",
   "metadata": {},
   "source": [
    "<!-- loesung: ende-->\n",
    "\n",
    "## Speziallfall Faktor, Indexieren \n",
    "\n",
    "In einer Klasse sind folgende Schüler: Anton, Luca, Matteo, Max und Emil. \n",
    "\n",
    "a) Erstelle einen  Faktor (speziellen Vektor) \"schüler_1\" mit den Namen. Die Namen der Schüler sollen in einer alphabetischen auftreten. Wie könntest du dieses effizient machen? \n",
    "b) Lass dir den Namen des 4. Schülers ausgeben. \n",
    "c) Erstelle nun einen weiteren Faktor \"schüler_2\" bei dem die Namen in der ursprunglichen Reihenfolge (Anton, Luca, Matteo, Max und Emil) sortiert sind. \n",
    "d) Lass dir die beiden Faktoren ausgeben."
   ]
  },
  {
   "cell_type": "code",
   "execution_count": 7,
   "id": "896f93e6",
   "metadata": {},
   "outputs": [],
   "source": [
    "# Hier kannst du deine Lösung ausprobieren.\n",
    "\n"
   ]
  },
  {
   "cell_type": "markdown",
   "id": "44642a2e",
   "metadata": {},
   "source": [
    "<!-- loesung: start-->"
   ]
  },
  {
   "cell_type": "code",
   "execution_count": 8,
   "id": "e1da792d",
   "metadata": {
    "tags": [
     "hide-cell"
    ]
   },
   "outputs": [
    {
     "ename": "ERROR",
     "evalue": "Error in eval(expr, envir, enclos): object 'schüler' not found\n",
     "output_type": "error",
     "traceback": [
      "Error in eval(expr, envir, enclos): object 'schüler' not found\nTraceback:\n"
     ]
    }
   ],
   "source": [
    "#a)\n",
    "schüler_1 <- factor(c(\"Anton\", \"Luca\", \"Matteo\", \"Max\", \"Emil\"), ordered = TRUE)\n",
    "\n",
    "#b)\n",
    "schüler[4]\n",
    "\n",
    "#c)\n",
    "schüler_2 <- factor(schüler_1, ordered=TRUE, levels=c(\"Anton\", \"Luca\", \"Matteo\", \"Max\", \"Emil\"))\n",
    "\n",
    "#d)\n",
    "print(schüler_1) #alternativ auch ohne \"print()\"\n",
    "print(schüler_2) #alternativ auch ohne \"print()\""
   ]
  },
  {
   "cell_type": "markdown",
   "id": "0469bc20",
   "metadata": {},
   "source": [
    "<!-- loesung: ende-->\n",
    "\n",
    "## Matrizen \n",
    "\n",
    "Erstelle eine Matrix \"m_1\" mit den 2 Zeilen und 2 Spalten mit den Zahlen 4,7,9,2, die zeilenweise eingetragen werden. \n",
    "a) Lass dir die 1. Zeile ausgeben. \n",
    "b) Lass dir die 2. Spalte ausgeben."
   ]
  },
  {
   "cell_type": "code",
   "execution_count": null,
   "id": "17223e2c",
   "metadata": {},
   "outputs": [],
   "source": [
    "# Hier kannst du deine Lösung ausprobieren.\n",
    "\n"
   ]
  },
  {
   "cell_type": "markdown",
   "id": "4234789e",
   "metadata": {},
   "source": [
    "<!-- loesung: start-->"
   ]
  },
  {
   "cell_type": "code",
   "execution_count": null,
   "id": "76f5bdb7",
   "metadata": {
    "tags": [
     "hide-cell"
    ]
   },
   "outputs": [],
   "source": [
    "m_1 <- matrix(data = c(4,7,9,2), nrow = 2, ncol = 2, byrow = TRUE)\n",
    "\n",
    "#a) \n",
    "m_1[1, ]\n",
    "#b) \n",
    "m_1[ , 2]"
   ]
  },
  {
   "cell_type": "markdown",
   "id": "3370db14",
   "metadata": {},
   "source": [
    "<!-- loesung: ende-->\n",
    "\n",
    "Erstelle eine Matrix \"m_2\" mit den Zahlen 3 Zeilen und 3 Reihen mit den Zahlen 7,3,0,5,6,1,1,9,11 die spaltenweise eingetragen werden. \n",
    "a) Lass dir den Wert in der 1. Zeile und 3. Spalte ausgeben. \n",
    "b) Lass dir den Wert in der 2. Zeile und 3. Spalte ausgeben.\n",
    "c) Benenne die Zeilen A1, A2, A3 und die Spalten B1, B2, B3."
   ]
  },
  {
   "cell_type": "code",
   "execution_count": null,
   "id": "d565de01",
   "metadata": {},
   "outputs": [],
   "source": [
    "# Hier kannst du deine Lösung ausprobieren.\n",
    "\n"
   ]
  },
  {
   "cell_type": "markdown",
   "id": "c0069eb3",
   "metadata": {},
   "source": [
    "<!-- loesung: start-->"
   ]
  },
  {
   "cell_type": "code",
   "execution_count": null,
   "id": "3852c11f",
   "metadata": {
    "tags": [
     "hide-cell"
    ]
   },
   "outputs": [],
   "source": [
    "m_2 <- matrix(data = c(7,3,0,5,6,1,1,9,11), nrow = 3, byrow = FALSE)\n",
    "#a)\n",
    "m_2[1,3]\n",
    "#b)\n",
    "m_2[2,3]\n",
    "#c)\n",
    "rownames(m_2) <- c(\"A1\", \"A2\", \"A3\")\n",
    "colnames(m_2) <- c(\"B1\", \"B2\", \"B3\")"
   ]
  },
  {
   "cell_type": "markdown",
   "id": "4b414819",
   "metadata": {},
   "source": [
    "<!-- loesung: ende-->\n",
    "\n",
    "## Liste\n",
    "\n",
    "Erstelle eine Liste für einen Sportwettkampf mit folgenden Objekten: \n",
    "a) Sportler: Tim, Alex, Finn, Martin \n",
    "b) Start: True, True, True, False\n",
    "b) Platz: 2,3,1, NA\n",
    "c) Qualifikation: False, False, True, False\n",
    "\n",
    "Lass dir aus der Liste das Objekt \"Start\" ausgeben."
   ]
  },
  {
   "cell_type": "code",
   "execution_count": null,
   "id": "8eb8ff91",
   "metadata": {},
   "outputs": [],
   "source": [
    "# Hier kannst du deine Lösung ausprobieren.\n",
    "\n"
   ]
  },
  {
   "cell_type": "markdown",
   "id": "e5dc74c0",
   "metadata": {},
   "source": [
    "<!-- loesung: start-->"
   ]
  },
  {
   "cell_type": "code",
   "execution_count": null,
   "id": "a0af55a7",
   "metadata": {
    "tags": [
     "hide-cell"
    ]
   },
   "outputs": [],
   "source": [
    "list_wettkampf <- list(Sportler = c(\"Tim\", \"Alex\", \"Finn\", \"Martin\"),\n",
    "                       Start = c(T,T,T,F),\n",
    "                       Platz = c(2,3,1,NA),\n",
    "                       Qualifikation = c(F, F, T,F))\n",
    "\n",
    "list_wettkampf$Start"
   ]
  },
  {
   "cell_type": "markdown",
   "id": "8b5f5ab2",
   "metadata": {},
   "source": [
    "<!-- loesung: ende-->\n",
    "\n",
    "## Dataframe \n",
    "\n",
    "Du führst eine Studie zur Persönlichkeit und möchtest bei 4 Personen Extraversion und Verträglichkeit mithilfe eines Fragebogens erfassen. Schließlich bekommst du die Mittelwerte der jeweiligen Skala für jeden Teilnehmer. Die Mittelwerte für Extraversion für die 4 Teilnehmer sind: 3.0, 2.5, 3.0, 3.5 und die Mittelwerte der Verträglichkeit sind: 4.0, 3.5, 4.5, 3.0. Erstelle einen Datensatz \"Persönlichkeit\" mit 3 Spalten: \"Teilnehmer\", \"E\" (Extraversion) und \"V\" (Verträglichkeit). Lass dir den Wert für Verstäglichkeit des 2. Teilnehmers ausgeben."
   ]
  },
  {
   "cell_type": "code",
   "execution_count": null,
   "id": "2b5540e2",
   "metadata": {},
   "outputs": [],
   "source": [
    "# Hier kannst du deine Lösung ausprobieren.\n",
    "\n"
   ]
  },
  {
   "cell_type": "markdown",
   "id": "b0c36578",
   "metadata": {},
   "source": [
    "<!-- loesung: start-->"
   ]
  },
  {
   "cell_type": "code",
   "execution_count": null,
   "id": "21cd38a8",
   "metadata": {
    "tags": [
     "hide-cell"
    ]
   },
   "outputs": [],
   "source": [
    "Teilnehmer <- c(1,2,3,4)\n",
    "E <- c(3.0, 2.5, 3.0, 3.5)\n",
    "V <- c(4.0, 3.5, 4.5, 3.0)\n",
    "\n",
    "Persönlichkeit <- data.frame(Teilnehmer, E, V)\n",
    "\n",
    "Persönlichkeit[2,3] "
   ]
  },
  {
   "cell_type": "markdown",
   "id": "d5f861e6",
   "metadata": {},
   "source": [
    "<!-- loesung: ende-->\n",
    "\n",
    "Wandle die Wettkampfsliste aus der vorherigen Aufgabe in einen Datensatz."
   ]
  },
  {
   "cell_type": "code",
   "execution_count": null,
   "id": "684dcce5",
   "metadata": {},
   "outputs": [],
   "source": [
    "# Hier kannst du deine Lösung ausprobieren.\n",
    "\n"
   ]
  },
  {
   "cell_type": "markdown",
   "id": "6dd391cf",
   "metadata": {},
   "source": [
    "<!-- loesung: start-->"
   ]
  },
  {
   "cell_type": "code",
   "execution_count": null,
   "id": "1cdafd44",
   "metadata": {
    "tags": [
     "hide-cell"
    ]
   },
   "outputs": [],
   "source": [
    "data.frame(list_wettkampf)"
   ]
  },
  {
   "cell_type": "markdown",
   "id": "3976b385",
   "metadata": {},
   "source": [
    "<!-- loesung: ende-->"
   ]
  }
 ],
 "metadata": {
  "jupytext": {
   "formats": "md:myst",
   "text_representation": {
    "extension": ".md",
    "format_name": "myst",
    "format_version": 0.13,
    "jupytext_version": "1.11.5"
   }
  },
  "kernelspec": {
   "display_name": "R",
   "language": "R",
   "name": "ir"
  },
  "language_info": {
   "codemirror_mode": "r",
   "file_extension": ".r",
   "mimetype": "text/x-r-source",
   "name": "R",
   "pygments_lexer": "r",
   "version": "4.2.3"
  },
  "source_map": [
   13,
   28,
   32,
   37,
   44,
   53,
   57,
   62,
   70,
   79,
   83,
   88,
   96,
   110,
   114,
   119,
   135,
   146,
   150,
   155,
   165,
   175,
   179,
   184,
   196,
   211,
   215,
   220,
   230,
   239,
   243,
   248,
   259,
   266,
   270,
   275,
   280
  ]
 },
 "nbformat": 4,
 "nbformat_minor": 5
}
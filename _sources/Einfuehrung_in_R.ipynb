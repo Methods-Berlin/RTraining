{
 "cells": [
  {
   "cell_type": "markdown",
   "id": "917510fe",
   "metadata": {},
   "source": [
    "# Einführung in R\n",
    "\n",
    "<a href=https://raw.githubusercontent.com/Methods-Berlin/RTraining/main/Aufgaben_rmd/Einfuehrung_in_R.Rmd download=Einfuehrung_in_R.Rmd>RMarkdown-Datei mit Lösungen herunterladen</a>\n",
    "\n",
    "\n",
    "<a href=https://raw.githubusercontent.com/Methods-Berlin/RTraining/Rmd_ohne_Loesung/Rmd_ohne_Loesungen/Einfuehrung_in_R.Rmd download=Einfuehrung_in_R.Rmd>RMarkdown-Datei ohne Lösungen herunterladen</a>\n",
    "\n",
    "\n",
    "## Objekt, Logische Operationen \n",
    "\n",
    "Erstelle ein Objekt `x` und weise `x` den Wert 5000 zu. Erstelle ein Objekt `y` und weise `y` den Wert 8 hoch 4 zu (d.h. $8^4$). Überprüfe, ob die Werte der Objekte `x` und `y` gleich sind."
   ]
  },
  {
   "cell_type": "code",
   "execution_count": 1,
   "id": "df3b69b5",
   "metadata": {},
   "outputs": [],
   "source": [
    "# Hier kannst du deine Lösung ausprobieren.\n",
    "\n"
   ]
  },
  {
   "cell_type": "markdown",
   "id": "761c430f",
   "metadata": {},
   "source": [
    "<!-- loesung: start-->"
   ]
  },
  {
   "cell_type": "code",
   "execution_count": 2,
   "id": "62ae5c9f",
   "metadata": {
    "tags": [
     "hide-cell"
    ]
   },
   "outputs": [
    {
     "data": {
      "text/html": [
       "TRUE"
      ],
      "text/latex": [
       "TRUE"
      ],
      "text/markdown": [
       "TRUE"
      ],
      "text/plain": [
       "[1] TRUE"
      ]
     },
     "metadata": {},
     "output_type": "display_data"
    }
   ],
   "source": [
    "x <- 5000\n",
    "y <- 8^4\n",
    "y <= x"
   ]
  },
  {
   "cell_type": "markdown",
   "id": "23430e8a",
   "metadata": {},
   "source": [
    "<!-- loesung: ende-->\n",
    "\n",
    "## Vektor, Datentypen, Arithmetische Operationen\n",
    "\n",
    "Erstelle einen Vektor `a` mit den Zahlen 3, 4, 6, 7 und 25 und einen Vektor `b` mit 4.5, 6.5, 8.5, 5.5 und 7.5. Multipliziere den Vektor `a` und mit dem Vektor `b` und addiere den Wert 2. Speichere das Ergebnis als Objekt namens `a_b`. Welches Datentyp wird dieses Objekt beinhalten? Überprüfe es."
   ]
  },
  {
   "cell_type": "code",
   "execution_count": 3,
   "id": "8a52dec3",
   "metadata": {},
   "outputs": [],
   "source": [
    "# Hier kannst du deine Lösung ausprobieren.\n",
    "\n"
   ]
  },
  {
   "cell_type": "markdown",
   "id": "0b60fd4a",
   "metadata": {},
   "source": [
    "<!-- loesung: start-->"
   ]
  },
  {
   "cell_type": "code",
   "execution_count": 4,
   "id": "ca7c34b0",
   "metadata": {
    "tags": [
     "hide-cell"
    ]
   },
   "outputs": [
    {
     "data": {
      "text/html": [
       "'numeric'"
      ],
      "text/latex": [
       "'numeric'"
      ],
      "text/markdown": [
       "'numeric'"
      ],
      "text/plain": [
       "[1] \"numeric\""
      ]
     },
     "metadata": {},
     "output_type": "display_data"
    }
   ],
   "source": [
    "a <- c(3, 4, 6, 7, 25)\n",
    "b <- c(4.5, 6.5, 8.5, 5.5, 7.5)\n",
    "a_b <- a * b + 2\n",
    "class(a_b)"
   ]
  },
  {
   "cell_type": "markdown",
   "id": "92e84415",
   "metadata": {},
   "source": [
    "<!-- loesung: ende-->\n",
    "\n",
    "## Zahlenfolgen; `seq()` & `rep()`\n",
    "\n",
    "Erstelle einen Vektor `vek_1` mit einer Zahlenreihe von 5 bis 30 in Fünferschritten und einen Vektor `vek_2`, der 6 mal die Zahl 2.5 enthält. Erstelle beide Vektoren mit den R-Funktionen `seq()` und `rep()`. Subtrahiere den Vektor `vek_2` von `vek_1`. Wie könnte die resultierende Zahlreihe alternativ erzeugt werden?"
   ]
  },
  {
   "cell_type": "code",
   "execution_count": 5,
   "id": "9c4ccd66",
   "metadata": {},
   "outputs": [],
   "source": [
    "# Hier kannst du deine Lösung ausprobieren.\n",
    "\n"
   ]
  },
  {
   "cell_type": "markdown",
   "id": "1abb575c",
   "metadata": {},
   "source": [
    "<!-- loesung: start-->"
   ]
  },
  {
   "cell_type": "code",
   "execution_count": 6,
   "id": "37f8c7fd",
   "metadata": {
    "tags": [
     "hide-cell"
    ]
   },
   "outputs": [
    {
     "data": {
      "text/html": [
       "<style>\n",
       ".list-inline {list-style: none; margin:0; padding: 0}\n",
       ".list-inline>li {display: inline-block}\n",
       ".list-inline>li:not(:last-child)::after {content: \"\\00b7\"; padding: 0 .5ex}\n",
       "</style>\n",
       "<ol class=list-inline><li>2.5</li><li>7.5</li><li>12.5</li><li>17.5</li><li>22.5</li><li>27.5</li></ol>\n"
      ],
      "text/latex": [
       "\\begin{enumerate*}\n",
       "\\item 2.5\n",
       "\\item 7.5\n",
       "\\item 12.5\n",
       "\\item 17.5\n",
       "\\item 22.5\n",
       "\\item 27.5\n",
       "\\end{enumerate*}\n"
      ],
      "text/markdown": [
       "1. 2.5\n",
       "2. 7.5\n",
       "3. 12.5\n",
       "4. 17.5\n",
       "5. 22.5\n",
       "6. 27.5\n",
       "\n",
       "\n"
      ],
      "text/plain": [
       "[1]  2.5  7.5 12.5 17.5 22.5 27.5"
      ]
     },
     "metadata": {},
     "output_type": "display_data"
    },
    {
     "data": {
      "text/html": [
       "<style>\n",
       ".list-inline {list-style: none; margin:0; padding: 0}\n",
       ".list-inline>li {display: inline-block}\n",
       ".list-inline>li:not(:last-child)::after {content: \"\\00b7\"; padding: 0 .5ex}\n",
       "</style>\n",
       "<ol class=list-inline><li>2.5</li><li>7.5</li><li>12.5</li><li>17.5</li><li>22.5</li><li>27.5</li></ol>\n"
      ],
      "text/latex": [
       "\\begin{enumerate*}\n",
       "\\item 2.5\n",
       "\\item 7.5\n",
       "\\item 12.5\n",
       "\\item 17.5\n",
       "\\item 22.5\n",
       "\\item 27.5\n",
       "\\end{enumerate*}\n"
      ],
      "text/markdown": [
       "1. 2.5\n",
       "2. 7.5\n",
       "3. 12.5\n",
       "4. 17.5\n",
       "5. 22.5\n",
       "6. 27.5\n",
       "\n",
       "\n"
      ],
      "text/plain": [
       "[1]  2.5  7.5 12.5 17.5 22.5 27.5"
      ]
     },
     "metadata": {},
     "output_type": "display_data"
    }
   ],
   "source": [
    "vek_1 <- seq(5,30,5)\n",
    "vek_2 <- rep(2.5,6)\n",
    "vek_1 - vek_2\n",
    "seq(2.5,27.5,5)"
   ]
  },
  {
   "cell_type": "markdown",
   "id": "a80f42ff",
   "metadata": {},
   "source": [
    "<!-- loesung: ende-->\n",
    "\n",
    "## Speziallfall Faktor, Indexieren \n",
    "\n",
    "In einer Klasse sind folgende Schüler: Anton, Luca, Matteo, Max und Emil. \n",
    "\n",
    "a) Erstelle einen  Faktor (spezieller Datentyp) `schüler_1`, der die Namen der Schüler beinhaltet. Die Namen der Schüler sollen in alphabetischer Reihenfolge auftreten. Gehe dabei so effizient wie möglich vor. \n",
    "b) Lass dir den Namen des 4. Schülers ausgeben. \n",
    "c) Erstelle nun einen weiteren Faktor `schüler_2`, bei dem die Namen in der ursprünglichen Reihenfolge (Anton, Luca, Matteo, Max und Emil) sortiert sind. \n",
    "d) Lass dir die beiden Faktoren ausgeben."
   ]
  },
  {
   "cell_type": "code",
   "execution_count": 7,
   "id": "f6701482",
   "metadata": {},
   "outputs": [],
   "source": [
    "# Hier kannst du deine Lösung ausprobieren.\n",
    "\n"
   ]
  },
  {
   "cell_type": "markdown",
   "id": "72dc56cc",
   "metadata": {},
   "source": [
    "<!-- loesung: start-->"
   ]
  },
  {
   "cell_type": "code",
   "execution_count": 8,
   "id": "16900e8e",
   "metadata": {
    "tags": [
     "hide-cell"
    ]
   },
   "outputs": [
    {
     "data": {
      "text/html": [
       "Max\n",
       "<details>\n",
       "\t<summary style=display:list-item;cursor:pointer>\n",
       "\t\t<strong>Levels</strong>:\n",
       "\t</summary>\n",
       "\t<style>\n",
       "\t.list-inline {list-style: none; margin:0; padding: 0}\n",
       "\t.list-inline>li {display: inline-block}\n",
       "\t.list-inline>li:not(:last-child)::after {content: \"\\00b7\"; padding: 0 .5ex}\n",
       "\t</style>\n",
       "\t<ol class=list-inline><li>'Anton'</li><li>'Emil'</li><li>'Luca'</li><li>'Matteo'</li><li>'Max'</li></ol>\n",
       "</details>"
      ],
      "text/latex": [
       "Max\n",
       "\\emph{Levels}: \\begin{enumerate*}\n",
       "\\item 'Anton'\n",
       "\\item 'Emil'\n",
       "\\item 'Luca'\n",
       "\\item 'Matteo'\n",
       "\\item 'Max'\n",
       "\\end{enumerate*}\n"
      ],
      "text/markdown": [
       "Max\n",
       "**Levels**: 1. 'Anton'\n",
       "2. 'Emil'\n",
       "3. 'Luca'\n",
       "4. 'Matteo'\n",
       "5. 'Max'\n",
       "\n",
       "\n"
      ],
      "text/plain": [
       "[1] Max\n",
       "Levels: Anton < Emil < Luca < Matteo < Max"
      ]
     },
     "metadata": {},
     "output_type": "display_data"
    },
    {
     "data": {
      "text/html": [
       "<style>\n",
       ".list-inline {list-style: none; margin:0; padding: 0}\n",
       ".list-inline>li {display: inline-block}\n",
       ".list-inline>li:not(:last-child)::after {content: \"\\00b7\"; padding: 0 .5ex}\n",
       "</style>\n",
       "<ol class=list-inline><li>Anton</li><li>Luca</li><li>Matteo</li><li>Max</li><li>Emil</li></ol>\n",
       "\n",
       "<details>\n",
       "\t<summary style=display:list-item;cursor:pointer>\n",
       "\t\t<strong>Levels</strong>:\n",
       "\t</summary>\n",
       "\t<style>\n",
       "\t.list-inline {list-style: none; margin:0; padding: 0}\n",
       "\t.list-inline>li {display: inline-block}\n",
       "\t.list-inline>li:not(:last-child)::after {content: \"\\00b7\"; padding: 0 .5ex}\n",
       "\t</style>\n",
       "\t<ol class=list-inline><li>'Anton'</li><li>'Emil'</li><li>'Luca'</li><li>'Matteo'</li><li>'Max'</li></ol>\n",
       "</details>"
      ],
      "text/latex": [
       "\\begin{enumerate*}\n",
       "\\item Anton\n",
       "\\item Luca\n",
       "\\item Matteo\n",
       "\\item Max\n",
       "\\item Emil\n",
       "\\end{enumerate*}\n",
       "\n",
       "\\emph{Levels}: \\begin{enumerate*}\n",
       "\\item 'Anton'\n",
       "\\item 'Emil'\n",
       "\\item 'Luca'\n",
       "\\item 'Matteo'\n",
       "\\item 'Max'\n",
       "\\end{enumerate*}\n"
      ],
      "text/markdown": [
       "1. Anton\n",
       "2. Luca\n",
       "3. Matteo\n",
       "4. Max\n",
       "5. Emil\n",
       "\n",
       "\n",
       "\n",
       "**Levels**: 1. 'Anton'\n",
       "2. 'Emil'\n",
       "3. 'Luca'\n",
       "4. 'Matteo'\n",
       "5. 'Max'\n",
       "\n",
       "\n"
      ],
      "text/plain": [
       "[1] Anton  Luca   Matteo Max    Emil  \n",
       "Levels: Anton < Emil < Luca < Matteo < Max"
      ]
     },
     "metadata": {},
     "output_type": "display_data"
    },
    {
     "data": {
      "text/html": [
       "<style>\n",
       ".list-inline {list-style: none; margin:0; padding: 0}\n",
       ".list-inline>li {display: inline-block}\n",
       ".list-inline>li:not(:last-child)::after {content: \"\\00b7\"; padding: 0 .5ex}\n",
       "</style>\n",
       "<ol class=list-inline><li>Anton</li><li>Luca</li><li>Matteo</li><li>Max</li><li>Emil</li></ol>\n",
       "\n",
       "<details>\n",
       "\t<summary style=display:list-item;cursor:pointer>\n",
       "\t\t<strong>Levels</strong>:\n",
       "\t</summary>\n",
       "\t<style>\n",
       "\t.list-inline {list-style: none; margin:0; padding: 0}\n",
       "\t.list-inline>li {display: inline-block}\n",
       "\t.list-inline>li:not(:last-child)::after {content: \"\\00b7\"; padding: 0 .5ex}\n",
       "\t</style>\n",
       "\t<ol class=list-inline><li>'Anton'</li><li>'Luca'</li><li>'Matteo'</li><li>'Max'</li><li>'Emil'</li></ol>\n",
       "</details>"
      ],
      "text/latex": [
       "\\begin{enumerate*}\n",
       "\\item Anton\n",
       "\\item Luca\n",
       "\\item Matteo\n",
       "\\item Max\n",
       "\\item Emil\n",
       "\\end{enumerate*}\n",
       "\n",
       "\\emph{Levels}: \\begin{enumerate*}\n",
       "\\item 'Anton'\n",
       "\\item 'Luca'\n",
       "\\item 'Matteo'\n",
       "\\item 'Max'\n",
       "\\item 'Emil'\n",
       "\\end{enumerate*}\n"
      ],
      "text/markdown": [
       "1. Anton\n",
       "2. Luca\n",
       "3. Matteo\n",
       "4. Max\n",
       "5. Emil\n",
       "\n",
       "\n",
       "\n",
       "**Levels**: 1. 'Anton'\n",
       "2. 'Luca'\n",
       "3. 'Matteo'\n",
       "4. 'Max'\n",
       "5. 'Emil'\n",
       "\n",
       "\n"
      ],
      "text/plain": [
       "[1] Anton  Luca   Matteo Max    Emil  \n",
       "Levels: Anton < Luca < Matteo < Max < Emil"
      ]
     },
     "metadata": {},
     "output_type": "display_data"
    }
   ],
   "source": [
    "#a)\n",
    "schüler_1 <- factor(c(\"Anton\", \"Luca\", \"Matteo\", \"Max\", \"Emil\"), ordered = TRUE)\n",
    "\n",
    "#b)\n",
    "schüler_1[4]\n",
    "\n",
    "#c)\n",
    "schüler_2 <- factor(schüler_1, ordered = TRUE, levels = c(\"Anton\", \"Luca\", \"Matteo\", \"Max\", \"Emil\"))\n",
    "\n",
    "#d)\n",
    "schüler_1\n",
    "schüler_2"
   ]
  },
  {
   "cell_type": "markdown",
   "id": "92e80b80",
   "metadata": {},
   "source": [
    "<!-- loesung: ende-->\n",
    "\n",
    "## Matrizen \n",
    "\n",
    "Erstelle eine Matrix `m_1` mit 2 Zeilen und 2 Spalten mit den Zahlen 4, 7, 9 und 2, die zeilenweise eingetragen werden. \n",
    "a) Lass dir die 1. Zeile ausgeben. \n",
    "b) Lass dir die 2. Spalte ausgeben."
   ]
  },
  {
   "cell_type": "code",
   "execution_count": 9,
   "id": "b0b55eeb",
   "metadata": {},
   "outputs": [],
   "source": [
    "# Hier kannst du deine Lösung ausprobieren.\n",
    "\n"
   ]
  },
  {
   "cell_type": "markdown",
   "id": "b78381f0",
   "metadata": {},
   "source": [
    "<!-- loesung: start-->"
   ]
  },
  {
   "cell_type": "code",
   "execution_count": 10,
   "id": "8a6753aa",
   "metadata": {
    "tags": [
     "hide-cell"
    ]
   },
   "outputs": [
    {
     "data": {
      "text/html": [
       "<style>\n",
       ".list-inline {list-style: none; margin:0; padding: 0}\n",
       ".list-inline>li {display: inline-block}\n",
       ".list-inline>li:not(:last-child)::after {content: \"\\00b7\"; padding: 0 .5ex}\n",
       "</style>\n",
       "<ol class=list-inline><li>4</li><li>7</li></ol>\n"
      ],
      "text/latex": [
       "\\begin{enumerate*}\n",
       "\\item 4\n",
       "\\item 7\n",
       "\\end{enumerate*}\n"
      ],
      "text/markdown": [
       "1. 4\n",
       "2. 7\n",
       "\n",
       "\n"
      ],
      "text/plain": [
       "[1] 4 7"
      ]
     },
     "metadata": {},
     "output_type": "display_data"
    },
    {
     "data": {
      "text/html": [
       "<style>\n",
       ".list-inline {list-style: none; margin:0; padding: 0}\n",
       ".list-inline>li {display: inline-block}\n",
       ".list-inline>li:not(:last-child)::after {content: \"\\00b7\"; padding: 0 .5ex}\n",
       "</style>\n",
       "<ol class=list-inline><li>7</li><li>2</li></ol>\n"
      ],
      "text/latex": [
       "\\begin{enumerate*}\n",
       "\\item 7\n",
       "\\item 2\n",
       "\\end{enumerate*}\n"
      ],
      "text/markdown": [
       "1. 7\n",
       "2. 2\n",
       "\n",
       "\n"
      ],
      "text/plain": [
       "[1] 7 2"
      ]
     },
     "metadata": {},
     "output_type": "display_data"
    }
   ],
   "source": [
    "m_1 <- matrix(data = c(4, 7, 9, 2), nrow = 2, ncol = 2, byrow = TRUE)\n",
    "\n",
    "#a) \n",
    "m_1[1, ]\n",
    "#b) \n",
    "m_1[ , 2]"
   ]
  },
  {
   "cell_type": "markdown",
   "id": "ffa5ede0",
   "metadata": {},
   "source": [
    "<!-- loesung: ende-->\n",
    "\n",
    "Erstelle eine Matrix `m_2` mit 3 Zeilen und 3 Reihen mit den Zahlen 7, 3, 0, 5, 6, 1, 1, 9 und 11, die spaltenweise eingetragen werden. \n",
    "a) Lass dir den Wert in der 1. Zeile und 3. Spalte ausgeben. \n",
    "b) Lass dir den Wert in der 2. Zeile und 3. Spalte ausgeben.\n",
    "c) Nenne die Zeilen A1, A2 und A3 und die Spalten B1, B2 und B3."
   ]
  },
  {
   "cell_type": "code",
   "execution_count": 11,
   "id": "f05bd3d5",
   "metadata": {},
   "outputs": [],
   "source": [
    "# Hier kannst du deine Lösung ausprobieren.\n",
    "\n"
   ]
  },
  {
   "cell_type": "markdown",
   "id": "af2374c2",
   "metadata": {},
   "source": [
    "<!-- loesung: start-->"
   ]
  },
  {
   "cell_type": "code",
   "execution_count": 12,
   "id": "6fea140d",
   "metadata": {
    "tags": [
     "hide-cell"
    ]
   },
   "outputs": [
    {
     "data": {
      "text/html": [
       "1"
      ],
      "text/latex": [
       "1"
      ],
      "text/markdown": [
       "1"
      ],
      "text/plain": [
       "[1] 1"
      ]
     },
     "metadata": {},
     "output_type": "display_data"
    },
    {
     "data": {
      "text/html": [
       "9"
      ],
      "text/latex": [
       "9"
      ],
      "text/markdown": [
       "9"
      ],
      "text/plain": [
       "[1] 9"
      ]
     },
     "metadata": {},
     "output_type": "display_data"
    }
   ],
   "source": [
    "m_2 <- matrix(data = c(7, 3, 0, 5, 6, 1, 1, 9, 11), nrow = 3, byrow = FALSE)\n",
    "#a)\n",
    "m_2[1, 3]\n",
    "#b)\n",
    "m_2[2, 3]\n",
    "#c)\n",
    "rownames(m_2) <- c(\"A1\", \"A2\", \"A3\")\n",
    "colnames(m_2) <- c(\"B1\", \"B2\", \"B3\")"
   ]
  },
  {
   "cell_type": "markdown",
   "id": "1c940a92",
   "metadata": {},
   "source": [
    "<!-- loesung: ende-->\n",
    "\n",
    "## Liste\n",
    "\n",
    "Erstelle eine Liste für einen Sportwettkampf, die die folgenden Vektoren enthält.\n",
    "a) `Sportler`: Tim, Alex, Finn, Martin \n",
    "b) `Start`: TRUE, TRUE, TRUE, FALSE\n",
    "b) `Platz`: 2,3,1, NA\n",
    "c) `Qualifikation`: FALSE, FALSE, TRUE, FALSE\n",
    "\n",
    "Lass dir aus der Liste das Objekt `Start` ausgeben."
   ]
  },
  {
   "cell_type": "code",
   "execution_count": 13,
   "id": "7a5cff19",
   "metadata": {},
   "outputs": [],
   "source": [
    "# Hier kannst du deine Lösung ausprobieren.\n",
    "\n"
   ]
  },
  {
   "cell_type": "markdown",
   "id": "bee16938",
   "metadata": {},
   "source": [
    "<!-- loesung: start-->"
   ]
  },
  {
   "cell_type": "code",
   "execution_count": 14,
   "id": "63db7cd1",
   "metadata": {
    "tags": [
     "hide-cell"
    ]
   },
   "outputs": [
    {
     "data": {
      "text/html": [
       "<style>\n",
       ".list-inline {list-style: none; margin:0; padding: 0}\n",
       ".list-inline>li {display: inline-block}\n",
       ".list-inline>li:not(:last-child)::after {content: \"\\00b7\"; padding: 0 .5ex}\n",
       "</style>\n",
       "<ol class=list-inline><li>TRUE</li><li>TRUE</li><li>TRUE</li><li>FALSE</li></ol>\n"
      ],
      "text/latex": [
       "\\begin{enumerate*}\n",
       "\\item TRUE\n",
       "\\item TRUE\n",
       "\\item TRUE\n",
       "\\item FALSE\n",
       "\\end{enumerate*}\n"
      ],
      "text/markdown": [
       "1. TRUE\n",
       "2. TRUE\n",
       "3. TRUE\n",
       "4. FALSE\n",
       "\n",
       "\n"
      ],
      "text/plain": [
       "[1]  TRUE  TRUE  TRUE FALSE"
      ]
     },
     "metadata": {},
     "output_type": "display_data"
    }
   ],
   "source": [
    "list_wettkampf <- list(Sportler = c(\"Tim\", \"Alex\", \"Finn\", \"Martin\"),\n",
    "                       Start = c(TRUE, TRUE, TRUE, FALSE),\n",
    "                       Platz = c(2, 3, 1, NA),\n",
    "                       Qualifikation = c(FALSE, FALSE, TRUE ,FALSE))\n",
    "\n",
    "list_wettkampf$Start"
   ]
  },
  {
   "cell_type": "markdown",
   "id": "9946e288",
   "metadata": {},
   "source": [
    "<!-- loesung: ende-->\n",
    "\n",
    "## Dataframe \n",
    "\n",
    "Du führst eine Studie zur Persönlichkeit durch und möchtest bei 4 Personen Extraversion und Verträglichkeit mithilfe eines Fragebogens erfassen. Schließlich bekommst du die Mittelwerte der jeweiligen Skala für jeden Teilnehmer. Die Mittelwerte für Extraversion für die 4 Teilnehmer sind: 3.0, 2.5, 3.0, 3.5 und die Mittelwerte der Verträglichkeit sind: 4.0, 3.5, 4.5, 3.0. Erstelle einen Datensatz `Persönlichkeit` mit 3 Spalten: `Teilnehmer`, `E` (Extraversion) und `V` (Verträglichkeit). Lass dir den Wert für Verträglichkeit des 2. Teilnehmers ausgeben."
   ]
  },
  {
   "cell_type": "code",
   "execution_count": 15,
   "id": "6515e428",
   "metadata": {},
   "outputs": [],
   "source": [
    "# Hier kannst du deine Lösung ausprobieren.\n",
    "\n"
   ]
  },
  {
   "cell_type": "markdown",
   "id": "98b1ea1b",
   "metadata": {},
   "source": [
    "<!-- loesung: start-->"
   ]
  },
  {
   "cell_type": "code",
   "execution_count": 16,
   "id": "a6143fc5",
   "metadata": {
    "tags": [
     "hide-cell"
    ]
   },
   "outputs": [
    {
     "data": {
      "text/html": [
       "3.5"
      ],
      "text/latex": [
       "3.5"
      ],
      "text/markdown": [
       "3.5"
      ],
      "text/plain": [
       "[1] 3.5"
      ]
     },
     "metadata": {},
     "output_type": "display_data"
    }
   ],
   "source": [
    "Teilnehmer <- c(1, 2, 3, 4)\n",
    "E <- c(3.0, 2.5, 3.0, 3.5)\n",
    "V <- c(4.0, 3.5, 4.5, 3.0)\n",
    "\n",
    "Persönlichkeit <- data.frame(Teilnehmer, E, V)\n",
    "\n",
    "Persönlichkeit[2, 3] "
   ]
  },
  {
   "cell_type": "markdown",
   "id": "4f40b932",
   "metadata": {},
   "source": [
    "<!-- loesung: ende-->\n",
    "\n",
    "Wandle die Wettkampfsliste aus der vorherigen Aufgabe in einen Datensatz."
   ]
  },
  {
   "cell_type": "code",
   "execution_count": 17,
   "id": "d897e2f7",
   "metadata": {},
   "outputs": [],
   "source": [
    "# Hier kannst du deine Lösung ausprobieren.\n",
    "\n"
   ]
  },
  {
   "cell_type": "markdown",
   "id": "06e4f583",
   "metadata": {},
   "source": [
    "<!-- loesung: start-->"
   ]
  },
  {
   "cell_type": "code",
   "execution_count": 18,
   "id": "576d23b9",
   "metadata": {
    "tags": [
     "hide-cell"
    ]
   },
   "outputs": [
    {
     "data": {
      "text/html": [
       "<table class=\"dataframe\">\n",
       "<caption>A data.frame: 4 × 4</caption>\n",
       "<thead>\n",
       "\t<tr><th scope=col>Sportler</th><th scope=col>Start</th><th scope=col>Platz</th><th scope=col>Qualifikation</th></tr>\n",
       "\t<tr><th scope=col>&lt;chr&gt;</th><th scope=col>&lt;lgl&gt;</th><th scope=col>&lt;dbl&gt;</th><th scope=col>&lt;lgl&gt;</th></tr>\n",
       "</thead>\n",
       "<tbody>\n",
       "\t<tr><td>Tim   </td><td> TRUE</td><td> 2</td><td>FALSE</td></tr>\n",
       "\t<tr><td>Alex  </td><td> TRUE</td><td> 3</td><td>FALSE</td></tr>\n",
       "\t<tr><td>Finn  </td><td> TRUE</td><td> 1</td><td> TRUE</td></tr>\n",
       "\t<tr><td>Martin</td><td>FALSE</td><td>NA</td><td>FALSE</td></tr>\n",
       "</tbody>\n",
       "</table>\n"
      ],
      "text/latex": [
       "A data.frame: 4 × 4\n",
       "\\begin{tabular}{llll}\n",
       " Sportler & Start & Platz & Qualifikation\\\\\n",
       " <chr> & <lgl> & <dbl> & <lgl>\\\\\n",
       "\\hline\n",
       "\t Tim    &  TRUE &  2 & FALSE\\\\\n",
       "\t Alex   &  TRUE &  3 & FALSE\\\\\n",
       "\t Finn   &  TRUE &  1 &  TRUE\\\\\n",
       "\t Martin & FALSE & NA & FALSE\\\\\n",
       "\\end{tabular}\n"
      ],
      "text/markdown": [
       "\n",
       "A data.frame: 4 × 4\n",
       "\n",
       "| Sportler &lt;chr&gt; | Start &lt;lgl&gt; | Platz &lt;dbl&gt; | Qualifikation &lt;lgl&gt; |\n",
       "|---|---|---|---|\n",
       "| Tim    |  TRUE |  2 | FALSE |\n",
       "| Alex   |  TRUE |  3 | FALSE |\n",
       "| Finn   |  TRUE |  1 |  TRUE |\n",
       "| Martin | FALSE | NA | FALSE |\n",
       "\n"
      ],
      "text/plain": [
       "  Sportler Start Platz Qualifikation\n",
       "1 Tim       TRUE  2    FALSE        \n",
       "2 Alex      TRUE  3    FALSE        \n",
       "3 Finn      TRUE  1     TRUE        \n",
       "4 Martin   FALSE NA    FALSE        "
      ]
     },
     "metadata": {},
     "output_type": "display_data"
    }
   ],
   "source": [
    "data.frame(list_wettkampf)"
   ]
  },
  {
   "cell_type": "markdown",
   "id": "a5e1e301",
   "metadata": {},
   "source": [
    "<!-- loesung: ende-->"
   ]
  }
 ],
 "metadata": {
  "jupytext": {
   "formats": "md:myst",
   "text_representation": {
    "extension": ".md",
    "format_name": "myst",
    "format_version": 0.13,
    "jupytext_version": "1.11.5"
   }
  },
  "kernelspec": {
   "display_name": "R",
   "language": "R",
   "name": "ir"
  },
  "language_info": {
   "codemirror_mode": "r",
   "file_extension": ".r",
   "mimetype": "text/x-r-source",
   "name": "R",
   "pygments_lexer": "r",
   "version": "4.2.3"
  },
  "source_map": [
   13,
   28,
   32,
   37,
   44,
   53,
   57,
   62,
   70,
   79,
   83,
   88,
   96,
   110,
   114,
   119,
   135,
   146,
   150,
   155,
   165,
   175,
   179,
   184,
   196,
   211,
   215,
   220,
   230,
   239,
   243,
   248,
   259,
   266,
   270,
   275,
   280
  ]
 },
 "nbformat": 4,
 "nbformat_minor": 5
}
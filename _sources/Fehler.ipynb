{
 "cells": [
  {
   "cell_type": "markdown",
   "id": "851ecb36",
   "metadata": {},
   "source": [
    "# Fehler \n",
    "\n",
    "<a href=https://raw.githubusercontent.com/Methods-Berlin/RTraining/main/Aufgaben_rmd/Fehler.Rmd download=Fehler.Rmd>RMarkdown-Datei mit Lösungen herunterladen</a>\n",
    "\n",
    "\n",
    "<a href=https://raw.githubusercontent.com/Methods-Berlin/RTraining/Rmd_ohne_Loesung/Rmd_ohne_Loesungen/Fehler.Rmd download=Fehler.Rmd>RMarkdown-Datei ohne Lösungen herunterladen</a>\n",
    "\n",
    "\n",
    "\n",
    "## Aufgabe 1\n",
    "\n",
    "Welcher Fehler tritt im folgenden Code auf? Korrigiere ihn und führe den Code aus."
   ]
  },
  {
   "cell_type": "code",
   "execution_count": 1,
   "id": "6a69096a",
   "metadata": {},
   "outputs": [
    {
     "ename": "ERROR",
     "evalue": "Error in library(ggplot): there is no package called ‘ggplot’\n",
     "output_type": "error",
     "traceback": [
      "Error in library(ggplot): there is no package called ‘ggplot’\nTraceback:\n",
      "1. library(ggplot)"
     ]
    }
   ],
   "source": [
    "library(ggplot)\n"
   ]
  },
  {
   "cell_type": "code",
   "execution_count": null,
   "id": "72c832e7",
   "metadata": {},
   "outputs": [],
   "source": [
    "# Hier kannst du deine Lösung ausprobieren.\n",
    "\n"
   ]
  },
  {
   "cell_type": "markdown",
   "id": "4c239f8a",
   "metadata": {},
   "source": [
    "<!-- loesung: start-->"
   ]
  },
  {
   "cell_type": "code",
   "execution_count": null,
   "id": "de688f25",
   "metadata": {
    "tags": [
     "hide-cell"
    ]
   },
   "outputs": [],
   "source": [
    "library(ggplot2)"
   ]
  },
  {
   "cell_type": "markdown",
   "id": "f702e285",
   "metadata": {},
   "source": [
    "<!-- loesung: ende-->\n",
    "\n",
    "\n",
    "\n",
    "## Aufgabe 2\n",
    "\n",
    "Welcher Fehler tritt im folgenden Code auf? Korrigiere ihn und führe den Code aus."
   ]
  },
  {
   "cell_type": "code",
   "execution_count": null,
   "id": "21abb44c",
   "metadata": {},
   "outputs": [],
   "source": [
    "x <- 10\n",
    "y <- \"5\"\n",
    "result <- x + y\n"
   ]
  },
  {
   "cell_type": "code",
   "execution_count": null,
   "id": "50b62764",
   "metadata": {},
   "outputs": [],
   "source": [
    "# Hier kannst du deine Lösung ausprobieren.\n",
    "\n"
   ]
  },
  {
   "cell_type": "markdown",
   "id": "0edd7dd9",
   "metadata": {},
   "source": [
    "<!-- loesung: start-->"
   ]
  },
  {
   "cell_type": "code",
   "execution_count": null,
   "id": "0a8ba53b",
   "metadata": {
    "tags": [
     "hide-cell"
    ]
   },
   "outputs": [],
   "source": [
    "x <- 10\n",
    "y <- 5  # y wurde als Text gespeichert und Berechnungen können nicht auf Text angewendet werden\n",
    "\n",
    "# alternativ kann Text (character) auch in eine Zahl (numeric) umgewandelt werden: \n",
    "y <- as.numeric(y) \n",
    "\n",
    "result <- x + y"
   ]
  },
  {
   "cell_type": "markdown",
   "id": "4c265915",
   "metadata": {},
   "source": [
    "<!-- loesung: ende-->\n",
    "\n",
    "\n",
    "## Aufgabe 3\n",
    "\n",
    "Welcher Fehler tritt im folgenden Code auf? Korrigiere ihn und führe den Code aus."
   ]
  },
  {
   "cell_type": "code",
   "execution_count": null,
   "id": "d2d06b0a",
   "metadata": {},
   "outputs": [],
   "source": [
    "vek <- c(10, 20, 30, 40, 50)\n",
    "vec[4,2]\n"
   ]
  },
  {
   "cell_type": "code",
   "execution_count": null,
   "id": "025f07c0",
   "metadata": {},
   "outputs": [],
   "source": [
    "# Hier kannst du deine Lösung ausprobieren.\n",
    "\n"
   ]
  },
  {
   "cell_type": "markdown",
   "id": "2af4499e",
   "metadata": {},
   "source": [
    "<!-- loesung: start-->"
   ]
  },
  {
   "cell_type": "code",
   "execution_count": null,
   "id": "ff6f636c",
   "metadata": {
    "tags": [
     "hide-cell"
    ]
   },
   "outputs": [],
   "source": [
    "vec <- c(10, 20, 30, 40, 50)\n",
    "vec[c(4,2)] "
   ]
  },
  {
   "cell_type": "markdown",
   "id": "0f5ce9db",
   "metadata": {},
   "source": [
    "<!-- loesung: ende-->"
   ]
  }
 ],
 "metadata": {
  "jupytext": {
   "formats": "md:myst",
   "text_representation": {
    "extension": ".md",
    "format_name": "myst",
    "format_version": 0.13,
    "jupytext_version": "1.11.5"
   }
  },
  "kernelspec": {
   "display_name": "R",
   "language": "R",
   "name": "ir"
  },
  "language_info": {
   "codemirror_mode": "r",
   "file_extension": ".r",
   "mimetype": "text/x-r-source",
   "name": "R",
   "pygments_lexer": "r",
   "version": "4.3.1"
  },
  "source_map": [
   13,
   29,
   35,
   39,
   44,
   49,
   60,
   68,
   72,
   77,
   88,
   98,
   105,
   109,
   114,
   120
  ]
 },
 "nbformat": 4,
 "nbformat_minor": 5
}
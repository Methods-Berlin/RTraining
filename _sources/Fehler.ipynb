{
 "cells": [
  {
   "cell_type": "markdown",
   "id": "aec54c9c",
   "metadata": {},
   "source": [
    "# Fehler \n",
    "\n",
    "<a href=https://raw.githubusercontent.com/Methods-Berlin/RTraining/main/Aufgaben_rmd/Fehler.Rmd download=Fehler.Rmd>RMarkdown-Datei mit Lösungen herunterladen</a>\n",
    "\n",
    "\n",
    "<a href=https://raw.githubusercontent.com/Methods-Berlin/RTraining/Rmd_ohne_Loesung/Rmd_ohne_Loesungen/Fehler.Rmd download=Fehler.Rmd>RMarkdown-Datei ohne Lösungen herunterladen</a>\n",
    "\n",
    "\n",
    "Welcher Fehler tritt im folgenden Code auf? Korrigiere ihn und führe den Code durch."
   ]
  },
  {
   "cell_type": "code",
   "execution_count": 1,
   "id": "facb171f",
   "metadata": {},
   "outputs": [
    {
     "ename": "ERROR",
     "evalue": "Error in library(ggplot): there is no package called ‘ggplot’\n",
     "output_type": "error",
     "traceback": [
      "Error in library(ggplot): there is no package called ‘ggplot’\nTraceback:\n",
      "1. library(ggplot)"
     ]
    }
   ],
   "source": [
    "library(ggplot)\n"
   ]
  },
  {
   "cell_type": "code",
   "execution_count": null,
   "id": "c62e2258",
   "metadata": {},
   "outputs": [],
   "source": [
    "# Hier kannst du deine Lösung ausprobieren.\n",
    "\n"
   ]
  },
  {
   "cell_type": "markdown",
   "id": "f9c2998a",
   "metadata": {},
   "source": [
    "<!-- loesung: start-->"
   ]
  },
  {
   "cell_type": "code",
   "execution_count": null,
   "id": "0b29cf24",
   "metadata": {
    "tags": [
     "hide-cell"
    ]
   },
   "outputs": [],
   "source": [
    "library(ggplot2)"
   ]
  },
  {
   "cell_type": "markdown",
   "id": "055bf9f8",
   "metadata": {},
   "source": [
    "<!-- loesung: ende-->\n",
    "\n",
    "\n",
    "\n",
    "Welcher Fehler tritt im folgenden Code auf? Korrigiere ihn und führe den Code durch."
   ]
  },
  {
   "cell_type": "code",
   "execution_count": null,
   "id": "d297a76e",
   "metadata": {},
   "outputs": [],
   "source": [
    "x <- 10\n",
    "y <- \"5\"\n",
    "result <- x + y\n"
   ]
  },
  {
   "cell_type": "code",
   "execution_count": null,
   "id": "717615a0",
   "metadata": {},
   "outputs": [],
   "source": [
    "# Hier kannst du deine Lösung ausprobieren.\n",
    "\n"
   ]
  },
  {
   "cell_type": "markdown",
   "id": "92fe9be6",
   "metadata": {},
   "source": [
    "<!-- loesung: start-->"
   ]
  },
  {
   "cell_type": "code",
   "execution_count": null,
   "id": "be593a36",
   "metadata": {
    "tags": [
     "hide-cell"
    ]
   },
   "outputs": [],
   "source": [
    "x <- 10\n",
    "y <- 5  # y wurde als Text gespeichert und Berechnungen können nicht auf Text angewendet werden\n",
    "result <- x + y"
   ]
  },
  {
   "cell_type": "markdown",
   "id": "e9cc8191",
   "metadata": {},
   "source": [
    "<!-- loesung: ende-->\n",
    "\n",
    "\n",
    "Welcher Fehler tritt im folgenden Code auf? Korrigiere ihn und führe den Code durch."
   ]
  },
  {
   "cell_type": "code",
   "execution_count": null,
   "id": "0450e94d",
   "metadata": {},
   "outputs": [],
   "source": [
    "vek <- c(10, 20, 30, 40, 50)\n",
    "vec[4,2]\n"
   ]
  },
  {
   "cell_type": "code",
   "execution_count": null,
   "id": "d9f6c0b3",
   "metadata": {},
   "outputs": [],
   "source": [
    "# Hier kannst du deine Lösung ausprobieren.\n",
    "\n"
   ]
  },
  {
   "cell_type": "markdown",
   "id": "98cb9a1f",
   "metadata": {},
   "source": [
    "<!-- loesung: start-->"
   ]
  },
  {
   "cell_type": "code",
   "execution_count": null,
   "id": "06b272d7",
   "metadata": {
    "tags": [
     "hide-cell"
    ]
   },
   "outputs": [],
   "source": [
    "vec <- c(10, 20, 30, 40, 50)\n",
    "vec[2] # Ein Vektor ist eindimensional und nicht zweidimensional "
   ]
  },
  {
   "cell_type": "markdown",
   "id": "17816e17",
   "metadata": {},
   "source": [
    "<!-- loesung: ende-->"
   ]
  }
 ],
 "metadata": {
  "jupytext": {
   "formats": "md:myst",
   "text_representation": {
    "extension": ".md",
    "format_name": "myst",
    "format_version": 0.13,
    "jupytext_version": "1.11.5"
   }
  },
  "kernelspec": {
   "display_name": "R",
   "language": "R",
   "name": "ir"
  },
  "language_info": {
   "codemirror_mode": "r",
   "file_extension": ".r",
   "mimetype": "text/x-r-source",
   "name": "R",
   "pygments_lexer": "r",
   "version": "4.2.3"
  },
  "source_map": [
   13,
   25,
   31,
   35,
   40,
   45,
   54,
   62,
   66,
   71,
   78,
   86,
   93,
   97,
   102,
   108
  ]
 },
 "nbformat": 4,
 "nbformat_minor": 5
}
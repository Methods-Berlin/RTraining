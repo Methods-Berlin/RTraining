{
 "cells": [
  {
   "cell_type": "markdown",
   "id": "f6b032f5",
   "metadata": {},
   "source": [
    "# Datentypen\n",
    "\n",
    "<a href=https://raw.githubusercontent.com/Methods-Berlin/RTraining/main/Aufgaben_rmd/Datentypen.Rmd download=Datentypen.Rmd>RMarkdown-Datei mit Lösungen herunterladen</a>\n",
    "\n",
    "\n",
    "<a href=https://raw.githubusercontent.com/Methods-Berlin/RTraining/Rmd_ohne_Loesung/Rmd_ohne_Loesungen/Datentypen.Rmd download=Datentypen.Rmd>RMarkdown-Datei ohne Lösungen herunterladen</a>\n",
    "\n",
    "\n",
    "\n",
    "Schreibe 74,678 in R."
   ]
  },
  {
   "cell_type": "code",
   "execution_count": 1,
   "id": "d9aeb584",
   "metadata": {},
   "outputs": [],
   "source": [
    "# Hier kannst du deine Lösung ausprobieren.\n",
    "\n"
   ]
  },
  {
   "cell_type": "markdown",
   "id": "5e167a2e",
   "metadata": {},
   "source": [
    "<!-- loesung: start-->"
   ]
  },
  {
   "cell_type": "code",
   "execution_count": 2,
   "id": "2dd4e7d0",
   "metadata": {
    "tags": [
     "hide-cell"
    ]
   },
   "outputs": [
    {
     "data": {
      "text/html": [
       "74.678"
      ],
      "text/latex": [
       "74.678"
      ],
      "text/markdown": [
       "74.678"
      ],
      "text/plain": [
       "[1] 74.678"
      ]
     },
     "metadata": {},
     "output_type": "display_data"
    }
   ],
   "source": [
    "74.678"
   ]
  },
  {
   "cell_type": "markdown",
   "id": "22f71514",
   "metadata": {},
   "source": [
    "<!-- loesung: ende-->\n",
    "\n",
    "\n",
    "Könnte man auch das Komma als Trennzeichen benutzen? \n",
    "\n",
    "<!-- loesung: start-->\n",
    "\n",
    "\n",
    "\n",
    "Nein, R verwendet ausschließlich den Punkt als Trennzeichen und gibt beim Komma eine Fehlermeldung."
   ]
  },
  {
   "cell_type": "code",
   "execution_count": 3,
   "id": "74a4bc5c",
   "metadata": {
    "tags": [
     "hide-cell"
    ]
   },
   "outputs": [
    {
     "ename": "ERROR",
     "evalue": "Error in parse(text = x, srcfile = src): <text>:1:3: unexpected ','\n1: 74,\n      ^\n",
     "output_type": "error",
     "traceback": [
      "Error in parse(text = x, srcfile = src): <text>:1:3: unexpected ','\n1: 74,\n      ^\nTraceback:\n"
     ]
    }
   ],
   "source": [
    "74,678"
   ]
  },
  {
   "cell_type": "markdown",
   "id": "1f5f72f7",
   "metadata": {},
   "source": [
    "<!-- loesung: ende-->\n",
    "\n",
    "\n",
    "\n",
    "Speichere die Nummer 4560 einmal als Zahl und einmal als Text. Benne das Objekt \"nummer\"."
   ]
  },
  {
   "cell_type": "code",
   "execution_count": null,
   "id": "2d95fb3d",
   "metadata": {},
   "outputs": [],
   "source": [
    "# Hier kannst du deine Lösung ausprobieren.\n",
    "\n"
   ]
  },
  {
   "cell_type": "markdown",
   "id": "000775a5",
   "metadata": {},
   "source": [
    "<!-- loesung: start-->"
   ]
  },
  {
   "cell_type": "code",
   "execution_count": null,
   "id": "4477e5a6",
   "metadata": {
    "tags": [
     "hide-cell"
    ]
   },
   "outputs": [],
   "source": [
    "nummer <- 4560\n",
    "nummer <- \"4560\""
   ]
  },
  {
   "cell_type": "markdown",
   "id": "27edbc5b",
   "metadata": {},
   "source": [
    "<!-- loesung: ende-->\n",
    "\n",
    "\n",
    "Stell dir vor, du hast einen Hund, der Baloo heißt, 10 Kg wiegt und gern spielt. Du möchtest diese 3 Merkmale in R schreiben und unter verschiedenen Objekten speichern. Wie könntest du das machen?"
   ]
  },
  {
   "cell_type": "code",
   "execution_count": null,
   "id": "e41800b8",
   "metadata": {},
   "outputs": [],
   "source": [
    "# Hier kannst du deine Lösung ausprobieren.\n",
    "\n"
   ]
  },
  {
   "cell_type": "markdown",
   "id": "304f6c5f",
   "metadata": {},
   "source": [
    "<!-- loesung: start-->"
   ]
  },
  {
   "cell_type": "code",
   "execution_count": null,
   "id": "0213d09d",
   "metadata": {
    "tags": [
     "hide-cell"
    ]
   },
   "outputs": [],
   "source": [
    "name <- \"Baloo\"\n",
    "kg <- 10\n",
    "spiel <- TRUE"
   ]
  },
  {
   "cell_type": "markdown",
   "id": "1e9154b1",
   "metadata": {},
   "source": [
    "<!-- loesung: ende-->\n",
    "\n",
    "\n",
    "Erstelle einen Faktor \"farben\" mit drei verschiedenen Farbalternativen: blau, rot und grün."
   ]
  },
  {
   "cell_type": "code",
   "execution_count": null,
   "id": "8f6dc548",
   "metadata": {},
   "outputs": [],
   "source": [
    "# Hier kannst du deine Lösung ausprobieren.\n",
    "\n"
   ]
  },
  {
   "cell_type": "markdown",
   "id": "ddba5ec8",
   "metadata": {},
   "source": [
    "<!-- loesung: start-->"
   ]
  },
  {
   "cell_type": "code",
   "execution_count": null,
   "id": "9aad3ba4",
   "metadata": {
    "tags": [
     "hide-cell"
    ]
   },
   "outputs": [],
   "source": [
    "farben <- factor(levels = c(\"blau\", \"rot\", \"grün\"))"
   ]
  },
  {
   "cell_type": "markdown",
   "id": "c4de6373",
   "metadata": {},
   "source": [
    "<!-- loesung: ende-->"
   ]
  }
 ],
 "metadata": {
  "jupytext": {
   "formats": "md:myst",
   "text_representation": {
    "extension": ".md",
    "format_name": "myst",
    "format_version": 0.13,
    "jupytext_version": "1.11.5"
   }
  },
  "kernelspec": {
   "display_name": "R",
   "language": "R",
   "name": "ir"
  },
  "language_info": {
   "codemirror_mode": "r",
   "file_extension": ".r",
   "mimetype": "text/x-r-source",
   "name": "R",
   "pygments_lexer": "r",
   "version": "4.2.3"
  },
  "source_map": [
   13,
   26,
   30,
   35,
   40,
   53,
   58,
   68,
   72,
   77,
   83,
   91,
   95,
   100,
   107,
   115,
   119,
   125,
   130
  ]
 },
 "nbformat": 4,
 "nbformat_minor": 5
}
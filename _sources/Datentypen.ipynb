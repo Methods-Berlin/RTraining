{
 "cells": [
  {
   "cell_type": "markdown",
   "id": "3de17ac6",
   "metadata": {},
   "source": [
    "# Datentypen\n",
    "\n",
    "<a href=https://raw.githubusercontent.com/Methods-Berlin/RTraining/main/Aufgaben_rmd/Datentypen.Rmd download=Datentypen.Rmd>RMarkdown-Datei mit Lösungen herunterladen</a>\n",
    "\n",
    "\n",
    "<a href=https://raw.githubusercontent.com/Methods-Berlin/RTraining/Rmd_ohne_Loesung/Rmd_ohne_Loesungen/Datentypen.Rmd download=Datentypen.Rmd>RMarkdown-Datei ohne Lösungen herunterladen</a>\n",
    "\n",
    "\n",
    "\n",
    "## Aufgabe 1\n",
    "\n",
    "Schreibe $74,678$ in R."
   ]
  },
  {
   "cell_type": "code",
   "execution_count": 1,
   "id": "358f5b99",
   "metadata": {},
   "outputs": [],
   "source": [
    "# Hier kannst du deine Lösung ausprobieren.\n",
    "\n"
   ]
  },
  {
   "cell_type": "markdown",
   "id": "82081e55",
   "metadata": {},
   "source": [
    "<!-- loesung: start-->"
   ]
  },
  {
   "cell_type": "code",
   "execution_count": 2,
   "id": "3f10389a",
   "metadata": {
    "tags": [
     "hide-cell"
    ]
   },
   "outputs": [
    {
     "data": {
      "text/html": [
       "74.678"
      ],
      "text/latex": [
       "74.678"
      ],
      "text/markdown": [
       "74.678"
      ],
      "text/plain": [
       "[1] 74.678"
      ]
     },
     "metadata": {},
     "output_type": "display_data"
    }
   ],
   "source": [
    "74.678"
   ]
  },
  {
   "cell_type": "markdown",
   "id": "4d33c29b",
   "metadata": {},
   "source": [
    "<!-- loesung: ende-->\n",
    "\n",
    "\n",
    "Könnte auch das Komma als Trennzeichen verwendet werden?\n",
    "\n",
    "<!-- loesung: start-->\n",
    "\n",
    "\n",
    "\n",
    "Nein, R verwendet nur den Punkt als Trennzeichen und gibt bei einem Komma eine Fehlermeldung aus."
   ]
  },
  {
   "cell_type": "code",
   "execution_count": 3,
   "id": "56b31988",
   "metadata": {
    "tags": [
     "hide-cell"
    ]
   },
   "outputs": [
    {
     "ename": "ERROR",
     "evalue": "Error in parse(text = x, srcfile = src): <text>:1:3: unexpected ','\n1: 74,\n      ^\n",
     "output_type": "error",
     "traceback": [
      "Error in parse(text = x, srcfile = src): <text>:1:3: unexpected ','\n1: 74,\n      ^\nTraceback:\n"
     ]
    }
   ],
   "source": [
    "74,678"
   ]
  },
  {
   "cell_type": "markdown",
   "id": "e59d965e",
   "metadata": {},
   "source": [
    "<!-- loesung: ende-->\n",
    "\n",
    "\n",
    "## Aufgabe 2\n",
    "\n",
    "Speichere die Nummer $4560$ einmal als Zahl(numeric) und einmal als Text (character). Benenne die Objekte `nummer1` und `nummer2`."
   ]
  },
  {
   "cell_type": "code",
   "execution_count": null,
   "id": "7cc8a496",
   "metadata": {},
   "outputs": [],
   "source": [
    "# Hier kannst du deine Lösung ausprobieren.\n",
    "\n"
   ]
  },
  {
   "cell_type": "markdown",
   "id": "e1f288e5",
   "metadata": {},
   "source": [
    "<!-- loesung: start-->"
   ]
  },
  {
   "cell_type": "code",
   "execution_count": null,
   "id": "d1bf43b8",
   "metadata": {
    "tags": [
     "hide-cell"
    ]
   },
   "outputs": [],
   "source": [
    "nummer1 <- 4560\n",
    "nummer2 <- \"4560\""
   ]
  },
  {
   "cell_type": "markdown",
   "id": "c8602c9e",
   "metadata": {},
   "source": [
    "<!-- loesung: ende-->\n",
    "\n",
    "\n",
    "## Aufgabe 3\n",
    "\n",
    "Stell dir vor, du hast einen Hund, der Baloo heißt, 10 kg wiegt und gerne spielt. Du möchtest diese drei Eigenschaften in R schreiben und unter verschiedenen Objekten speichern. Wie könntest du das machen?"
   ]
  },
  {
   "cell_type": "code",
   "execution_count": null,
   "id": "49d1b4c0",
   "metadata": {},
   "outputs": [],
   "source": [
    "# Hier kannst du deine Lösung ausprobieren.\n",
    "\n"
   ]
  },
  {
   "cell_type": "markdown",
   "id": "e3afa23d",
   "metadata": {},
   "source": [
    "<!-- loesung: start-->"
   ]
  },
  {
   "cell_type": "code",
   "execution_count": null,
   "id": "f4ffa98c",
   "metadata": {
    "tags": [
     "hide-cell"
    ]
   },
   "outputs": [],
   "source": [
    "name <- \"Baloo\"\n",
    "kg <- 10\n",
    "spiel <- TRUE"
   ]
  },
  {
   "cell_type": "markdown",
   "id": "1bf83f3f",
   "metadata": {},
   "source": [
    "<!-- loesung: ende-->\n",
    "\n",
    "\n",
    "Finde mit Hilfe der Funktion class() heraus, welchen Datentyp Variablen `name` und `spiel` haben."
   ]
  },
  {
   "cell_type": "code",
   "execution_count": null,
   "id": "eac02c1c",
   "metadata": {},
   "outputs": [],
   "source": [
    "# Hier kannst du deine Lösung ausprobieren.\n",
    "\n"
   ]
  },
  {
   "cell_type": "markdown",
   "id": "beba7500",
   "metadata": {},
   "source": [
    "<!-- loesung: start-->"
   ]
  },
  {
   "cell_type": "code",
   "execution_count": null,
   "id": "9ea1569e",
   "metadata": {
    "tags": [
     "hide-cell"
    ]
   },
   "outputs": [],
   "source": [
    "class(name)  # character\n",
    "class(kg)    # numeric\n",
    "class(spiel) # logical"
   ]
  },
  {
   "cell_type": "markdown",
   "id": "75301384",
   "metadata": {},
   "source": [
    "<!-- loesung: ende-->\n",
    "\n",
    "\n",
    "## Aufgabe 4\n",
    "\n",
    "Erstelle einen Faktor `farbe`, der drei verschiedene Farbalternativen enthält: blau, rot und grün."
   ]
  },
  {
   "cell_type": "code",
   "execution_count": null,
   "id": "e3689443",
   "metadata": {},
   "outputs": [],
   "source": [
    "# Hier kannst du deine Lösung ausprobieren.\n",
    "\n"
   ]
  },
  {
   "cell_type": "markdown",
   "id": "808a1c82",
   "metadata": {},
   "source": [
    "<!-- loesung: start-->"
   ]
  },
  {
   "cell_type": "code",
   "execution_count": null,
   "id": "f6545478",
   "metadata": {
    "tags": [
     "hide-cell"
    ]
   },
   "outputs": [],
   "source": [
    "farbe <- factor(levels = c(\"blau\", \"rot\", \"grün\"))"
   ]
  },
  {
   "cell_type": "markdown",
   "id": "977e9daf",
   "metadata": {},
   "source": [
    "<!-- loesung: ende-->"
   ]
  }
 ],
 "metadata": {
  "jupytext": {
   "formats": "md:myst",
   "text_representation": {
    "extension": ".md",
    "format_name": "myst",
    "format_version": 0.13,
    "jupytext_version": "1.11.5"
   }
  },
  "kernelspec": {
   "display_name": "R",
   "language": "R",
   "name": "ir"
  },
  "language_info": {
   "codemirror_mode": "r",
   "file_extension": ".r",
   "mimetype": "text/x-r-source",
   "name": "R",
   "pygments_lexer": "r",
   "version": "4.3.1"
  },
  "source_map": [
   13,
   28,
   32,
   37,
   42,
   56,
   61,
   71,
   75,
   80,
   86,
   96,
   100,
   105,
   112,
   120,
   124,
   129,
   136,
   146,
   150,
   156,
   161
  ]
 },
 "nbformat": 4,
 "nbformat_minor": 5
}
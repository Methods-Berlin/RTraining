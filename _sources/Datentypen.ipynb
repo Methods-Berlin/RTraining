{
 "cells": [
  {
   "cell_type": "markdown",
   "id": "0741aede",
   "metadata": {},
   "source": [
    "# Datentypen\n",
    "\n",
    "<a href=https://raw.githubusercontent.com/Methods-Berlin/RTraining/main/Aufgaben_rmd/Datentypen.Rmd download=Datentypen.Rmd>RMarkdown-Datei mit Lösungen herunterladen</a>\n",
    "\n",
    "\n",
    "<a href=https://raw.githubusercontent.com/Methods-Berlin/RTraining/Rmd_ohne_Loesung/Rmd_ohne_Loesungen/Datentypen.Rmd download=Datentypen.Rmd>RMarkdown-Datei ohne Lösungen herunterladen</a>\n",
    "\n",
    "\n",
    "\n",
    "Schreibe 74,678 in R."
   ]
  },
  {
   "cell_type": "code",
   "execution_count": 1,
   "id": "3cd81c3b",
   "metadata": {},
   "outputs": [],
   "source": [
    "# Hier kannst du deine Lösung ausprobieren.\n",
    "\n"
   ]
  },
  {
   "cell_type": "markdown",
   "id": "ced3aea4",
   "metadata": {},
   "source": [
    "<!-- loesung: start-->"
   ]
  },
  {
   "cell_type": "code",
   "execution_count": 2,
   "id": "cf6b5336",
   "metadata": {
    "tags": [
     "hide-cell"
    ]
   },
   "outputs": [
    {
     "data": {
      "text/html": [
       "74.678"
      ],
      "text/latex": [
       "74.678"
      ],
      "text/markdown": [
       "74.678"
      ],
      "text/plain": [
       "[1] 74.678"
      ]
     },
     "metadata": {},
     "output_type": "display_data"
    }
   ],
   "source": [
    "74.678"
   ]
  },
  {
   "cell_type": "markdown",
   "id": "8de5ac04",
   "metadata": {},
   "source": [
    "<!-- loesung: ende-->\n",
    "\n",
    "\n",
    "Könnte man auch das Komma als Trennzeichen benutzen? \n",
    "\n",
    "<!-- loesung: start-->\n",
    "\n",
    "\n",
    "\n",
    "Nein, R verwendet ausschließlich den Punkt als Trennzeichen und gibt beim Komma eine Fehlermeldung."
   ]
  },
  {
   "cell_type": "code",
   "execution_count": 3,
   "id": "a1feb8e4",
   "metadata": {
    "tags": [
     "hide-cell"
    ]
   },
   "outputs": [
    {
     "ename": "ERROR",
     "evalue": "Error in parse(text = x, srcfile = src): <text>:1:3: unexpected ','\n1: 74,\n      ^\n",
     "output_type": "error",
     "traceback": [
      "Error in parse(text = x, srcfile = src): <text>:1:3: unexpected ','\n1: 74,\n      ^\nTraceback:\n"
     ]
    }
   ],
   "source": [
    "74,678"
   ]
  },
  {
   "cell_type": "markdown",
   "id": "bb4cb8da",
   "metadata": {},
   "source": [
    "<!-- loesung: ende-->\n",
    "\n",
    "\n",
    "\n",
    "Speichere die Nummer 4560 einmal als Zahl und einmal als Text. Benne das Objekt \"nummer\"."
   ]
  },
  {
   "cell_type": "code",
   "execution_count": null,
   "id": "d4ac76e7",
   "metadata": {},
   "outputs": [],
   "source": [
    "# Hier kannst du deine Lösung ausprobieren.\n",
    "\n"
   ]
  },
  {
   "cell_type": "markdown",
   "id": "040cfa67",
   "metadata": {},
   "source": [
    "<!-- loesung: start-->"
   ]
  },
  {
   "cell_type": "code",
   "execution_count": null,
   "id": "39765212",
   "metadata": {
    "tags": [
     "hide-cell"
    ]
   },
   "outputs": [],
   "source": [
    "nummer <- 4560\n",
    "nummer <- \"4560\""
   ]
  },
  {
   "cell_type": "markdown",
   "id": "4c8ac60f",
   "metadata": {},
   "source": [
    "<!-- loesung: ende-->\n",
    "\n",
    "\n",
    "Stell dir vor, du hast einen Hund, der Baloo heißt, 10 Kg wiegt und gern spielt. Du möchtest diese 3 Merkmale in R schreiben und unter verschiedenen Objekten speichern. Wie könntest du das machen?"
   ]
  },
  {
   "cell_type": "code",
   "execution_count": null,
   "id": "d104994e",
   "metadata": {},
   "outputs": [],
   "source": [
    "# Hier kannst du deine Lösung ausprobieren.\n",
    "\n"
   ]
  },
  {
   "cell_type": "markdown",
   "id": "4bf88f74",
   "metadata": {},
   "source": [
    "<!-- loesung: start-->"
   ]
  },
  {
   "cell_type": "code",
   "execution_count": null,
   "id": "c0b32fc9",
   "metadata": {
    "tags": [
     "hide-cell"
    ]
   },
   "outputs": [],
   "source": [
    "name <- \"Baloo\"\n",
    "kg <- 10\n",
    "spiel <- TRUE"
   ]
  },
  {
   "cell_type": "markdown",
   "id": "f099aacc",
   "metadata": {},
   "source": [
    "<!-- loesung: ende-->\n",
    "\n",
    "\n",
    "Erstelle einen Faktor \"farben\" mit drei verschiedenen Farbalternativen: blau, rot und grün."
   ]
  },
  {
   "cell_type": "code",
   "execution_count": null,
   "id": "bacccd75",
   "metadata": {},
   "outputs": [],
   "source": [
    "# Hier kannst du deine Lösung ausprobieren.\n",
    "\n"
   ]
  },
  {
   "cell_type": "markdown",
   "id": "bc49a507",
   "metadata": {},
   "source": [
    "<!-- loesung: start-->"
   ]
  },
  {
   "cell_type": "code",
   "execution_count": null,
   "id": "e6974a26",
   "metadata": {
    "tags": [
     "hide-cell"
    ]
   },
   "outputs": [],
   "source": [
    "farben <- factor(levels = c(\"blau\", \"rot\", \"grün\"))"
   ]
  },
  {
   "cell_type": "markdown",
   "id": "ec803049",
   "metadata": {},
   "source": [
    "<!-- loesung: ende-->"
   ]
  }
 ],
 "metadata": {
  "jupytext": {
   "formats": "md:myst",
   "text_representation": {
    "extension": ".md",
    "format_name": "myst",
    "format_version": 0.13,
    "jupytext_version": "1.11.5"
   }
  },
  "kernelspec": {
   "display_name": "R",
   "language": "R",
   "name": "ir"
  },
  "language_info": {
   "codemirror_mode": "r",
   "file_extension": ".r",
   "mimetype": "text/x-r-source",
   "name": "R",
   "pygments_lexer": "r",
   "version": "4.2.3"
  },
  "source_map": [
   13,
   26,
   30,
   35,
   40,
   53,
   58,
   68,
   72,
   77,
   83,
   91,
   95,
   100,
   107,
   115,
   119,
   125,
   130
  ]
 },
 "nbformat": 4,
 "nbformat_minor": 5
}
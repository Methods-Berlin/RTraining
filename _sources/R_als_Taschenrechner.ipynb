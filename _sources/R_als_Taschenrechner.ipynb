{
 "cells": [
  {
   "cell_type": "markdown",
   "id": "07443ba4",
   "metadata": {},
   "source": [
    "# R als Taschenrechner \n",
    "\n",
    "<a href=https://raw.githubusercontent.com/Methods-Berlin/RTraining/main/Aufgaben_rmd/R_als_Taschenrechner.Rmd download=R_als_Taschenrechner.Rmd>RMarkdown-Datei mit Lösungen herunterladen</a>\n",
    "\n",
    "\n",
    "<a href=https://raw.githubusercontent.com/Methods-Berlin/RTraining/Rmd_ohne_Loesung/Rmd_ohne_Loesungen/R_als_Taschenrechner.Rmd download=R_als_Taschenrechner.Rmd>RMarkdown-Datei ohne Lösungen herunterladen</a>\n",
    "\n",
    "\n",
    "\n",
    "Multipliziere $17/4$ und $8$ und speichere es unter Objekt \"A\". Quadriere das Objekt und ziehe $52$ ab."
   ]
  },
  {
   "cell_type": "code",
   "execution_count": 1,
   "id": "41f1a8bf",
   "metadata": {},
   "outputs": [],
   "source": [
    "# Hier kannst du deine Lösung ausprobieren.\n",
    "\n"
   ]
  },
  {
   "cell_type": "markdown",
   "id": "138bf39d",
   "metadata": {},
   "source": [
    "<!-- loesung: start-->"
   ]
  },
  {
   "cell_type": "code",
   "execution_count": 2,
   "id": "9acaef9f",
   "metadata": {
    "tags": [
     "hide-cell"
    ]
   },
   "outputs": [
    {
     "data": {
      "text/html": [
       "1104"
      ],
      "text/latex": [
       "1104"
      ],
      "text/markdown": [
       "1104"
      ],
      "text/plain": [
       "[1] 1104"
      ]
     },
     "metadata": {},
     "output_type": "display_data"
    }
   ],
   "source": [
    "A <- (17/4) * 8\n",
    "A^2 - 52"
   ]
  },
  {
   "cell_type": "markdown",
   "id": "062bc305",
   "metadata": {},
   "source": [
    "<!-- loesung: ende-->\n",
    "\n",
    "\n",
    "Teile $3.5 - 5.67$ durch $76.76 * 7.8$ und multipliziere alles mit $2.3$. Speichere dies unter \"B\"."
   ]
  },
  {
   "cell_type": "code",
   "execution_count": 3,
   "id": "ddfe7c82",
   "metadata": {},
   "outputs": [],
   "source": [
    "# Hier kannst du deine Lösung ausprobieren.\n",
    "\n"
   ]
  },
  {
   "cell_type": "markdown",
   "id": "2ace5a97",
   "metadata": {},
   "source": [
    "<!-- loesung: start-->"
   ]
  },
  {
   "cell_type": "code",
   "execution_count": 4,
   "id": "f58c2fd1",
   "metadata": {
    "tags": [
     "hide-cell"
    ]
   },
   "outputs": [],
   "source": [
    "B <- ((3.5 - 5.67) / (76.76 * 7.8)) * 2.3"
   ]
  },
  {
   "cell_type": "markdown",
   "id": "2e4119cb",
   "metadata": {},
   "source": [
    "<!-- loesung: ende-->\n",
    "\n",
    "\n",
    "Berechne $3.3^4$ und speichere dies unter \"C\". Berechne dann folgendes mit den gespeicherten Objekten: \n",
    "\n",
    "* A + B + C \n",
    "* A/B + C\n",
    "* A * B * C"
   ]
  },
  {
   "cell_type": "code",
   "execution_count": 5,
   "id": "7d8bcc14",
   "metadata": {},
   "outputs": [],
   "source": [
    "# Hier kannst du deine Lösung ausprobieren.\n",
    "\n"
   ]
  },
  {
   "cell_type": "markdown",
   "id": "87fcc05b",
   "metadata": {},
   "source": [
    "<!-- loesung: start-->"
   ]
  },
  {
   "cell_type": "code",
   "execution_count": 6,
   "id": "8064d685",
   "metadata": {
    "tags": [
     "hide-cell"
    ]
   },
   "outputs": [
    {
     "data": {
      "text/html": [
       "152.583763994335"
      ],
      "text/latex": [
       "152.583763994335"
      ],
      "text/markdown": [
       "152.583763994335"
      ],
      "text/plain": [
       "[1] 152.5838"
      ]
     },
     "metadata": {},
     "output_type": "display_data"
    },
    {
     "data": {
      "text/html": [
       "-3960.09994568223"
      ],
      "text/latex": [
       "-3960.09994568223"
      ],
      "text/markdown": [
       "-3960.09994568223"
      ],
      "text/plain": [
       "[1] -3960.1"
      ]
     },
     "metadata": {},
     "output_type": "display_data"
    },
    {
     "data": {
      "text/html": [
       "-33.6118701938109"
      ],
      "text/latex": [
       "-33.6118701938109"
      ],
      "text/markdown": [
       "-33.6118701938109"
      ],
      "text/plain": [
       "[1] -33.61187"
      ]
     },
     "metadata": {},
     "output_type": "display_data"
    }
   ],
   "source": [
    "C <- 3.3 ^ 4\n",
    "\n",
    "A + B + C \n",
    "A/B + C\n",
    "A * B * C\n",
    "  "
   ]
  },
  {
   "cell_type": "markdown",
   "id": "3deda8cf",
   "metadata": {},
   "source": [
    "<!-- loesung: ende-->"
   ]
  }
 ],
 "metadata": {
  "jupytext": {
   "formats": "md:myst",
   "text_representation": {
    "extension": ".md",
    "format_name": "myst",
    "format_version": 0.13,
    "jupytext_version": "1.11.5"
   }
  },
  "kernelspec": {
   "display_name": "R",
   "language": "R",
   "name": "ir"
  },
  "language_info": {
   "codemirror_mode": "r",
   "file_extension": ".r",
   "mimetype": "text/x-r-source",
   "name": "R",
   "pygments_lexer": "r",
   "version": "4.2.3"
  },
  "source_map": [
   13,
   27,
   31,
   36,
   41,
   49,
   53,
   58,
   62,
   74,
   78,
   83,
   92
  ]
 },
 "nbformat": 4,
 "nbformat_minor": 5
}
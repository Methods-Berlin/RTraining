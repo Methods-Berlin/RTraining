{
 "cells": [
  {
   "cell_type": "markdown",
   "id": "ad2b3aa7",
   "metadata": {},
   "source": [
    "# R als Taschenrechner \n",
    "\n",
    "<a href=https://raw.githubusercontent.com/Methods-Berlin/RTraining/main/Aufgaben_rmd/R_als_Taschenrechner.Rmd download=R_als_Taschenrechner.Rmd>RMarkdown-Datei mit Lösungen herunterladen</a>\n",
    "\n",
    "\n",
    "<a href=https://raw.githubusercontent.com/Methods-Berlin/RTraining/Rmd_ohne_Loesung/Rmd_ohne_Loesungen/R_als_Taschenrechner.Rmd download=R_als_Taschenrechner.Rmd>RMarkdown-Datei ohne Lösungen herunterladen</a>\n",
    "\n",
    "\n",
    "\n",
    "## Aufgabe 1\n",
    "\n",
    "Berechne die folgende Gleichung in R:  $(17/4 * 8)^2 - 52$. Speichere das Ergebnis als `A`."
   ]
  },
  {
   "cell_type": "code",
   "execution_count": 1,
   "id": "50d83d07",
   "metadata": {},
   "outputs": [],
   "source": [
    "# Hier kannst du deine Lösung ausprobieren.\n",
    "\n"
   ]
  },
  {
   "cell_type": "markdown",
   "id": "a6dfd9a1",
   "metadata": {},
   "source": [
    "<!-- loesung: start-->"
   ]
  },
  {
   "cell_type": "code",
   "execution_count": 2,
   "id": "03514fc8",
   "metadata": {
    "tags": [
     "hide-cell"
    ]
   },
   "outputs": [
    {
     "data": {
      "text/html": [
       "1104"
      ],
      "text/latex": [
       "1104"
      ],
      "text/markdown": [
       "1104"
      ],
      "text/plain": [
       "[1] 1104"
      ]
     },
     "metadata": {},
     "output_type": "display_data"
    }
   ],
   "source": [
    "A <- (17/4) * 8\n",
    "A^2 - 52"
   ]
  },
  {
   "cell_type": "markdown",
   "id": "57ee9975",
   "metadata": {},
   "source": [
    "<!-- loesung: ende-->\n",
    "\n",
    "\n",
    "## Aufgabe 2\n",
    "\n",
    "Berechne die folgende Gleichung in R: $(3.5 - 5.67) / (76.26 * 7.8) * 2.3$. Speichere das Ergebnis als `B`."
   ]
  },
  {
   "cell_type": "code",
   "execution_count": 3,
   "id": "2f3b027c",
   "metadata": {},
   "outputs": [],
   "source": [
    "# Hier kannst du deine Lösung ausprobieren.\n",
    "\n"
   ]
  },
  {
   "cell_type": "markdown",
   "id": "097e03ae",
   "metadata": {},
   "source": [
    "<!-- loesung: start-->"
   ]
  },
  {
   "cell_type": "code",
   "execution_count": 4,
   "id": "0bf4dda2",
   "metadata": {
    "tags": [
     "hide-cell"
    ]
   },
   "outputs": [],
   "source": [
    "B <- ((3.5 - 5.67) / (76.26 * 7.8)) * 2.3"
   ]
  },
  {
   "cell_type": "markdown",
   "id": "6c328d0b",
   "metadata": {},
   "source": [
    "<!-- loesung: ende-->\n",
    "\n",
    "\n",
    "## Aufgabe 3\n",
    "\n",
    "Berechne die folgendes in R: $3.3^4$. Speichere das Ergebnis als `C` und berechne die folgenden Gleichungen mit den bisher gespeicherten Objekten: \n",
    "\n",
    "* $A + B + C$ \n",
    "* $A/B + C$\n",
    "* $A * B * C$"
   ]
  },
  {
   "cell_type": "code",
   "execution_count": 5,
   "id": "78d4f5bf",
   "metadata": {},
   "outputs": [],
   "source": [
    "# Hier kannst du deine Lösung ausprobieren.\n",
    "\n"
   ]
  },
  {
   "cell_type": "markdown",
   "id": "b68a6862",
   "metadata": {},
   "source": [
    "<!-- loesung: start-->"
   ]
  },
  {
   "cell_type": "code",
   "execution_count": 6,
   "id": "6ee4721f",
   "metadata": {
    "tags": [
     "hide-cell"
    ]
   },
   "outputs": [
    {
     "data": {
      "text/html": [
       "152.58370933917"
      ],
      "text/latex": [
       "152.58370933917"
      ],
      "text/markdown": [
       "152.58370933917"
      ],
      "text/plain": [
       "[1] 152.5837"
      ]
     },
     "metadata": {},
     "output_type": "display_data"
    },
    {
     "data": {
      "text/html": [
       "-3933.53212360248"
      ],
      "text/latex": [
       "-3933.53212360248"
      ],
      "text/markdown": [
       "-3933.53212360248"
      ],
      "text/plain": [
       "[1] -3933.532"
      ]
     },
     "metadata": {},
     "output_type": "display_data"
    },
    {
     "data": {
      "text/html": [
       "-33.8322469981238"
      ],
      "text/latex": [
       "-33.8322469981238"
      ],
      "text/markdown": [
       "-33.8322469981238"
      ],
      "text/plain": [
       "[1] -33.83225"
      ]
     },
     "metadata": {},
     "output_type": "display_data"
    }
   ],
   "source": [
    "C <- 3.3 ^ 4\n",
    "\n",
    "A + B + C \n",
    "A/B + C\n",
    "A * B * C\n",
    "  "
   ]
  },
  {
   "cell_type": "markdown",
   "id": "f4ff0556",
   "metadata": {},
   "source": [
    "<!-- loesung: ende-->"
   ]
  }
 ],
 "metadata": {
  "jupytext": {
   "formats": "md:myst",
   "text_representation": {
    "extension": ".md",
    "format_name": "myst",
    "format_version": 0.13,
    "jupytext_version": "1.11.5"
   }
  },
  "kernelspec": {
   "display_name": "R",
   "language": "R",
   "name": "ir"
  },
  "language_info": {
   "codemirror_mode": "r",
   "file_extension": ".r",
   "mimetype": "text/x-r-source",
   "name": "R",
   "pygments_lexer": "r",
   "version": "4.3.1"
  },
  "source_map": [
   13,
   29,
   33,
   38,
   44,
   54,
   58,
   63,
   68,
   82,
   86,
   91,
   100
  ]
 },
 "nbformat": 4,
 "nbformat_minor": 5
}
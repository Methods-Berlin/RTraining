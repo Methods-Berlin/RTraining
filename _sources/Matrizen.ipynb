{
 "cells": [
  {
   "cell_type": "markdown",
   "id": "169e0831",
   "metadata": {},
   "source": [
    "# Matrizen \n",
    "\n",
    "<a href=https://raw.githubusercontent.com/Methods-Berlin/RTraining/main/Aufgaben_rmd/Matrizen.Rmd download=Matrizen.Rmd>RMarkdown-Datei mit Lösungen herunterladen</a>\n",
    "\n",
    "\n",
    "<a href=https://raw.githubusercontent.com/Methods-Berlin/RTraining/Rmd_ohne_Loesung/Rmd_ohne_Loesungen/Matrizen.Rmd download=Matrizen.Rmd>RMarkdown-Datei ohne Lösungen herunterladen</a>\n",
    "\n",
    "\n",
    "Erstelle eine Matrix \"m_1\" mit den Werten 4, 7, 9, 2. Die Matrix soll 2 Zeilen und 2 Spalten enthalten und die Werte sollen zeilenweise eingetragen werden. Greife die 1. Zeile heraus."
   ]
  },
  {
   "cell_type": "code",
   "execution_count": 1,
   "id": "e82d0a25",
   "metadata": {},
   "outputs": [],
   "source": [
    "# Hier kannst du deine Lösung ausprobieren.\n",
    "\n"
   ]
  },
  {
   "cell_type": "markdown",
   "id": "605e770e",
   "metadata": {},
   "source": [
    "<!-- loesung: start-->"
   ]
  },
  {
   "cell_type": "code",
   "execution_count": 2,
   "id": "5cd1b5e3",
   "metadata": {
    "tags": [
     "hide-cell"
    ]
   },
   "outputs": [
    {
     "data": {
      "text/html": [
       "<style>\n",
       ".list-inline {list-style: none; margin:0; padding: 0}\n",
       ".list-inline>li {display: inline-block}\n",
       ".list-inline>li:not(:last-child)::after {content: \"\\00b7\"; padding: 0 .5ex}\n",
       "</style>\n",
       "<ol class=list-inline><li>4</li><li>7</li></ol>\n"
      ],
      "text/latex": [
       "\\begin{enumerate*}\n",
       "\\item 4\n",
       "\\item 7\n",
       "\\end{enumerate*}\n"
      ],
      "text/markdown": [
       "1. 4\n",
       "2. 7\n",
       "\n",
       "\n"
      ],
      "text/plain": [
       "[1] 4 7"
      ]
     },
     "metadata": {},
     "output_type": "display_data"
    }
   ],
   "source": [
    "m_1 <- matrix(data = c(4, 7, 9, 2), nrow = 2, ncol = 2, byrow = TRUE)\n",
    "\n",
    "m_1[1, ]"
   ]
  },
  {
   "cell_type": "markdown",
   "id": "297e46be",
   "metadata": {},
   "source": [
    "<!-- loesung: ende-->\n",
    "\n",
    "\n",
    "Erstelle eine Matrix \"m_2\" mit den Werten 7, 3, 0, 5, 6. Die Matrix soll 2 Zeilen und 2 Spalten enthalten und die Werte sollen spaltenweise eingetragen werden. Greife die 2. Spalte heraus."
   ]
  },
  {
   "cell_type": "code",
   "execution_count": 3,
   "id": "d24b7f6c",
   "metadata": {},
   "outputs": [],
   "source": [
    "# Hier kannst du deine Lösung ausprobieren.\n",
    "\n"
   ]
  },
  {
   "cell_type": "markdown",
   "id": "2b9c50a6",
   "metadata": {},
   "source": [
    "<!-- loesung: start-->"
   ]
  },
  {
   "cell_type": "code",
   "execution_count": 4,
   "id": "59d34a46",
   "metadata": {
    "tags": [
     "hide-cell"
    ]
   },
   "outputs": [
    {
     "data": {
      "text/html": [
       "<style>\n",
       ".list-inline {list-style: none; margin:0; padding: 0}\n",
       ".list-inline>li {display: inline-block}\n",
       ".list-inline>li:not(:last-child)::after {content: \"\\00b7\"; padding: 0 .5ex}\n",
       "</style>\n",
       "<ol class=list-inline><li>0</li><li>5</li></ol>\n"
      ],
      "text/latex": [
       "\\begin{enumerate*}\n",
       "\\item 0\n",
       "\\item 5\n",
       "\\end{enumerate*}\n"
      ],
      "text/markdown": [
       "1. 0\n",
       "2. 5\n",
       "\n",
       "\n"
      ],
      "text/plain": [
       "[1] 0 5"
      ]
     },
     "metadata": {},
     "output_type": "display_data"
    }
   ],
   "source": [
    "m_2 <- matrix(data = c(7, 3, 0, 5), nrow = 2, ncol = 2, byrow = FALSE)\n",
    "\n",
    "m_2[ , 2]"
   ]
  },
  {
   "cell_type": "markdown",
   "id": "7ebe0579",
   "metadata": {},
   "source": [
    "<!-- loesung: ende-->\n",
    "\n",
    "\n",
    "Erstelle eine Matrix \"m_3\" mit den Werten 6, 1, 1, 9, 11, 15. Die Matrix soll 3 Zeilen und 3 Spalten enthalten und die Werte sollen spaltenweise eingetragen werden. Greife den Wert in der 3. Zeile und 2. Spalte heraus."
   ]
  },
  {
   "cell_type": "code",
   "execution_count": 5,
   "id": "9e90c0d4",
   "metadata": {},
   "outputs": [],
   "source": [
    "# Hier kannst du deine Lösung ausprobieren.\n",
    "\n"
   ]
  },
  {
   "cell_type": "markdown",
   "id": "09f5ffcc",
   "metadata": {},
   "source": [
    "<!-- loesung: start-->"
   ]
  },
  {
   "cell_type": "code",
   "execution_count": 6,
   "id": "b3b0135d",
   "metadata": {
    "tags": [
     "hide-cell"
    ]
   },
   "outputs": [
    {
     "data": {
      "text/html": [
       "15"
      ],
      "text/latex": [
       "15"
      ],
      "text/markdown": [
       "15"
      ],
      "text/plain": [
       "[1] 15"
      ]
     },
     "metadata": {},
     "output_type": "display_data"
    }
   ],
   "source": [
    "m_3 <- matrix(data = c(6, 1, 1, 9, 11, 15), nrow = 3, ncol = 2, byrow = FALSE)\n",
    "\n",
    "m_3[3, 2]"
   ]
  },
  {
   "cell_type": "markdown",
   "id": "d64fafd4",
   "metadata": {},
   "source": [
    "<!-- loesung: ende-->"
   ]
  }
 ],
 "metadata": {
  "jupytext": {
   "formats": "md:myst",
   "text_representation": {
    "extension": ".md",
    "format_name": "myst",
    "format_version": 0.13,
    "jupytext_version": "1.11.5"
   }
  },
  "kernelspec": {
   "display_name": "R",
   "language": "R",
   "name": "ir"
  },
  "language_info": {
   "codemirror_mode": "r",
   "file_extension": ".r",
   "mimetype": "text/x-r-source",
   "name": "R",
   "pygments_lexer": "r",
   "version": "4.2.3"
  },
  "source_map": [
   13,
   26,
   30,
   35,
   42,
   50,
   54,
   59,
   66,
   74,
   78,
   83,
   90
  ]
 },
 "nbformat": 4,
 "nbformat_minor": 5
}
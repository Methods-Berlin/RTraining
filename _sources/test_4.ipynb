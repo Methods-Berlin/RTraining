{
 "cells": [
  {
   "cell_type": "markdown",
   "id": "f854a5bb",
   "metadata": {},
   "source": [
    "## Test Dokument\n",
    "\n",
    "<a href=https://raw.githubusercontent.com/Methods-Berlin/RTraining/main/Aufgaben_rmd/test_4.Rmd download=test_4.Rmd>RMarkdown-Datei herunterladen</a>\n",
    "\n",
    "\n",
    "### Erstes Thema \n",
    "\n",
    "\n",
    "<details>\n",
    "Dies ist ein versteckter Textbaustein.\n",
    "</details> \n",
    "\n",
    "#### Unterthema \n",
    "\n",
    "- Liste\n",
    "- Liste\n",
    "\n",
    "Gleichung: $e^{i\\pi} = -1$\n",
    "\n",
    "1. abc\n",
    "2. def\n",
    "3. ghi\n",
    "\n",
    "##### Unterunterthema\n",
    "\n",
    "- Liste\n",
    "- Liste\n",
    "\n",
    "Gleichung: $e^{i\\pi} = -1$\n",
    "\n",
    "1. abc\n",
    "2. def\n",
    "3. ghi\n",
    "\n",
    "### Zweites Thema"
   ]
  },
  {
   "cell_type": "code",
   "execution_count": 1,
   "id": "9887bc82",
   "metadata": {
    "tags": [
     "hide-cell"
    ]
   },
   "outputs": [
    {
     "data": {
      "text/html": [
       "21"
      ],
      "text/latex": [
       "21"
      ],
      "text/markdown": [
       "21"
      ],
      "text/plain": [
       "[1] 21"
      ]
     },
     "metadata": {},
     "output_type": "display_data"
    }
   ],
   "source": [
    "7*3"
   ]
  },
  {
   "cell_type": "code",
   "execution_count": null,
   "id": "3cc71aab",
   "metadata": {
    "tags": [
     "remove-input"
    ]
   },
   "outputs": [],
   "source": []
  }
 ],
 "metadata": {
  "jupytext": {
   "formats": "md:myst",
   "text_representation": {
    "extension": ".md",
    "format_name": "myst",
    "format_version": 0.13,
    "jupytext_version": "1.11.5"
   }
  },
  "kernelspec": {
   "display_name": "R",
   "language": "R",
   "name": "ir"
  },
  "language_info": {
   "codemirror_mode": "r",
   "file_extension": ".r",
   "mimetype": "text/x-r-source",
   "name": "R",
   "pygments_lexer": "r",
   "version": "4.2.3"
  },
  "source_map": [
   13,
   54,
   62
  ]
 },
 "nbformat": 4,
 "nbformat_minor": 5
}